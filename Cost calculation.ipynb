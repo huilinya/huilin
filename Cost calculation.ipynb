{
 "cells": [
  {
   "cell_type": "code",
   "execution_count": 1,
   "id": "cae4bafa",
   "metadata": {},
   "outputs": [],
   "source": [
    "import pandas as pd\n",
    "import numpy as np\n",
    "import scienceplots as sp\n",
    "import matplotlib.pyplot as plt"
   ]
  },
  {
   "cell_type": "code",
   "execution_count": 2,
   "id": "850e2838",
   "metadata": {},
   "outputs": [],
   "source": [
    "EM=pd.read_csv(\"Emission trajectories.csv\")#排放量文件\n",
    "PR=pd.read_excel(\"pyplot.xlsx\",sheet_name=\"Price\")#碳价文件\n",
    "CP2025=pd.read_csv(\"New Capacity2025.csv\")#补贴增加的capacity文件\n",
    "SD1=pd.read_excel(\"cost_reduction_v3.xlsx\", sheet_name=\"wind and solar\")#补贴量文件\n",
    "SD2=pd.read_excel(\"cost_reduction_v3.xlsx\", sheet_name=\"other REs\")#补贴量文件"
   ]
  },
  {
   "cell_type": "code",
   "execution_count": 3,
   "id": "e08716a5",
   "metadata": {},
   "outputs": [],
   "source": [
    "Year=EM[\"Year\"]\n",
    "EmB=EM[\"Baseline Emissions\"]\n",
    "EmPO=EM[\"Pork Emissions\"]\n",
    "Price=PR[\"Price\"]"
   ]
  },
  {
   "cell_type": "code",
   "execution_count": 4,
   "id": "3cb84dc3",
   "metadata": {},
   "outputs": [
    {
     "name": "stdout",
     "output_type": "stream",
     "text": [
      "2025\n",
      "2030\n",
      "2035\n",
      "2040\n",
      "2045\n",
      "2050\n",
      "6\n",
      "Unit: million 1990$\n"
     ]
    }
   ],
   "source": [
    "ED=[]#emission difference\n",
    "Spending1=[]\n",
    "for i in range(4,10):#2025~2050\n",
    "    EDi=EmB[i]-EmPO[i]\n",
    "    ED.append(EDi)\n",
    "    spending=(EDi*Price[i-4])*12/44  #1990$/tC\n",
    "    Spending1.append(spending)\n",
    "    print(Year[i])\n",
    "print(len(ED))\n",
    "print(\"Unit: million 1990$\")"
   ]
  },
  {
   "cell_type": "code",
   "execution_count": 5,
   "id": "969d8114",
   "metadata": {},
   "outputs": [
    {
     "data": {
      "text/plain": [
       "Text(0.5, 1.0, 'Carbon pricing cost, million 1990$')"
      ]
     },
     "execution_count": 5,
     "metadata": {},
     "output_type": "execute_result"
    },
    {
     "data": {
      "image/png": "[encoded data removed]",
      "text/plain": [
       "<Figure size 432x288 with 1 Axes>"
      ]
     },
     "metadata": {
      "needs_background": "light"
     },
     "output_type": "display_data"
    }
   ],
   "source": [
    "Year2=Year[4:10]\n",
    "plt.plot(Year2, Spending1)\n",
    "plt.title(\"Carbon pricing cost, million 1990$\")"
   ]
  },
  {
   "cell_type": "code",
   "execution_count": 7,
   "id": "a0ce643f",
   "metadata": {},
   "outputs": [],
   "source": [
    "NewCost2=SD2[\"New cost\"]\n",
    "OldCost2=SD2[\"Originalcost\"]\n",
    "CA=CP2025[\"Capacity added,kW\"]\n",
    "Time=SD2[\"Year\"]"
   ]
  },
  {
   "cell_type": "code",
   "execution_count": 8,
   "id": "0bcf61c6",
   "metadata": {},
   "outputs": [],
   "source": [
    "#this paragraph should identify technologies and make a new table consisting: technology in 2025, their old cost, their new cost"
   ]
  },
  {
   "cell_type": "code",
   "execution_count": 9,
   "id": "c44e4a1b",
   "metadata": {},
   "outputs": [
    {
     "name": "stdout",
     "output_type": "stream",
     "text": [
      "1    biomass (conv) (cooling pond),year=2025\n",
      "2                wind_base_storage,year=2025\n",
      "3       geothermal (recirculating),year=2025\n",
      "4      CSP_subpeak (recirculating),year=2025\n",
      "Name: Technology, dtype: object\n",
      "1    biomass (conv) (cooling pond)\n",
      "2                wind_base_storage\n",
      "3       geothermal (recirculating)\n",
      "4      CSP_subpeak (recirculating)\n",
      "Name: Technology, dtype: object\n"
     ]
    },
    {
     "name": "stderr",
     "output_type": "stream",
     "text": [
      "C:\\Users\\Huilin\\AppData\\Local\\Temp\\ipykernel_12900\\2489439838.py:6: SettingWithCopyWarning: \n",
      "A value is trying to be set on a copy of a slice from a DataFrame\n",
      "\n",
      "See the caveats in the documentation: https://pandas.pydata.org/pandas-docs/stable/user_guide/indexing.html#returning-a-view-versus-a-copy\n",
      "  Tech[i] = Tech[i].replace(',year=2025','')\n"
     ]
    }
   ],
   "source": [
    "#technology-去掉\"year=2025\"\n",
    "Tech=CP2025[\"Technology\"]\n",
    "\n",
    "print(Tech[1:5])\n",
    "for i in range(len(Tech)):\n",
    "    Tech[i] = Tech[i].replace(',year=2025','')\n",
    "print(Tech[1:5])"
   ]
  },
  {
   "cell_type": "code",
   "execution_count": 10,
   "id": "f78740be",
   "metadata": {},
   "outputs": [
    {
     "name": "stdout",
     "output_type": "stream",
     "text": [
      "name=gas (CC) (seawater)\n",
      "0.0\n",
      "name=biomass (conv) (cooling pond)\n",
      "412.0\n",
      "name=wind_base_storage\n"
     ]
    },
    {
     "ename": "IndexError",
     "evalue": "list index out of range",
     "output_type": "error",
     "traceback": [
      "\u001b[1;31m---------------------------------------------------------------------------\u001b[0m",
      "\u001b[1;31mIndexError\u001b[0m                                Traceback (most recent call last)",
      "Input \u001b[1;32mIn [10]\u001b[0m, in \u001b[0;36m<cell line: 5>\u001b[1;34m()\u001b[0m\n\u001b[0;32m     11\u001b[0m         DF \u001b[38;5;241m=\u001b[39m SD2[(SD2[\u001b[38;5;124m\"\u001b[39m\u001b[38;5;124mTechnology\u001b[39m\u001b[38;5;124m\"\u001b[39m] \u001b[38;5;241m==\u001b[39m tech_name) \u001b[38;5;241m&\u001b[39m (SD2[\u001b[38;5;124m\"\u001b[39m\u001b[38;5;124mYear\u001b[39m\u001b[38;5;124m\"\u001b[39m] \u001b[38;5;241m==\u001b[39m \u001b[38;5;241m2025\u001b[39m) \u001b[38;5;241m&\u001b[39m (SD2[\u001b[38;5;124m\"\u001b[39m\u001b[38;5;124mCost type\u001b[39m\u001b[38;5;124m\"\u001b[39m] \u001b[38;5;241m==\u001b[39m \u001b[38;5;28mtype\u001b[39m)]\n\u001b[0;32m     12\u001b[0m \u001b[38;5;66;03m#         print(DF[\"Originalcost\"].tolist()[0])\u001b[39;00m\n\u001b[1;32m---> 13\u001b[0m         original_cost \u001b[38;5;241m=\u001b[39m \u001b[43mDF\u001b[49m\u001b[43m[\u001b[49m\u001b[38;5;124;43m\"\u001b[39;49m\u001b[38;5;124;43mOriginalcost\u001b[39;49m\u001b[38;5;124;43m\"\u001b[39;49m\u001b[43m]\u001b[49m\u001b[38;5;241;43m.\u001b[39;49m\u001b[43mtolist\u001b[49m\u001b[43m(\u001b[49m\u001b[43m)\u001b[49m\u001b[43m[\u001b[49m\u001b[38;5;241;43m0\u001b[39;49m\u001b[43m]\u001b[49m\n\u001b[0;32m     14\u001b[0m         new_cost \u001b[38;5;241m=\u001b[39m DF[\u001b[38;5;124m\"\u001b[39m\u001b[38;5;124mNew cost\u001b[39m\u001b[38;5;124m\"\u001b[39m]\u001b[38;5;241m.\u001b[39mtolist()[\u001b[38;5;241m0\u001b[39m]\n\u001b[0;32m     15\u001b[0m         cost_diff \u001b[38;5;241m=\u001b[39m original_cost \u001b[38;5;241m-\u001b[39m new_cost\n",
      "\u001b[1;31mIndexError\u001b[0m: list index out of range"
     ]
    }
   ],
   "source": [
    "Tech=CP2025[\"Technology\"]\n",
    "Cost_diff=[]\n",
    "\n",
    "# for i in range(len(Tech)):\n",
    "for i in range(5):\n",
    "    tech_name = \"name=\" + Tech[i].replace(',year=2025','')\n",
    "    print(tech_name)\n",
    "    Total_cost_diff=0\n",
    "    for type in [\"name=capital\", \"name=cooling system\"]:\n",
    "       \n",
    "        DF = SD2[(SD2[\"Technology\"] == tech_name) & (SD2[\"Year\"] == 2025) & (SD2[\"Cost type\"] == type)]\n",
    "#         print(DF[\"Originalcost\"].tolist()[0])\n",
    "        original_cost = DF[\"Originalcost\"].tolist()[0]\n",
    "        new_cost = DF[\"New cost\"].tolist()[0]\n",
    "        cost_diff = original_cost - new_cost\n",
    "        Total_cost_diff=Total_cost_diff+cost_diff\n",
    "    Cost_diff.append(Total_cost_diff)\n",
    "    print(Cost_diff[i])"
   ]
  },
  {
   "cell_type": "code",
   "execution_count": 36,
   "id": "7bb5f036",
   "metadata": {},
   "outputs": [
    {
     "ename": "SyntaxError",
     "evalue": "invalid syntax (2660178631.py, line 3)",
     "output_type": "error",
     "traceback": [
      "\u001b[1;36m  Input \u001b[1;32mIn [36]\u001b[1;36m\u001b[0m\n\u001b[1;33m    if Time[i]=2025:\u001b[0m\n\u001b[1;37m              ^\u001b[0m\n\u001b[1;31mSyntaxError\u001b[0m\u001b[1;31m:\u001b[0m invalid syntax\n"
     ]
    }
   ],
   "source": [
    "Subsidy=[]\n",
    "for i in range(len(OldCost2)):\n",
    "    if Time[i]=2025:\n",
    "        if \n",
    "        Subsidy.append(NewCost2*)"
   ]
  },
  {
   "cell_type": "code",
   "execution_count": 32,
   "id": "7b14b228",
   "metadata": {},
   "outputs": [
    {
     "name": "stdout",
     "output_type": "stream",
     "text": [
      "3990037.244193049\n",
      "3027.1730906974663\n",
      "902480.5526416828\n",
      "2374611.872146119\n",
      "107035.3710045662\n",
      "21117.162163876204\n",
      "264244.03413559106\n",
      "633587.6883561644\n",
      "29160554.135508347\n",
      "10542184.4838392\n",
      "288196.2555165712\n",
      "4075918.311136477\n",
      "289389.0125570776\n",
      "366357.0833706389\n",
      "1774945.2070649418\n",
      "322018.0102292058\n",
      "158271.47545662097\n",
      "1251507.6361836472\n",
      "358553.048698313\n",
      "33372630.04185693\n",
      "1505.8018846808131\n",
      "40465.98069060197\n",
      "633587.6883561644\n",
      "107035.3710045662\n",
      "79672727.73720244\n",
      "21117.162163876204\n",
      "6999728.211443418\n",
      "1565.8751977198792\n",
      "1977.3069060196376\n",
      "1953.93276031874\n",
      "48336.03402956145\n",
      "18509580.986808725\n",
      "523751.3947552004\n",
      "708062.3322995942\n",
      "9227576.382801484\n",
      "35\n"
     ]
    }
   ],
   "source": [
    "SUB=[]#subsidy*capacity\n",
    "for i in range(len(CA)):\n",
    "    SUB.append(CA[i]*(OldCost2[i]-NewCost2[i]))\n",
    "    print(CA[i])\n",
    "print(len(SUB))"
   ]
  },
  {
   "cell_type": "code",
   "execution_count": null,
   "id": "aeb0aa69",
   "metadata": {},
   "outputs": [],
   "source": []
  },
  {
   "cell_type": "code",
   "execution_count": 34,
   "id": "0643c47c",
   "metadata": {},
   "outputs": [
    {
     "data": {
      "text/plain": [
       "<BarContainer object of 6 artists>"
      ]
     },
     "execution_count": 34,
     "metadata": {},
     "output_type": "execute_result"
    },
    {
     "data": {
      "image/png": "[encoded data removed]",
      "text/plain": [
       "<Figure size 432x288 with 1 Axes>"
      ]
     },
     "metadata": {
      "needs_background": "light"
     },
     "output_type": "display_data"
    }
   ],
   "source": [
    "#Years=[2025,2030,2035,2040,2045,2050]\n",
    "plt.bar(Year2, Spending1)\n",
    "plt.bar(Year2, SUB, bottom=Spending1)"
   ]
  },
  {
   "cell_type": "code",
   "execution_count": null,
   "id": "85fe0cca",
   "metadata": {},
   "outputs": [],
   "source": [
    "GEN_all_years = np.array([F2025, F2030, F2035, F2040, F2045, F2050])\n",
    "print(GEN_all_years[:, 0])\n",
    "# len(GenTechClean)\n",
    "Year=[\"2025\",\"2030\",\"2035\",\"2040\",\"2045\",\"2050\"]\n",
    "#Year=[\"1990\",\"2005\",\"2010\",\"2015\",\"2020\",\"2025\",\"2030\",\"2035\",\"2040\",\"2045\",\"2050\"]\n",
    "# 绘图\n",
    "\n",
    "\n",
    "# plt.style.use(['science', 'no-latex'])\n",
    "#with plt.style.use('science'):\n",
    "    # 图形和轴\n",
    "colormap = mpl.cm.Set3.colors\n",
    "fig, ax = plt.subplots(1, figsize=(12, 10))\n",
    "bottom = len(Year) * [0]\n",
    "for i in range(len(Fuels)):\n",
    "    plt.bar(Year, GEN_all_years[:, i], bottom = bottom, label = Fuels[i], color=colormap[i])\n",
    "    bottom += GEN_all_years[:, i]\n",
    "# for idx, name in enumerate(fields):\n",
    "#     plt.barh(df_grouped.index, df_grouped[name], left = left, color=colors[idx])\n",
    "#     left = left + df_grouped[name]\n",
    "\n",
    "# 标题、图例、标签\n",
    "plt.title('Total generation by sector, EJ (Original)', loc='left')\n",
    "# plt.legend(labels, bbox_to_anchor=([0.55, 1, 0, 0]), ncol=4, frameon=False)\n",
    "plt.ylabel('Generation, EJ')\n",
    "plt.xlabel(\"Year\")\n",
    "plt.legend()"
   ]
  }
 ],
 "metadata": {
  "kernelspec": {
   "display_name": "Python 3 (ipykernel)",
   "language": "python",
   "name": "python3"
  },
  "language_info": {
   "codemirror_mode": {
    "name": "ipython",
    "version": 3
   },
   "file_extension": ".py",
   "mimetype": "text/x-python",
   "name": "python",
   "nbconvert_exporter": "python",
   "pygments_lexer": "ipython3",
   "version": "3.9.12"
  }
 },
 "nbformat": 4,
 "nbformat_minor": 5
}
