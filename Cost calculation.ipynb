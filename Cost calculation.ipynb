{
 "cells": [
  {
   "cell_type": "code",
   "execution_count": 1,
   "id": "cae4bafa",
   "metadata": {},
   "outputs": [],
   "source": [
    "import pandas as pd\n",
    "import numpy as np\n",
    "import scienceplots as sp\n",
    "import matplotlib.pyplot as plt"
   ]
  },
  {
   "cell_type": "code",
   "execution_count": 2,
   "id": "850e2838",
   "metadata": {},
   "outputs": [],
   "source": [
    "EM=pd.read_csv(\"Emission trajectories.csv\")#排放量文件\n",
    "PR=pd.read_excel(\"pyplot.xlsx\",sheet_name=\"Price\")#碳价文件\n",
    "CP2025=pd.read_csv(\"New Capacity2025-pork.csv\")#补贴增加的capacity文件\n",
    "CP2030=pd.read_csv(\"New Capacity2030-pork.csv\")\n",
    "CP2035=pd.read_csv(\"New Capacity2035-pork.csv\")\n",
    "CP2040=pd.read_csv(\"New Capacity2040-pork.csv\")\n",
    "CP2045=pd.read_csv(\"New Capacity2045-pork.csv\")\n",
    "CP2050=pd.read_csv(\"New Capacity2050-pork.csv\")\n",
    "\n",
    "SD1=pd.read_excel(\"cost_reduction_v4.xlsx\", sheet_name=\"wind and solar\")#补贴量文件\n",
    "SD2=pd.read_excel(\"cost_reduction_v4.xlsx\", sheet_name=\"other REs\")#补贴量文件"
   ]
  },
  {
   "cell_type": "code",
   "execution_count": 3,
   "id": "e08716a5",
   "metadata": {},
   "outputs": [],
   "source": [
    "Year=EM[\"Year\"]\n",
    "EmB=EM[\"Baseline Emissions\"]\n",
    "EmPO=EM[\"Pork Emissions\"]\n",
    "EmPaS=EM[\"Pork-and-stick emissions\"]\n",
    "Price=PR[\"Price\"]"
   ]
  },
  {
   "cell_type": "code",
   "execution_count": 4,
   "id": "3cb84dc3",
   "metadata": {},
   "outputs": [],
   "source": [
    "ED=[]#emission difference\n",
    "Spending1=[]\n",
    "for i in range(4,10):#2025~2050\n",
    "    EDi=EmB[i]-EmPO[i]\n",
    "    ED.append(EDi)\n",
    "    spending=(EDi*Price[i-4])*12/44  #1990$/tC\n",
    "    Spending1.append(spending)\n",
    "    #print(Year[i])\n",
    "#print(len(ED))\n",
    "#print(\"Unit: million 1990$\")"
   ]
  },
  {
   "cell_type": "code",
   "execution_count": 5,
   "id": "969d8114",
   "metadata": {},
   "outputs": [
    {
     "data": {
      "text/plain": [
       "Text(0.5, 1.0, 'Carbon pricing cost, million 1990$')"
      ]
     },
     "execution_count": 5,
     "metadata": {},
     "output_type": "execute_result"
    },
    {
     "data": {
      "image/png": "[encoded data removed]",
      "text/plain": [
       "<Figure size 432x288 with 1 Axes>"
      ]
     },
     "metadata": {
      "needs_background": "light"
     },
     "output_type": "display_data"
    }
   ],
   "source": [
    "Year2=Year[4:10]\n",
    "plt.plot(Year2, Spending1)\n",
    "plt.title(\"Carbon pricing cost, million 1990$\")"
   ]
  },
  {
   "cell_type": "code",
   "execution_count": 6,
   "id": "a0ce643f",
   "metadata": {},
   "outputs": [],
   "source": [
    "NewCost2=SD2[\"New cost\"]\n",
    "OldCost2=SD2[\"Originalcost\"]\n",
    "CA2025=CP2025[\"Capacity added,kW\"]\n",
    "CA2030=CP2030[\"Capacity added,kW\"]\n",
    "CA2035=CP2035[\"Capacity added,kW\"]\n",
    "CA2040=CP2040[\"Capacity added,kW\"]\n",
    "CA2045=CP2045[\"Capacity added,kW\"]\n",
    "CA2050=CP2050[\"Capacity added,kW\"]\n",
    "CA=[CA2025,CA2030,CA2035,CA2040,CA2045,CA2050]\n",
    "Time=SD2[\"Year\"]\n",
    "#CA.head(5)"
   ]
  },
  {
   "cell_type": "code",
   "execution_count": 7,
   "id": "c44e4a1b",
   "metadata": {},
   "outputs": [],
   "source": [
    "# #technology-去掉\"year=2025\"\n",
    "# Files=[CP2025, CP2030,CP2035,CP2040,CP2045,CP2050]\n",
    "# for file in Files:\n",
    "#     Tech=file[\"Technology\"]\n",
    "\n",
    "#     print(Tech[1:5])\n",
    "#     for i in range(len(Tech)):\n",
    "#         Tech[i] = Tech[i].replace(',year=2025','')\n",
    "#         Tech[i] = Tech[i].replace(',year=2030','')\n",
    "#         Tech[i] = Tech[i].replace(',year=2035','')\n",
    "#         Tech[i] = Tech[i].replace(',year=2040','')\n",
    "#         Tech[i] = Tech[i].replace(',year=2045','')\n",
    "#         Tech[i] = Tech[i].replace(',year=2050','')\n",
    "#     #print(Tech[1:5])"
   ]
  },
  {
   "cell_type": "code",
   "execution_count": 8,
   "id": "f78740be",
   "metadata": {},
   "outputs": [
    {
     "name": "stdout",
     "output_type": "stream",
     "text": [
      "name=gas (CC) (cooling pond)\n",
      "0.0\n",
      "name=biomass (conv) (seawater)\n",
      "410.79999999999995\n",
      "name=refined liquids (CC) (dry cooling)\n",
      "0.0\n",
      "name=biomass (conv) (cooling pond)\n",
      "412.0\n",
      "name=gas (CC) (dry cooling)\n",
      "0.0\n"
     ]
    }
   ],
   "source": [
    "# Tech=CP2025[\"Technology\"]\n",
    "# Cost_diff=[]\n",
    "\n",
    "# # for i in range(len(Tech)):\n",
    "# for i in range(5):\n",
    "#     tech_name = \"name=\" + Tech[i].replace(',year=2025','')\n",
    "#     print(tech_name)\n",
    "#     Total_cost_diff=0\n",
    "#     for type in [\"name=capital\", \"name=cooling system\"]:\n",
    "       \n",
    "#         DF = SD2[(SD2[\"Technology\"] == tech_name) & (SD2[\"Year\"] == 2025) & (SD2[\"Cost type\"] == type)]\n",
    "# #         print(DF[\"Originalcost\"].tolist()[0])\n",
    "#         original_cost = DF[\"Originalcost\"].tolist()[0]\n",
    "#         new_cost = DF[\"New cost\"].tolist()[0]\n",
    "#         cost_diff = original_cost - new_cost\n",
    "#         Total_cost_diff=Total_cost_diff+cost_diff\n",
    "#     Cost_diff.append(Total_cost_diff)\n",
    "#     print(Cost_diff[i])"
   ]
  },
  {
   "cell_type": "code",
   "execution_count": 12,
   "id": "2e63b0ce",
   "metadata": {},
   "outputs": [
    {
     "ename": "TypeError",
     "evalue": "cannot concatenate object of type '<class 'list'>'; only Series and DataFrame objs are valid",
     "output_type": "error",
     "traceback": [
      "\u001b[1;31m---------------------------------------------------------------------------\u001b[0m",
      "\u001b[1;31mTypeError\u001b[0m                                 Traceback (most recent call last)",
      "Input \u001b[1;32mIn [12]\u001b[0m, in \u001b[0;36m<cell line: 6>\u001b[1;34m()\u001b[0m\n\u001b[0;32m     42\u001b[0m     SUB2\u001b[38;5;241m=\u001b[39m{\u001b[38;5;124m'\u001b[39m\u001b[38;5;124mTechnology\u001b[39m\u001b[38;5;124m'\u001b[39m: Tech,\n\u001b[0;32m     43\u001b[0m                      \u001b[38;5;124m'\u001b[39m\u001b[38;5;124mSubsidy\u001b[39m\u001b[38;5;124m'\u001b[39m: SUB}\n\u001b[0;32m     44\u001b[0m     SUBT\u001b[38;5;241m=\u001b[39mpd\u001b[38;5;241m.\u001b[39mDataFrame(SUB2)\n\u001b[1;32m---> 46\u001b[0m     SUBSIDY\u001b[38;5;241m=\u001b[39m\u001b[43mpd\u001b[49m\u001b[38;5;241;43m.\u001b[39;49m\u001b[43mconcat\u001b[49m\u001b[43m(\u001b[49m\u001b[43m[\u001b[49m\u001b[43mSUBSIDY\u001b[49m\u001b[43m,\u001b[49m\u001b[43mSUB2\u001b[49m\u001b[43m]\u001b[49m\u001b[43m,\u001b[49m\u001b[43mjoin\u001b[49m\u001b[38;5;241;43m=\u001b[39;49m\u001b[38;5;124;43m'\u001b[39;49m\u001b[38;5;124;43mouter\u001b[39;49m\u001b[38;5;124;43m'\u001b[39;49m\u001b[43m,\u001b[49m\u001b[43maxis\u001b[49m\u001b[38;5;241;43m=\u001b[39;49m\u001b[38;5;241;43m1\u001b[39;49m\u001b[43m)\u001b[49m\n\u001b[0;32m     48\u001b[0m \u001b[38;5;66;03m#     SUBSIDY['Tech']=Tech\u001b[39;00m\n\u001b[0;32m     49\u001b[0m \u001b[38;5;66;03m#     SUBSIDY['Subsidy']=SUB\u001b[39;00m\n\u001b[0;32m     50\u001b[0m \u001b[38;5;66;03m#     SUBSIDY['{}'.format(TECHS[j])]=Tech\u001b[39;00m\n\u001b[1;32m   (...)\u001b[0m\n\u001b[0;32m     53\u001b[0m \n\u001b[0;32m     54\u001b[0m \u001b[38;5;66;03m# SUBSIDYDF=pd.DataFrame(SUBSIDY)\u001b[39;00m\n\u001b[0;32m     55\u001b[0m \u001b[38;5;28mtype\u001b[39m(SUBSIDY)\n",
      "File \u001b[1;32mE:\\Anacoda\\lib\\site-packages\\pandas\\core\\reshape\\concat.py:285\u001b[0m, in \u001b[0;36mconcat\u001b[1;34m(objs, axis, join, ignore_index, keys, levels, names, verify_integrity, sort, copy)\u001b[0m\n\u001b[0;32m     82\u001b[0m \u001b[38;5;28;01mdef\u001b[39;00m \u001b[38;5;21mconcat\u001b[39m(\n\u001b[0;32m     83\u001b[0m     objs: Union[Iterable[\u001b[38;5;124m\"\u001b[39m\u001b[38;5;124mNDFrame\u001b[39m\u001b[38;5;124m\"\u001b[39m], Mapping[Label, \u001b[38;5;124m\"\u001b[39m\u001b[38;5;124mNDFrame\u001b[39m\u001b[38;5;124m\"\u001b[39m]],\n\u001b[0;32m     84\u001b[0m     axis\u001b[38;5;241m=\u001b[39m\u001b[38;5;241m0\u001b[39m,\n\u001b[1;32m   (...)\u001b[0m\n\u001b[0;32m     92\u001b[0m     copy: \u001b[38;5;28mbool\u001b[39m \u001b[38;5;241m=\u001b[39m \u001b[38;5;28;01mTrue\u001b[39;00m,\n\u001b[0;32m     93\u001b[0m ) \u001b[38;5;241m-\u001b[39m\u001b[38;5;241m>\u001b[39m FrameOrSeriesUnion:\n\u001b[0;32m     94\u001b[0m     \u001b[38;5;124;03m\"\"\"\u001b[39;00m\n\u001b[0;32m     95\u001b[0m \u001b[38;5;124;03m    Concatenate pandas objects along a particular axis with optional set logic\u001b[39;00m\n\u001b[0;32m     96\u001b[0m \u001b[38;5;124;03m    along the other axes.\u001b[39;00m\n\u001b[1;32m   (...)\u001b[0m\n\u001b[0;32m    283\u001b[0m \u001b[38;5;124;03m    ValueError: Indexes have overlapping values: ['a']\u001b[39;00m\n\u001b[0;32m    284\u001b[0m \u001b[38;5;124;03m    \"\"\"\u001b[39;00m\n\u001b[1;32m--> 285\u001b[0m     op \u001b[38;5;241m=\u001b[39m \u001b[43m_Concatenator\u001b[49m\u001b[43m(\u001b[49m\n\u001b[0;32m    286\u001b[0m \u001b[43m        \u001b[49m\u001b[43mobjs\u001b[49m\u001b[43m,\u001b[49m\n\u001b[0;32m    287\u001b[0m \u001b[43m        \u001b[49m\u001b[43maxis\u001b[49m\u001b[38;5;241;43m=\u001b[39;49m\u001b[43maxis\u001b[49m\u001b[43m,\u001b[49m\n\u001b[0;32m    288\u001b[0m \u001b[43m        \u001b[49m\u001b[43mignore_index\u001b[49m\u001b[38;5;241;43m=\u001b[39;49m\u001b[43mignore_index\u001b[49m\u001b[43m,\u001b[49m\n\u001b[0;32m    289\u001b[0m \u001b[43m        \u001b[49m\u001b[43mjoin\u001b[49m\u001b[38;5;241;43m=\u001b[39;49m\u001b[43mjoin\u001b[49m\u001b[43m,\u001b[49m\n\u001b[0;32m    290\u001b[0m \u001b[43m        \u001b[49m\u001b[43mkeys\u001b[49m\u001b[38;5;241;43m=\u001b[39;49m\u001b[43mkeys\u001b[49m\u001b[43m,\u001b[49m\n\u001b[0;32m    291\u001b[0m \u001b[43m        \u001b[49m\u001b[43mlevels\u001b[49m\u001b[38;5;241;43m=\u001b[39;49m\u001b[43mlevels\u001b[49m\u001b[43m,\u001b[49m\n\u001b[0;32m    292\u001b[0m \u001b[43m        \u001b[49m\u001b[43mnames\u001b[49m\u001b[38;5;241;43m=\u001b[39;49m\u001b[43mnames\u001b[49m\u001b[43m,\u001b[49m\n\u001b[0;32m    293\u001b[0m \u001b[43m        \u001b[49m\u001b[43mverify_integrity\u001b[49m\u001b[38;5;241;43m=\u001b[39;49m\u001b[43mverify_integrity\u001b[49m\u001b[43m,\u001b[49m\n\u001b[0;32m    294\u001b[0m \u001b[43m        \u001b[49m\u001b[43mcopy\u001b[49m\u001b[38;5;241;43m=\u001b[39;49m\u001b[43mcopy\u001b[49m\u001b[43m,\u001b[49m\n\u001b[0;32m    295\u001b[0m \u001b[43m        \u001b[49m\u001b[43msort\u001b[49m\u001b[38;5;241;43m=\u001b[39;49m\u001b[43msort\u001b[49m\u001b[43m,\u001b[49m\n\u001b[0;32m    296\u001b[0m \u001b[43m    \u001b[49m\u001b[43m)\u001b[49m\n\u001b[0;32m    298\u001b[0m     \u001b[38;5;28;01mreturn\u001b[39;00m op\u001b[38;5;241m.\u001b[39mget_result()\n",
      "File \u001b[1;32mE:\\Anacoda\\lib\\site-packages\\pandas\\core\\reshape\\concat.py:370\u001b[0m, in \u001b[0;36m_Concatenator.__init__\u001b[1;34m(self, objs, axis, join, keys, levels, names, ignore_index, verify_integrity, copy, sort)\u001b[0m\n\u001b[0;32m    365\u001b[0m \u001b[38;5;28;01mif\u001b[39;00m \u001b[38;5;129;01mnot\u001b[39;00m \u001b[38;5;28misinstance\u001b[39m(obj, (ABCSeries, ABCDataFrame)):\n\u001b[0;32m    366\u001b[0m     msg \u001b[38;5;241m=\u001b[39m (\n\u001b[0;32m    367\u001b[0m         \u001b[38;5;124mf\u001b[39m\u001b[38;5;124m\"\u001b[39m\u001b[38;5;124mcannot concatenate object of type \u001b[39m\u001b[38;5;124m'\u001b[39m\u001b[38;5;132;01m{\u001b[39;00m\u001b[38;5;28mtype\u001b[39m(obj)\u001b[38;5;132;01m}\u001b[39;00m\u001b[38;5;124m'\u001b[39m\u001b[38;5;124m; \u001b[39m\u001b[38;5;124m\"\u001b[39m\n\u001b[0;32m    368\u001b[0m         \u001b[38;5;124m\"\u001b[39m\u001b[38;5;124monly Series and DataFrame objs are valid\u001b[39m\u001b[38;5;124m\"\u001b[39m\n\u001b[0;32m    369\u001b[0m     )\n\u001b[1;32m--> 370\u001b[0m     \u001b[38;5;28;01mraise\u001b[39;00m \u001b[38;5;167;01mTypeError\u001b[39;00m(msg)\n\u001b[0;32m    372\u001b[0m \u001b[38;5;66;03m# consolidate\u001b[39;00m\n\u001b[0;32m    373\u001b[0m obj\u001b[38;5;241m.\u001b[39m_consolidate_inplace()\n",
      "\u001b[1;31mTypeError\u001b[0m: cannot concatenate object of type '<class 'list'>'; only Series and DataFrame objs are valid"
     ]
    }
   ],
   "source": [
    "Files=[CP2025, CP2030,CP2035,CP2040,CP2045,CP2050]\n",
    "SUBSIDY=[]\n",
    "Years=[2025,2030,2035,2040,2045,2050]\n",
    "NAMES=[\"SUB2025\",\"SUB2030\",\"SUB2035\",\"SUB2040\",\"SUB2045\",\"SUB2050\"]\n",
    "TECHS=[\"tech2025\",\"tech2030\",\"tech2035\",\"tech2040\",\"tech2045\",\"tech2050\"]\n",
    "for j in range(len(Files)):\n",
    "    file=Files[j]\n",
    "\n",
    "    Tech=file[\"Technology\"]\n",
    "    #print(Tech)\n",
    "    Cost_diff=[]\n",
    "\n",
    "    for i in range(len(Tech)):\n",
    "    #for i in range(5):\n",
    "        tech_name = \"name=\" + Tech[i].replace(',year={}'.format(Years[j]),'')\n",
    "        \n",
    "        #print(tech_name)\n",
    "        Total_cost_diff=0\n",
    "        #print(len(SD2))\n",
    "        for tp in [\"name=capital\", \"name=cooling system\"]:\n",
    "            DF = SD2[(SD2[\"Technology\"] == tech_name) & (SD2[\"Year\"] == Years[j]) & (SD2[\"Cost type\"] == tp)]\n",
    "            #print(len(DF))\n",
    "            if len(DF) == 0:\n",
    "                continue\n",
    "#                 print(\"wrong df\")\n",
    "#                 print(file, type, tech_name, DF)\n",
    "#         print(DF[\"Originalcost\"].tolist()[0])\n",
    "            original_cost = DF[\"Originalcost\"].tolist()[0]\n",
    "            new_cost = DF[\"New cost\"].tolist()[0]\n",
    "            cost_diff = original_cost - new_cost\n",
    "            Total_cost_diff=Total_cost_diff+cost_diff\n",
    "        Cost_diff.append(Total_cost_diff)\n",
    "#         print(Cost_diff[i])\n",
    "\n",
    "    \n",
    "    SUB=[]#subsidy*capacity\n",
    "    for i in range(len(CA[j])):\n",
    "        SUB.append(CA[j][i]*(OldCost2[i]-NewCost2[i]))\n",
    "    #print(CA[i])\n",
    "    #print(len(Tech))\n",
    "    #print(len(SUB))\n",
    "    SUB2={'Technology': Tech,\n",
    "                     'Subsidy': SUB}\n",
    "    SUBT=pd.DataFrame(SUB2)\n",
    "\n",
    "    SUBSIDY=pd.concat([SUBSIDY,SUB2],join='outer',axis=1)\n",
    "    \n",
    "#     SUBSIDY['Tech']=Tech\n",
    "#     SUBSIDY['Subsidy']=SUB\n",
    "#     SUBSIDY['{}'.format(TECHS[j])]=Tech\n",
    "#     SUBSIDY['{}'.format(NAMES[j])]=SUB\n",
    "#     SUBT.to_csv(\"{}.csv\".format(NAMES[j]))\n",
    "\n",
    "# SUBSIDYDF=pd.DataFrame(SUBSIDY)\n",
    "type(SUBSIDY)\n",
    "#print(SUBSIDY)\n",
    "# SUBSIDYDF.to_csv(\"Subsidy_total.csv\")"
   ]
  },
  {
   "cell_type": "code",
   "execution_count": 11,
   "id": "25d39c8b",
   "metadata": {},
   "outputs": [
    {
     "ename": "TypeError",
     "evalue": "'str' object is not callable",
     "output_type": "error",
     "traceback": [
      "\u001b[1;31m---------------------------------------------------------------------------\u001b[0m",
      "\u001b[1;31mTypeError\u001b[0m                                 Traceback (most recent call last)",
      "Input \u001b[1;32mIn [11]\u001b[0m, in \u001b[0;36m<cell line: 2>\u001b[1;34m()\u001b[0m\n\u001b[0;32m      1\u001b[0m wuyijia\u001b[38;5;241m=\u001b[39m[\u001b[38;5;241m1\u001b[39m,\u001b[38;5;241m2\u001b[39m]\n\u001b[1;32m----> 2\u001b[0m \u001b[38;5;28mprint\u001b[39m(\u001b[38;5;28;43mtype\u001b[39;49m\u001b[43m(\u001b[49m\u001b[43mwuyijia\u001b[49m\u001b[43m)\u001b[49m)\n",
      "\u001b[1;31mTypeError\u001b[0m: 'str' object is not callable"
     ]
    }
   ],
   "source": [
    "wuyijia=[1,2]\n",
    "print(type(wuyijia))\n",
    "# type(1)"
   ]
  },
  {
   "cell_type": "code",
   "execution_count": null,
   "id": "e0c71ffc",
   "metadata": {},
   "outputs": [],
   "source": []
  },
  {
   "cell_type": "code",
   "execution_count": null,
   "id": "7bb5f036",
   "metadata": {},
   "outputs": [],
   "source": [
    "# Subsidy=[]\n",
    "# for i in range(len(OldCost2)):\n",
    "#     if Time[i]=2025:\n",
    "#         if \n",
    "#         Subsidy.append(NewCost2*)"
   ]
  },
  {
   "cell_type": "code",
   "execution_count": null,
   "id": "7b14b228",
   "metadata": {},
   "outputs": [],
   "source": [
    "# SUB=[]#subsidy*capacity\n",
    "# for i in range(len(CA)):\n",
    "#     SUB.append(CA[i]*(OldCost2[i]-NewCost2[i]))\n",
    "#     #print(CA[i])\n",
    "# print(len(SUB))"
   ]
  },
  {
   "cell_type": "code",
   "execution_count": null,
   "id": "0643c47c",
   "metadata": {},
   "outputs": [],
   "source": [
    "#Years=[2025,2030,2035,2040,2045,2050]\n",
    "plt.figure(dpi=800, figsize=(20,14))\n",
    "plt.bar(Year2, Spending1)\n",
    "plt.bar(Year2, SUB, bottom=Spending1)"
   ]
  },
  {
   "cell_type": "code",
   "execution_count": null,
   "id": "85fe0cca",
   "metadata": {},
   "outputs": [],
   "source": [
    "# GEN_all_years = np.array([F2025, F2030, F2035, F2040, F2045, F2050])\n",
    "# print(GEN_all_years[:, 0])\n",
    "# # len(GenTechClean)\n",
    "# Year=[\"2025\",\"2030\",\"2035\",\"2040\",\"2045\",\"2050\"]\n",
    "# #Year=[\"1990\",\"2005\",\"2010\",\"2015\",\"2020\",\"2025\",\"2030\",\"2035\",\"2040\",\"2045\",\"2050\"]\n",
    "# # 绘图\n",
    "\n",
    "\n",
    "# # plt.style.use(['science', 'no-latex'])\n",
    "# #with plt.style.use('science'):\n",
    "#     # 图形和轴\n",
    "# colormap = mpl.cm.Set3.colors\n",
    "# fig, ax = plt.subplots(1, figsize=(12, 10))\n",
    "# bottom = len(Year) * [0]\n",
    "# for i in range(len(Fuels)):\n",
    "#     plt.bar(Year, GEN_all_years[:, i], bottom = bottom, label = Fuels[i], color=colormap[i])\n",
    "#     bottom += GEN_all_years[:, i]\n",
    "# # for idx, name in enumerate(fields):\n",
    "# #     plt.barh(df_grouped.index, df_grouped[name], left = left, color=colors[idx])\n",
    "# #     left = left + df_grouped[name]\n",
    "\n",
    "# # 标题、图例、标签\n",
    "# plt.title('Total generation by sector, EJ (Original)', loc='left')\n",
    "# # plt.legend(labels, bbox_to_anchor=([0.55, 1, 0, 0]), ncol=4, frameon=False)\n",
    "# plt.ylabel('Generation, EJ')\n",
    "# plt.xlabel(\"Year\")\n",
    "# plt.legend()"
   ]
  }
 ],
 "metadata": {
  "kernelspec": {
   "display_name": "Python 3 (ipykernel)",
   "language": "python",
   "name": "python3"
  },
  "language_info": {
   "codemirror_mode": {
    "name": "ipython",
    "version": 3
   },
   "file_extension": ".py",
   "mimetype": "text/x-python",
   "name": "python",
   "nbconvert_exporter": "python",
   "pygments_lexer": "ipython3",
   "version": "3.9.12"
  }
 },
 "nbformat": 4,
 "nbformat_minor": 5
}
