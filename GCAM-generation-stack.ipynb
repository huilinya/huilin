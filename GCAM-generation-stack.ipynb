{
 "cells": [
  {
   "cell_type": "code",
   "execution_count": 1,
   "id": "adcffc89",
   "metadata": {},
   "outputs": [],
   "source": [
    "import pandas as pd\n",
    "import numpy as np\n",
    "import matplotlib.pyplot as plt\n",
    "import scienceplots\n",
    "import matplotlib as mpl"
   ]
  },
  {
   "cell_type": "code",
   "execution_count": 2,
   "id": "0db90154",
   "metadata": {},
   "outputs": [],
   "source": [
    "# sci配色包\n",
    "# pip install SciencePlots\n",
    "# import SciencePlots"
   ]
  },
  {
   "cell_type": "code",
   "execution_count": 3,
   "id": "1df37b82",
   "metadata": {},
   "outputs": [],
   "source": [
    "# pip install SciencePlots"
   ]
  },
  {
   "cell_type": "code",
   "execution_count": 30,
   "id": "6a06f50a",
   "metadata": {},
   "outputs": [],
   "source": [
    "Gen=pd.read_excel('pyplot.xlsx', sheet_name=\"Generation\")\n",
    "#Gen=pd.read_excel('Analysis2.xlsx', sheet_name=\"Gen_40p\")"
   ]
  },
  {
   "cell_type": "code",
   "execution_count": 31,
   "id": "df2ae158",
   "metadata": {},
   "outputs": [],
   "source": [
    "GenTech=Gen['Tech']\n",
    "G1990=Gen[\"G1990\"]\n",
    "G2005=Gen[\"G2005\"]\n",
    "G2010=Gen[\"G2010\"]\n",
    "G2015=Gen[\"G2015\"]\n",
    "G2020=Gen[\"G2020\"]\n",
    "G2025=Gen[\"G2025\"]\n",
    "G2030=Gen[\"G2030\"]\n",
    "G2035=Gen[\"G2035\"]\n",
    "G2040=Gen[\"G2040\"]\n",
    "G2045=Gen[\"G2045\"]\n",
    "G2050=Gen[\"G2050\"]\n",
    "GenTechClean=GenTech.drop_duplicates().tolist()#去除重复项方法1，这里面要tolist是为了去掉本身自带的index，方便后面加和"
   ]
  },
  {
   "cell_type": "code",
   "execution_count": 32,
   "id": "64f40608",
   "metadata": {},
   "outputs": [
    {
     "name": "stdout",
     "output_type": "stream",
     "text": [
      "['PV_base_storage', 'PV_int', 'PV_peak', 'PV_subpeak', 'biomass_base_IGCC', 'biomass_base_conv', 'biomass_int_IGCC', 'biomass_int_conv', 'coal_base_conv pul', 'coal_base_conv pul 1951-1955', 'coal_base_conv pul 1966-1970', 'coal_base_conv pul 1971-1975', 'coal_base_conv pul 1981-1985', 'coal_base_conv pul 1986-1990', 'coal_base_conv pul 1996-2000', 'coal_base_conv pul_retire_2020', 'coal_int_conv pul', 'coal_int_conv pul 1951-1955', 'coal_int_conv pul 1966-1970', 'coal_int_conv pul 1971-1975', 'coal_int_conv pul 1981-1985', 'coal_int_conv pul 1986-1990', 'coal_int_conv pul 1996-2000', 'coal_int_conv pul_retire_2020', 'gas_base_CC', 'gas_int_CC', 'gas_peak_CC', 'gas_peak_steam/CT', 'gas_subpeak_CC', 'gas_subpeak_steam/CT', 'hydro_base', 'refined liquids_base_steam/CT', 'refined liquids_int_steam/CT', 'refined liquids_subpeak_steam/CT', 'rooftop_pv', 'wind_base', 'wind_base_offshore', 'wind_base_storage', 'coal_base_conv pul 1956-1960', 'coal_base_conv pul 1976-1980', 'coal_base_conv pul 1991-1995', 'coal_int_conv pul 1956-1960', 'coal_int_conv pul 1976-1980', 'coal_int_conv pul 1991-1995', 'coal_peak_conv pul', 'coal_peak_conv pul_retire_2020', 'coal_subpeak_conv pul', 'coal_subpeak_conv pul_retire_2020', 'nuc_base_Gen II', 'nuc_base_Gen III', 'refined liquids_peak_steam/CT', 'coal_base_conv pul 2006-2010', 'coal_base_conv pul 2011-2015', 'coal_int_conv pul 2006-2010', 'coal_int_conv pul 2011-2015', 'CSP_base_storage', 'CSP_int', 'CSP_peak', 'CSP_subpeak', 'coal_base_conv pul 1961-1965', 'coal_int_conv pul 1961-1965', 'wind_int', 'wind_subpeak', 'geo_base', 'coal_base_conv pul before 1950', 'coal_int_conv pul before 1950', 'refined liquids_base_CC', 'refined liquids_int_CC', 'refined liquids_peak_CC', 'refined liquids_subpeak_CC', 'coal_base_conv pul 2001-2005', 'coal_int_conv pul 2001-2005', 'hydro_int']\n"
     ]
    }
   ],
   "source": [
    "print(GenTechClean)"
   ]
  },
  {
   "cell_type": "code",
   "execution_count": 33,
   "id": "97730596",
   "metadata": {},
   "outputs": [
    {
     "name": "stdout",
     "output_type": "stream",
     "text": [
      "[6.028737097738193, 1.026210115904749, 0.4512554546400998, 0.07913504474999998, 0.01103850318, 0.0]\n"
     ]
    }
   ],
   "source": [
    "Fuels=[\"coal\",\"gas\",\"liquids\",\"biomass\",\"wind\",\"pv\",]\n",
    "F1990=[]\n",
    "F2005=[]\n",
    "F2010=[]\n",
    "F2015=[]\n",
    "F2020=[]\n",
    "F2025=[]\n",
    "F2030=[]\n",
    "F2035=[]\n",
    "F2040=[]\n",
    "F2045=[]\n",
    "F2050=[]\n",
    "for i in range(len(Fuels)):\n",
    "    F1990.append(0)\n",
    "#     F1990.append(Gen[GenTech==Fuels[i]][\"G1990\"].sum())\n",
    "    for j in range(len(G1990)):\n",
    "        if Fuels[i] in GenTech[j]:\n",
    "            F1990[i]=F1990[i]+G1990[j]\n",
    "            #print(Fuels[i],GenTech[j],G1990[j],F1990[i])\n",
    "            j=j+1\n",
    "print(F1990)"
   ]
  },
  {
   "cell_type": "code",
   "execution_count": 34,
   "id": "7042defd",
   "metadata": {},
   "outputs": [],
   "source": [
    "for i in range(len(Fuels)):\n",
    "    F2025.append(0)\n",
    "#     F1990.append(Gen[GenTech==Fuels[i]][\"G1990\"].sum())\n",
    "    for j in range(len(G2025)):\n",
    "        if Fuels[i] in GenTech[j]:\n",
    "            F2025[i]=F2025[i]+G2025[j]\n",
    "            #print(Fuels[i],GenTech[j],G1990[j],F1990[i])\n",
    "            j=j+1\n",
    "for i in range(len(Fuels)):\n",
    "    F2030.append(0)\n",
    "    for j in range(len(G2030)):\n",
    "        if Fuels[i] in GenTech[j]:\n",
    "            F2030[i]=F2030[i]+G2030[j]\n",
    "            #print(Fuels[i],GenTech[j],G1990[j],F1990[i])\n",
    "            j=j+1\n",
    "for i in range(len(Fuels)):\n",
    "    F2035.append(0)\n",
    "    for j in range(len(G2035)):\n",
    "        if Fuels[i] in GenTech[j]:\n",
    "            F2035[i]=F2035[i]+G2035[j]\n",
    "            #print(Fuels[i],GenTech[j],G1990[j],F1990[i])\n",
    "            j=j+1\n",
    "for i in range(len(Fuels)):\n",
    "    F2040.append(0)\n",
    "    for j in range(len(G2040)):\n",
    "        if Fuels[i] in GenTech[j]:\n",
    "            F2040[i]=F2040[i]+G2040[j]\n",
    "            #print(Fuels[i],GenTech[j],G1990[j],F1990[i])\n",
    "            j=j+1\n",
    "for i in range(len(Fuels)):\n",
    "    F2045.append(0)\n",
    "    for j in range(len(G2045)):\n",
    "        if Fuels[i] in GenTech[j]:\n",
    "            F2045[i]=F2045[i]+G2045[j]\n",
    "            #print(Fuels[i],GenTech[j],G1990[j],F1990[i])\n",
    "            j=j+1\n",
    "for i in range(len(Fuels)):\n",
    "    F2050.append(0)\n",
    "    for j in range(len(G2050)):\n",
    "        if Fuels[i] in GenTech[j]:\n",
    "            F2050[i]=F2050[i]+G2050[j]\n",
    "            #print(Fuels[i],GenTech[j],G1990[j],F1990[i])\n",
    "            j=j+1\n"
   ]
  },
  {
   "cell_type": "code",
   "execution_count": 35,
   "id": "a68c8a0c",
   "metadata": {},
   "outputs": [
    {
     "data": {
      "text/html": [
       "<div>\n",
       "<style scoped>\n",
       "    .dataframe tbody tr th:only-of-type {\n",
       "        vertical-align: middle;\n",
       "    }\n",
       "\n",
       "    .dataframe tbody tr th {\n",
       "        vertical-align: top;\n",
       "    }\n",
       "\n",
       "    .dataframe thead th {\n",
       "        text-align: right;\n",
       "    }\n",
       "</style>\n",
       "<table border=\"1\" class=\"dataframe\">\n",
       "  <thead>\n",
       "    <tr style=\"text-align: right;\">\n",
       "      <th></th>\n",
       "      <th>Fuels</th>\n",
       "      <th>Generation2025</th>\n",
       "      <th>Generation2030</th>\n",
       "      <th>Generation2035</th>\n",
       "      <th>Generation2040</th>\n",
       "      <th>Generation2045</th>\n",
       "      <th>Generation2050</th>\n",
       "    </tr>\n",
       "  </thead>\n",
       "  <tbody>\n",
       "    <tr>\n",
       "      <th>0</th>\n",
       "      <td>coal</td>\n",
       "      <td>2.522300</td>\n",
       "      <td>2.283510</td>\n",
       "      <td>1.892971</td>\n",
       "      <td>1.411721</td>\n",
       "      <td>0.976651</td>\n",
       "      <td>0.641249</td>\n",
       "    </tr>\n",
       "    <tr>\n",
       "      <th>1</th>\n",
       "      <td>gas</td>\n",
       "      <td>6.602507</td>\n",
       "      <td>7.383491</td>\n",
       "      <td>8.301383</td>\n",
       "      <td>9.395006</td>\n",
       "      <td>10.546735</td>\n",
       "      <td>11.992865</td>\n",
       "    </tr>\n",
       "    <tr>\n",
       "      <th>2</th>\n",
       "      <td>liquids</td>\n",
       "      <td>0.037350</td>\n",
       "      <td>0.026483</td>\n",
       "      <td>0.023391</td>\n",
       "      <td>0.021148</td>\n",
       "      <td>0.018452</td>\n",
       "      <td>0.016434</td>\n",
       "    </tr>\n",
       "    <tr>\n",
       "      <th>3</th>\n",
       "      <td>biomass</td>\n",
       "      <td>0.107817</td>\n",
       "      <td>0.130692</td>\n",
       "      <td>0.167528</td>\n",
       "      <td>0.204701</td>\n",
       "      <td>0.252241</td>\n",
       "      <td>0.320514</td>\n",
       "    </tr>\n",
       "    <tr>\n",
       "      <th>4</th>\n",
       "      <td>wind</td>\n",
       "      <td>2.005629</td>\n",
       "      <td>2.579446</td>\n",
       "      <td>3.171821</td>\n",
       "      <td>3.960384</td>\n",
       "      <td>4.182073</td>\n",
       "      <td>4.566553</td>\n",
       "    </tr>\n",
       "    <tr>\n",
       "      <th>5</th>\n",
       "      <td>pv</td>\n",
       "      <td>0.221746</td>\n",
       "      <td>0.290097</td>\n",
       "      <td>0.311111</td>\n",
       "      <td>0.122747</td>\n",
       "      <td>0.138723</td>\n",
       "      <td>0.159111</td>\n",
       "    </tr>\n",
       "  </tbody>\n",
       "</table>\n",
       "</div>"
      ],
      "text/plain": [
       "     Fuels  Generation2025  Generation2030  Generation2035  Generation2040  \\\n",
       "0     coal        2.522300        2.283510        1.892971        1.411721   \n",
       "1      gas        6.602507        7.383491        8.301383        9.395006   \n",
       "2  liquids        0.037350        0.026483        0.023391        0.021148   \n",
       "3  biomass        0.107817        0.130692        0.167528        0.204701   \n",
       "4     wind        2.005629        2.579446        3.171821        3.960384   \n",
       "5       pv        0.221746        0.290097        0.311111        0.122747   \n",
       "\n",
       "   Generation2045  Generation2050  \n",
       "0        0.976651        0.641249  \n",
       "1       10.546735       11.992865  \n",
       "2        0.018452        0.016434  \n",
       "3        0.252241        0.320514  \n",
       "4        4.182073        4.566553  \n",
       "5        0.138723        0.159111  "
      ]
     },
     "execution_count": 35,
     "metadata": {},
     "output_type": "execute_result"
    }
   ],
   "source": [
    "Stack_Figure_Dataset={\n",
    "    \"Fuels\":Fuels,\n",
    "    \"Generation2025\":F2025,\n",
    "    \"Generation2030\":F2030,\n",
    "    \"Generation2035\":F2035,\n",
    "    \"Generation2040\":F2040,\n",
    "    \"Generation2045\":F2045,\n",
    "    \"Generation2050\":F2050\n",
    "}\n",
    "pd.DataFrame(Stack_Figure_Dataset)\n",
    "#unit:EJ"
   ]
  },
  {
   "cell_type": "code",
   "execution_count": 36,
   "id": "b9d5d612",
   "metadata": {},
   "outputs": [
    {
     "name": "stdout",
     "output_type": "stream",
     "text": [
      "[2.52229968 2.28351026 1.89297073 1.41172057 0.97665149 0.64124866]\n"
     ]
    },
    {
     "data": {
      "image/png": "[encoded data removed]",
      "text/plain": [
       "<Figure size 864x720 with 1 Axes>"
      ]
     },
     "metadata": {
      "needs_background": "light"
     },
     "output_type": "display_data"
    }
   ],
   "source": [
    "GEN_all_years = np.array([F2025, F2030, F2035, F2040, F2045, F2050])\n",
    "print(GEN_all_years[:, 0])\n",
    "# len(GenTechClean)\n",
    "Year=[\"2025\",\"2030\",\"2035\",\"2040\",\"2045\",\"2050\"]\n",
    "#Year=[\"1990\",\"2005\",\"2010\",\"2015\",\"2020\",\"2025\",\"2030\",\"2035\",\"2040\",\"2045\",\"2050\"]\n",
    "# 绘图\n",
    "\n",
    "\n",
    "# plt.style.use(['science', 'no-latex'])\n",
    "#with plt.style.use('science'):\n",
    "    # 图形和轴\n",
    "colormap = mpl.cm.Set3.colors\n",
    "fig, ax = plt.subplots(1, figsize=(12, 10))\n",
    "bottom = len(Year) * [0]\n",
    "for i in range(len(Fuels)):\n",
    "    plt.bar(Year, GEN_all_years[:, i], bottom = bottom, label = Fuels[i], color=colormap[i])\n",
    "    bottom += GEN_all_years[:, i]\n",
    "# for idx, name in enumerate(fields):\n",
    "#     plt.barh(df_grouped.index, df_grouped[name], left = left, color=colors[idx])\n",
    "#     left = left + df_grouped[name]\n",
    "\n",
    "# 标题、图例、标签\n",
    "plt.title('Total generation by sector, EJ (Original)', loc='left')\n",
    "# plt.legend(labels, bbox_to_anchor=([0.55, 1, 0, 0]), ncol=4, frameon=False)\n",
    "plt.ylabel('Generation, EJ')\n",
    "plt.xlabel(\"Year\")\n",
    "plt.legend()\n",
    "\n",
    "# # 去除spines\n",
    "# ax.spines['right'].set_visible(False)\n",
    "# ax.spines['left'].set_visible(False)\n",
    "# ax.spines['top'].set_visible(False)\n",
    "# ax.spines['bottom'].set_visible(False)\n",
    "\n",
    "# # 调整界限并绘制网格线\n",
    "# plt.ylim(-0.5, ax.get_yticks()[-1] + 0.5)\n",
    "# ax.set_axisbelow(True)\n",
    "# ax.xaxis.grid(color='gray', linestyle='dashed')\n",
    "\n",
    "plt.show()"
   ]
  },
  {
   "cell_type": "code",
   "execution_count": 11,
   "id": "67dae6bd",
   "metadata": {},
   "outputs": [
    {
     "name": "stdout",
     "output_type": "stream",
     "text": [
      "[0.107817   0.13069207 0.16752796 0.20470095 0.25224103 0.32051443]\n"
     ]
    },
    {
     "data": {
      "image/png": "[encoded data removed]",
      "text/plain": [
       "<Figure size 864x720 with 1 Axes>"
      ]
     },
     "metadata": {
      "needs_background": "light"
     },
     "output_type": "display_data"
    }
   ],
   "source": [
    "'''#这边是画图尝试配色方案和风格的一个copy\n",
    "GEN_all_years = np.array([F2025, F2030, F2035, F2040, F2045, F2050])\n",
    "print(GEN_all_years[:, 0])\n",
    "# len(GenTechClean)\n",
    "Year=[\"2025\",\"2030\",\"2035\",\"2040\",\"2045\",\"2050\"]\n",
    "#Year=[\"1990\",\"2005\",\"2010\",\"2015\",\"2020\",\"2025\",\"2030\",\"2035\",\"2040\",\"2045\",\"2050\"]\n",
    "# 绘图\n",
    "\n",
    "\n",
    "plt.style.use(['science', 'no-latex'])\n",
    "#with plt.style.use('science'):\n",
    "    # 图形和轴\n",
    "fig, ax = plt.subplots(1, figsize=(12, 10))\n",
    "bottom = len(Year) * [0]\n",
    "for i in range(len(Fuels)):\n",
    "    plt.bar(Year, GEN_all_years[:, i], bottom = bottom, label = Fuels[i])\n",
    "    bottom += GEN_all_years[:, i]\n",
    "# for idx, name in enumerate(fields):\n",
    "#     plt.barh(df_grouped.index, df_grouped[name], left = left, color=colors[idx])\n",
    "#     left = left + df_grouped[name]\n",
    "\n",
    "# 标题、图例、标签\n",
    "plt.title('Total generation by sector, EJ', loc='left')\n",
    "# plt.legend(labels, bbox_to_anchor=([0.55, 1, 0, 0]), ncol=4, frameon=False)\n",
    "plt.ylabel('Generation, EJ')\n",
    "plt.xlabel(\"Year\")\n",
    "plt.legend()\n",
    "\n",
    "# # 去除spines\n",
    "# ax.spines['right'].set_visible(False)\n",
    "# ax.spines['left'].set_visible(False)\n",
    "# ax.spines['top'].set_visible(False)\n",
    "# ax.spines['bottom'].set_visible(False)\n",
    "\n",
    "# # 调整界限并绘制网格线\n",
    "# plt.ylim(-0.5, ax.get_yticks()[-1] + 0.5)\n",
    "# ax.set_axisbelow(True)\n",
    "# ax.xaxis.grid(color='gray', linestyle='dashed')\n",
    "\n",
    "plt.show()"
   ]
  }
 ],
 "metadata": {
  "kernelspec": {
   "display_name": "Python 3 (ipykernel)",
   "language": "python",
   "name": "python3"
  },
  "language_info": {
   "codemirror_mode": {
    "name": "ipython",
    "version": 3
   },
   "file_extension": ".py",
   "mimetype": "text/x-python",
   "name": "python",
   "nbconvert_exporter": "python",
   "pygments_lexer": "ipython3",
   "version": "3.9.12"
  }
 },
 "nbformat": 4,
 "nbformat_minor": 5
}
