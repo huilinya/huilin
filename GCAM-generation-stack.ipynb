{
 "cells": [
  {
   "cell_type": "code",
   "execution_count": 1,
   "id": "adcffc89",
   "metadata": {},
   "outputs": [],
   "source": [
    "import pandas as pd\n",
    "import numpy as np\n",
    "import matplotlib.pyplot as plt\n",
    "import scienceplots\n",
    "import matplotlib as mpl"
   ]
  },
  {
   "cell_type": "code",
   "execution_count": 2,
   "id": "0db90154",
   "metadata": {},
   "outputs": [],
   "source": [
    "# sci配色包\n",
    "# pip install SciencePlots\n",
    "# import SciencePlots"
   ]
  },
  {
   "cell_type": "code",
   "execution_count": 3,
   "id": "1df37b82",
   "metadata": {},
   "outputs": [],
   "source": [
    "# pip install SciencePlots"
   ]
  },
  {
   "cell_type": "code",
   "execution_count": 39,
   "id": "6a06f50a",
   "metadata": {},
   "outputs": [],
   "source": [
    "# Gen=pd.read_excel('pyplot.xlsx', sheet_name=\"Generation\")\n",
    "Gen=pd.read_excel('vintage_generation.xlsx', sheet_name=\"VGen_stick\")\n",
    "#Gen=pd.read_excel('Analysis2.xlsx', sheet_name=\"Gen_40p\")"
   ]
  },
  {
   "cell_type": "code",
   "execution_count": 40,
   "id": "df2ae158",
   "metadata": {},
   "outputs": [],
   "source": [
    "GenTech=Gen['Tech']\n",
    "G1990=Gen[\"G1990\"]\n",
    "G2005=Gen[\"G2005\"]\n",
    "G2010=Gen[\"G2010\"]\n",
    "G2015=Gen[\"G2015\"]\n",
    "G2020=Gen[\"G2020\"]\n",
    "G2025=Gen[\"G2025\"]\n",
    "G2030=Gen[\"G2030\"]\n",
    "G2035=Gen[\"G2035\"]\n",
    "G2040=Gen[\"G2040\"]\n",
    "G2045=Gen[\"G2045\"]\n",
    "G2050=Gen[\"G2050\"]\n",
    "GenTechClean=GenTech.drop_duplicates().tolist()#去除重复项方法1，这里面要tolist是为了去掉本身自带的index，方便后面加和"
   ]
  },
  {
   "cell_type": "code",
   "execution_count": 41,
   "id": "64f40608",
   "metadata": {},
   "outputs": [],
   "source": [
    "# print(GenTechClean)"
   ]
  },
  {
   "cell_type": "code",
   "execution_count": 42,
   "id": "97730596",
   "metadata": {},
   "outputs": [
    {
     "name": "stdout",
     "output_type": "stream",
     "text": [
      "[6.0287370977382055, 1.0262101159047494, 0.4512554546400999, 0.07913504475000004, 0.01103850318, 0.0, 0.0]\n"
     ]
    }
   ],
   "source": [
    "Fuels=[\"coal\",\"gas\",\"liquids\",\"biomass\",\"wind\",\"pv\",\"CCS\"]\n",
    "F1990=[]\n",
    "F2005=[]\n",
    "F2010=[]\n",
    "F2015=[]\n",
    "F2020=[]\n",
    "F2025=[]\n",
    "F2030=[]\n",
    "F2035=[]\n",
    "F2040=[]\n",
    "F2045=[]\n",
    "F2050=[]\n",
    "for i in range(len(Fuels)):\n",
    "    F1990.append(0)\n",
    "#     F1990.append(Gen[GenTech==Fuels[i]][\"G1990\"].sum())\n",
    "    for j in range(len(G1990)):\n",
    "        if Fuels[i] in GenTech[j]:\n",
    "            F1990[i]=F1990[i]+G1990[j]\n",
    "            #print(Fuels[i],GenTech[j],G1990[j],F1990[i])\n",
    "            j=j+1\n",
    "print(F1990)"
   ]
  },
  {
   "cell_type": "code",
   "execution_count": 43,
   "id": "7042defd",
   "metadata": {},
   "outputs": [],
   "source": [
    "for i in range(len(Fuels)):\n",
    "    F2025.append(0)\n",
    "#     F1990.append(Gen[GenTech==Fuels[i]][\"G1990\"].sum())\n",
    "    for j in range(len(G2025)):\n",
    "        if Fuels[i] in GenTech[j]:\n",
    "            F2025[i]=F2025[i]+G2025[j]\n",
    "            #print(Fuels[i],GenTech[j],G1990[j],F1990[i])\n",
    "            j=j+1\n",
    "for i in range(len(Fuels)):\n",
    "    F2030.append(0)\n",
    "    for j in range(len(G2030)):\n",
    "        if Fuels[i] in GenTech[j]:\n",
    "            F2030[i]=F2030[i]+G2030[j]\n",
    "            #print(Fuels[i],GenTech[j],G1990[j],F1990[i])\n",
    "            j=j+1\n",
    "for i in range(len(Fuels)):\n",
    "    F2035.append(0)\n",
    "    for j in range(len(G2035)):\n",
    "        if Fuels[i] in GenTech[j]:\n",
    "            F2035[i]=F2035[i]+G2035[j]\n",
    "            #print(Fuels[i],GenTech[j],G1990[j],F1990[i])\n",
    "            j=j+1\n",
    "for i in range(len(Fuels)):\n",
    "    F2040.append(0)\n",
    "    for j in range(len(G2040)):\n",
    "        if Fuels[i] in GenTech[j]:\n",
    "            F2040[i]=F2040[i]+G2040[j]\n",
    "            #print(Fuels[i],GenTech[j],G1990[j],F1990[i])\n",
    "            j=j+1\n",
    "for i in range(len(Fuels)):\n",
    "    F2045.append(0)\n",
    "    for j in range(len(G2045)):\n",
    "        if Fuels[i] in GenTech[j]:\n",
    "            F2045[i]=F2045[i]+G2045[j]\n",
    "            #print(Fuels[i],GenTech[j],G1990[j],F1990[i])\n",
    "            j=j+1\n",
    "for i in range(len(Fuels)):\n",
    "    F2050.append(0)\n",
    "    for j in range(len(G2050)):\n",
    "        if Fuels[i] in GenTech[j]:\n",
    "            F2050[i]=F2050[i]+G2050[j]\n",
    "            #print(Fuels[i],GenTech[j],G1990[j],F1990[i])\n",
    "            j=j+1\n"
   ]
  },
  {
   "cell_type": "code",
   "execution_count": 44,
   "id": "a68c8a0c",
   "metadata": {},
   "outputs": [
    {
     "data": {
      "text/html": [
       "<div>\n",
       "<style scoped>\n",
       "    .dataframe tbody tr th:only-of-type {\n",
       "        vertical-align: middle;\n",
       "    }\n",
       "\n",
       "    .dataframe tbody tr th {\n",
       "        vertical-align: top;\n",
       "    }\n",
       "\n",
       "    .dataframe thead th {\n",
       "        text-align: right;\n",
       "    }\n",
       "</style>\n",
       "<table border=\"1\" class=\"dataframe\">\n",
       "  <thead>\n",
       "    <tr style=\"text-align: right;\">\n",
       "      <th></th>\n",
       "      <th>Fuels</th>\n",
       "      <th>Generation2025</th>\n",
       "      <th>Generation2030</th>\n",
       "      <th>Generation2035</th>\n",
       "      <th>Generation2040</th>\n",
       "      <th>Generation2045</th>\n",
       "      <th>Generation2050</th>\n",
       "    </tr>\n",
       "  </thead>\n",
       "  <tbody>\n",
       "    <tr>\n",
       "      <th>0</th>\n",
       "      <td>coal</td>\n",
       "      <td>1.394072</td>\n",
       "      <td>2.040209</td>\n",
       "      <td>1.287341</td>\n",
       "      <td>1.309921</td>\n",
       "      <td>1.290309</td>\n",
       "      <td>1.500957</td>\n",
       "    </tr>\n",
       "    <tr>\n",
       "      <th>1</th>\n",
       "      <td>gas</td>\n",
       "      <td>5.702190</td>\n",
       "      <td>6.250540</td>\n",
       "      <td>6.404721</td>\n",
       "      <td>6.883946</td>\n",
       "      <td>7.346190</td>\n",
       "      <td>8.243215</td>\n",
       "    </tr>\n",
       "    <tr>\n",
       "      <th>2</th>\n",
       "      <td>liquids</td>\n",
       "      <td>0.036404</td>\n",
       "      <td>0.030658</td>\n",
       "      <td>0.026862</td>\n",
       "      <td>0.020294</td>\n",
       "      <td>0.015220</td>\n",
       "      <td>0.012942</td>\n",
       "    </tr>\n",
       "    <tr>\n",
       "      <th>3</th>\n",
       "      <td>biomass</td>\n",
       "      <td>0.201203</td>\n",
       "      <td>0.200475</td>\n",
       "      <td>0.289676</td>\n",
       "      <td>0.311329</td>\n",
       "      <td>0.330324</td>\n",
       "      <td>0.336792</td>\n",
       "    </tr>\n",
       "    <tr>\n",
       "      <th>4</th>\n",
       "      <td>wind</td>\n",
       "      <td>3.056464</td>\n",
       "      <td>3.424351</td>\n",
       "      <td>4.716629</td>\n",
       "      <td>5.638825</td>\n",
       "      <td>6.346044</td>\n",
       "      <td>6.971807</td>\n",
       "    </tr>\n",
       "    <tr>\n",
       "      <th>5</th>\n",
       "      <td>pv</td>\n",
       "      <td>0.127631</td>\n",
       "      <td>0.181061</td>\n",
       "      <td>0.248849</td>\n",
       "      <td>0.311905</td>\n",
       "      <td>0.388074</td>\n",
       "      <td>0.456761</td>\n",
       "    </tr>\n",
       "    <tr>\n",
       "      <th>6</th>\n",
       "      <td>CCS</td>\n",
       "      <td>0.699090</td>\n",
       "      <td>0.879956</td>\n",
       "      <td>1.658755</td>\n",
       "      <td>2.266274</td>\n",
       "      <td>3.075636</td>\n",
       "      <td>4.060405</td>\n",
       "    </tr>\n",
       "  </tbody>\n",
       "</table>\n",
       "</div>"
      ],
      "text/plain": [
       "     Fuels  Generation2025  Generation2030  Generation2035  Generation2040  \\\n",
       "0     coal        1.394072        2.040209        1.287341        1.309921   \n",
       "1      gas        5.702190        6.250540        6.404721        6.883946   \n",
       "2  liquids        0.036404        0.030658        0.026862        0.020294   \n",
       "3  biomass        0.201203        0.200475        0.289676        0.311329   \n",
       "4     wind        3.056464        3.424351        4.716629        5.638825   \n",
       "5       pv        0.127631        0.181061        0.248849        0.311905   \n",
       "6      CCS        0.699090        0.879956        1.658755        2.266274   \n",
       "\n",
       "   Generation2045  Generation2050  \n",
       "0        1.290309        1.500957  \n",
       "1        7.346190        8.243215  \n",
       "2        0.015220        0.012942  \n",
       "3        0.330324        0.336792  \n",
       "4        6.346044        6.971807  \n",
       "5        0.388074        0.456761  \n",
       "6        3.075636        4.060405  "
      ]
     },
     "execution_count": 44,
     "metadata": {},
     "output_type": "execute_result"
    }
   ],
   "source": [
    "Stack_Figure_Dataset={\n",
    "    \"Fuels\":Fuels,\n",
    "    \"Generation2025\":F2025,\n",
    "    \"Generation2030\":F2030,\n",
    "    \"Generation2035\":F2035,\n",
    "    \"Generation2040\":F2040,\n",
    "    \"Generation2045\":F2045,\n",
    "    \"Generation2050\":F2050\n",
    "}\n",
    "pd.DataFrame(Stack_Figure_Dataset)\n",
    "#unit:EJ"
   ]
  },
  {
   "cell_type": "code",
   "execution_count": 46,
   "id": "b9d5d612",
   "metadata": {},
   "outputs": [
    {
     "name": "stdout",
     "output_type": "stream",
     "text": [
      "[1.39407204 2.04020855 1.28734101 1.30992105 1.29030872 1.50095665]\n"
     ]
    },
    {
     "data": {
      "image/png": "[encoded data removed]",
      "text/plain": [
       "<Figure size 864x720 with 1 Axes>"
      ]
     },
     "metadata": {
      "needs_background": "light"
     },
     "output_type": "display_data"
    }
   ],
   "source": [
    "GEN_all_years = np.array([F2025, F2030, F2035, F2040, F2045, F2050])\n",
    "print(GEN_all_years[:, 0])\n",
    "# len(GenTechClean)\n",
    "Year=[\"2025\",\"2030\",\"2035\",\"2040\",\"2045\",\"2050\"]\n",
    "#Year=[\"1990\",\"2005\",\"2010\",\"2015\",\"2020\",\"2025\",\"2030\",\"2035\",\"2040\",\"2045\",\"2050\"]\n",
    "# 绘图\n",
    "\n",
    "\n",
    "# plt.style.use(['science', 'no-latex'])\n",
    "#with plt.style.use('science'):\n",
    "    # 图形和轴\n",
    "colormap = mpl.cm.Set3.colors\n",
    "fig, ax = plt.subplots(1, figsize=(12, 10))\n",
    "bottom = len(Year) * [0]\n",
    "for i in range(len(Fuels)):\n",
    "    plt.bar(Year, GEN_all_years[:, i], bottom = bottom, label = Fuels[i], color=colormap[i])\n",
    "    bottom += GEN_all_years[:, i]\n",
    "# for idx, name in enumerate(fields):\n",
    "#     plt.barh(df_grouped.index, df_grouped[name], left = left, color=colors[idx])\n",
    "#     left = left + df_grouped[name]\n",
    "\n",
    "# 标题、图例、标签\n",
    "plt.title('Total generation by sector, EJ (stick)', loc='left')\n",
    "# plt.legend(labels, bbox_to_anchor=([0.55, 1, 0, 0]), ncol=4, frameon=False)\n",
    "plt.ylabel('Generation, EJ')\n",
    "plt.xlabel(\"Year\")\n",
    "plt.ylim(0,22)\n",
    "plt.legend()\n",
    "\n",
    "# # 去除spines\n",
    "# ax.spines['right'].set_visible(False)\n",
    "# ax.spines['left'].set_visible(False)\n",
    "# ax.spines['top'].set_visible(False)\n",
    "# ax.spines['bottom'].set_visible(False)\n",
    "\n",
    "# # 调整界限并绘制网格线\n",
    "# plt.ylim(-0.5, ax.get_yticks()[-1] + 0.5)\n",
    "# ax.set_axisbelow(True)\n",
    "# ax.xaxis.grid(color='gray', linestyle='dashed')\n",
    "\n",
    "plt.show()"
   ]
  },
  {
   "cell_type": "code",
   "execution_count": 11,
   "id": "67dae6bd",
   "metadata": {},
   "outputs": [
    {
     "name": "stdout",
     "output_type": "stream",
     "text": [
      "[0.107817   0.13069207 0.16752796 0.20470095 0.25224103 0.32051443]\n"
     ]
    },
    {
     "data": {
      "image/png": "[encoded data removed]",
      "text/plain": [
       "<Figure size 864x720 with 1 Axes>"
      ]
     },
     "metadata": {
      "needs_background": "light"
     },
     "output_type": "display_data"
    }
   ],
   "source": [
    "'''#这边是画图尝试配色方案和风格的一个copy\n",
    "GEN_all_years = np.array([F2025, F2030, F2035, F2040, F2045, F2050])\n",
    "print(GEN_all_years[:, 0])\n",
    "# len(GenTechClean)\n",
    "Year=[\"2025\",\"2030\",\"2035\",\"2040\",\"2045\",\"2050\"]\n",
    "#Year=[\"1990\",\"2005\",\"2010\",\"2015\",\"2020\",\"2025\",\"2030\",\"2035\",\"2040\",\"2045\",\"2050\"]\n",
    "# 绘图\n",
    "\n",
    "\n",
    "plt.style.use(['science', 'no-latex'])\n",
    "#with plt.style.use('science'):\n",
    "    # 图形和轴\n",
    "fig, ax = plt.subplots(1, figsize=(12, 10))\n",
    "bottom = len(Year) * [0]\n",
    "for i in range(len(Fuels)):\n",
    "    plt.bar(Year, GEN_all_years[:, i], bottom = bottom, label = Fuels[i])\n",
    "    bottom += GEN_all_years[:, i]\n",
    "# for idx, name in enumerate(fields):\n",
    "#     plt.barh(df_grouped.index, df_grouped[name], left = left, color=colors[idx])\n",
    "#     left = left + df_grouped[name]\n",
    "\n",
    "# 标题、图例、标签\n",
    "plt.title('Total generation by sector, EJ', loc='left')\n",
    "# plt.legend(labels, bbox_to_anchor=([0.55, 1, 0, 0]), ncol=4, frameon=False)\n",
    "plt.ylabel('Generation, EJ')\n",
    "plt.xlabel(\"Year\")\n",
    "plt.legend()\n",
    "\n",
    "# # 去除spines\n",
    "# ax.spines['right'].set_visible(False)\n",
    "# ax.spines['left'].set_visible(False)\n",
    "# ax.spines['top'].set_visible(False)\n",
    "# ax.spines['bottom'].set_visible(False)\n",
    "\n",
    "# # 调整界限并绘制网格线\n",
    "# plt.ylim(-0.5, ax.get_yticks()[-1] + 0.5)\n",
    "# ax.set_axisbelow(True)\n",
    "# ax.xaxis.grid(color='gray', linestyle='dashed')\n",
    "\n",
    "plt.show()"
   ]
  }
 ],
 "metadata": {
  "kernelspec": {
   "display_name": "Python 3 (ipykernel)",
   "language": "python",
   "name": "python3"
  },
  "language_info": {
   "codemirror_mode": {
    "name": "ipython",
    "version": 3
   },
   "file_extension": ".py",
   "mimetype": "text/x-python",
   "name": "python",
   "nbconvert_exporter": "python",
   "pygments_lexer": "ipython3",
   "version": "3.9.12"
  }
 },
 "nbformat": 4,
 "nbformat_minor": 5
}
