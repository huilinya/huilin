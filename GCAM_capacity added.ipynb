{
 "cells": [
  {
   "cell_type": "code",
   "execution_count": 1,
   "id": "e8db9777",
   "metadata": {},
   "outputs": [],
   "source": [
    "import pandas as pd\n",
    "import numpy as np\n",
    "import matplotlib.pyplot as plt\n",
    "import scienceplots"
   ]
  },
  {
   "cell_type": "code",
   "execution_count": 2,
   "id": "3e003906",
   "metadata": {},
   "outputs": [
    {
     "name": "stdout",
     "output_type": "stream",
     "text": [
      "EJ\n"
     ]
    }
   ],
   "source": [
    "CapCal=pd.read_excel('vintage_generation.xlsx', sheet_name=\"VGen_stick\")#计算新增capacity需要的sheet\n",
    "unit=CapCal[\"Unit\"][1]#unit of generation\n",
    "print(unit)\n",
    "tech=CapCal[\"Tech\"]\n"
   ]
  },
  {
   "cell_type": "code",
   "execution_count": 3,
   "id": "34b7e8c9",
   "metadata": {},
   "outputs": [
    {
     "name": "stdout",
     "output_type": "stream",
     "text": [
      "56\n"
     ]
    }
   ],
   "source": [
    "Vintage2025=[tech for tech in tech if 'year=2025' in tech]#寻找vintage=2025的各种技术的generation\n",
    "Vintage2030=[tech for tech in tech if 'year=2030' in tech]\n",
    "Vintage2035=[tech for tech in tech if 'year=2035' in tech]\n",
    "Vintage2040=[tech for tech in tech if 'year=2040' in tech]\n",
    "Vintage2045=[tech for tech in tech if 'year=2045' in tech]\n",
    "Vintage2050=[tech for tech in tech if 'year=2050' in tech]\n",
    "#V2025=pd.Dataframe(Vintage2025).drop_duplicates().tolist()\n",
    "#print(V2025)\n",
    "V2025=list(set(Vintage2025))#这个是去除重复项的方法2，换了一个方法是因为需要去掉“去除重复项之后留下的每一项的index”\n",
    "V2030=list(set(Vintage2030))\n",
    "V2035=list(set(Vintage2035))\n",
    "V2040=list(set(Vintage2040))\n",
    "V2045=list(set(Vintage2045))\n",
    "V2050=list(set(Vintage2050))\n",
    "print(len(V2035))"
   ]
  },
  {
   "cell_type": "code",
   "execution_count": 4,
   "id": "417d3244",
   "metadata": {},
   "outputs": [],
   "source": [
    "SectorCap=CapCal['Sector']\n",
    "G1990=CapCal[\"G1990\"]#G1990是1990年所有技术的排放\n",
    "G2005=CapCal[\"G2005\"]\n",
    "G2010=CapCal[\"G2010\"]\n",
    "G2015=CapCal[\"G2015\"]\n",
    "G2020=CapCal[\"G2020\"]\n",
    "G2025=CapCal[\"G2025\"]\n",
    "G2030=CapCal[\"G2030\"]\n",
    "G2035=CapCal[\"G2035\"]\n",
    "G2040=CapCal[\"G2040\"]\n",
    "G2045=CapCal[\"G2045\"]\n",
    "G2050=CapCal[\"G2050\"]\n",
    "\n",
    "\n",
    "#Generation-Vintage\n",
    "# GV2025_1990=[]\n",
    "# GV2025_2005=[]\n",
    "# GV2025_2010=[]\n",
    "# GV2025_2015=[]\n",
    "# GV2025_2020=[]\n",
    "GV2025_2025=[]\n",
    "GV2025_2030=[]\n",
    "GV2025_2035=[]\n",
    "GV2025_2040=[]\n",
    "GV2025_2045=[]\n",
    "GV2025_2050=[]"
   ]
  },
  {
   "cell_type": "code",
   "execution_count": 5,
   "id": "33ebd87a",
   "metadata": {},
   "outputs": [],
   "source": [
    "GV2025_2025=[]\n",
    "GV2025_2030=[]\n",
    "GV2025_2035=[]\n",
    "GV2025_2040=[]\n",
    "GV2025_2045=[]\n",
    "GV2025_2050=[]\n",
    "for i in range(len(V2025)):#V2025是2025年的所有技术列表\n",
    "    GV2025_2025.append(CapCal[tech==V2025[i]][\"G2025\"].sum())#GV2025_2025：2025年的vintage在2025年的generation\n",
    "    GV2025_2030.append(CapCal[tech==V2025[i]][\"G2030\"].sum())#2025年的vintage在2030年的generation\n",
    "    GV2025_2035.append(CapCal[tech==V2025[i]][\"G2035\"].sum())\n",
    "    GV2025_2040.append(CapCal[tech==V2025[i]][\"G2040\"].sum())\n",
    "    GV2025_2045.append(CapCal[tech==V2025[i]][\"G2045\"].sum())\n",
    "    GV2025_2050.append(CapCal[tech==V2025[i]][\"G2050\"].sum())\n",
    "# print(len(V2025))\n",
    "# print(len(GV2025_2025))    \n",
    "    \n",
    "GVin2025={'Technology':V2025,  'Generation_Vintage2025_in2025':GV2025_2025, 'Generation_Vintage2025_in2030':GV2025_2030,\n",
    "          'Generation_Vintage2025_in2035':GV2025_2035,'Generation_Vintage2025_in2040':GV2025_2040,\n",
    "          'Generation_Vintage2025_in2045':GV2025_2045,'Generation_Vintage2025_in2050':GV2025_2050\n",
    "#                   'ScenarioName':CapCal[\"Scenario\"][1]\n",
    "          #'Capacity Factor': GV2025\n",
    "#            'unit':CapCal[\"Unit\"][1]\n",
    "         }\n",
    "# print(GVin2025)#目前是dictionary\n",
    "\n",
    "\n",
    "GVin2025Em=pd.DataFrame(GVin2025) \n",
    "          #转化成dataframe作为以后的计算\n",
    "GVin2025Em.to_csv(\"Generation of vintage 2025.csv\")#这个是存储为csv"
   ]
  },
  {
   "cell_type": "code",
   "execution_count": 6,
   "id": "6c754362",
   "metadata": {},
   "outputs": [],
   "source": [
    "GV2030_2025=[]\n",
    "GV2030_2030=[]\n",
    "GV2030_2035=[]\n",
    "GV2030_2040=[]\n",
    "GV2030_2045=[]\n",
    "GV2030_2050=[]\n",
    "for i in range(len(V2030)):#V2025是2025年的所有技术列表\n",
    "    GV2030_2025.append(CapCal[tech==V2030[i]][\"G2025\"].sum())#GV2025_2025：2025年的vintage在2025年的generation\n",
    "    GV2030_2030.append(CapCal[tech==V2030[i]][\"G2030\"].sum())#2025年的vintage在2030年的generation\n",
    "    GV2030_2035.append(CapCal[tech==V2030[i]][\"G2035\"].sum())\n",
    "    GV2030_2040.append(CapCal[tech==V2030[i]][\"G2040\"].sum())\n",
    "    GV2030_2045.append(CapCal[tech==V2030[i]][\"G2045\"].sum())\n",
    "    GV2030_2050.append(CapCal[tech==V2030[i]][\"G2050\"].sum())\n",
    "    \n",
    "    \n",
    "GVin2030={'Technology':V2030,  'Generation_Vintage2030_in2025':GV2030_2025, 'Generation_Vintage2030_in2030':GV2030_2030,\n",
    "          'Generation_Vintage2030_in2035':GV2030_2035,'Generation_Vintage2030_in2040':GV2030_2040,\n",
    "          'Generation_Vintage2030_in2045':GV2030_2045,'Generation_Vintage2030_in2050':GV2030_2050,\n",
    "                  'ScenarioName':CapCal[\"Scenario\"][1],\n",
    "          #'Capacity Factor': GV2025\n",
    "          'unit':CapCal[\"Unit\"][1]}\n",
    "#print(GVin2030)#目前是dictionary\n",
    "\n",
    "\n",
    "GVin2030Em=pd.DataFrame(GVin2030)#转化成dataframe作为以后的计算\n",
    "GVin2030Em.to_csv(\"Generation of vintage 2030.csv\")#这个是存储为csv"
   ]
  },
  {
   "cell_type": "code",
   "execution_count": 7,
   "id": "0903049b",
   "metadata": {},
   "outputs": [],
   "source": [
    "GV2035_2025=[]\n",
    "GV2035_2030=[]\n",
    "GV2035_2035=[]\n",
    "GV2035_2040=[]\n",
    "GV2035_2045=[]\n",
    "GV2035_2050=[]\n",
    "for i in range(len(V2035)):#V2025是2025年的所有技术列表\n",
    "    GV2035_2025.append(CapCal[tech==V2035[i]][\"G2025\"].sum())#GV2025_2025：2025年的vintage在2025年的generation\n",
    "    GV2035_2030.append(CapCal[tech==V2035[i]][\"G2030\"].sum())#2025年的vintage在2030年的generation\n",
    "    GV2035_2035.append(CapCal[tech==V2035[i]][\"G2035\"].sum())\n",
    "    GV2035_2040.append(CapCal[tech==V2035[i]][\"G2040\"].sum())\n",
    "    GV2035_2045.append(CapCal[tech==V2035[i]][\"G2045\"].sum())\n",
    "    GV2035_2050.append(CapCal[tech==V2035[i]][\"G2050\"].sum())\n",
    "    \n",
    "    \n",
    "GVin2035={'Technology':V2035,  'Generation_Vintage2035_in2025':GV2035_2025, 'Generation_Vintage2035_in2030':GV2035_2030,\n",
    "          'Generation_Vintage2035_in2035':GV2035_2035,'Generation_Vintage2035_in2040':GV2035_2040,\n",
    "          'Generation_Vintage2035_in2045':GV2035_2045,'Generation_Vintage2035_in2050':GV2035_2050,\n",
    "                  'ScenarioName':CapCal[\"Scenario\"][1],\n",
    "          #'Capacity Factor': GV2025\n",
    "          'unit':CapCal[\"Unit\"][1]}\n",
    "#print(GVin2035)#目前是dictionary\n",
    "\n",
    "\n",
    "GVin2035Em=pd.DataFrame(GVin2035)#转化成dataframe作为以后的计算\n",
    "GVin2035Em.to_csv(\"Generation of vintage 2035.csv\")#这个是存储为csv"
   ]
  },
  {
   "cell_type": "code",
   "execution_count": 8,
   "id": "97beef1a",
   "metadata": {},
   "outputs": [],
   "source": [
    "GV2040_2025=[]\n",
    "GV2040_2030=[]\n",
    "GV2040_2035=[]\n",
    "GV2040_2040=[]\n",
    "GV2040_2045=[]\n",
    "GV2040_2050=[]\n",
    "for i in range(len(V2040)):#V2025是2025年的所有技术列表\n",
    "    GV2040_2025.append(CapCal[tech==V2040[i]][\"G2025\"].sum())#GV2025_2025：2025年的vintage在2025年的generation\n",
    "    GV2040_2030.append(CapCal[tech==V2040[i]][\"G2030\"].sum())#2025年的vintage在2030年的generation\n",
    "    GV2040_2035.append(CapCal[tech==V2040[i]][\"G2035\"].sum())\n",
    "    GV2040_2040.append(CapCal[tech==V2040[i]][\"G2040\"].sum())\n",
    "    GV2040_2045.append(CapCal[tech==V2040[i]][\"G2045\"].sum())\n",
    "    GV2040_2050.append(CapCal[tech==V2040[i]][\"G2050\"].sum())\n",
    "    \n",
    "    \n",
    "GVin2040={'Technology':V2040,  'Generation_Vintage2040_in2025':GV2040_2025, 'Generation_Vintage2040_in2030':GV2040_2030,\n",
    "          'Generation_Vintage2040_in2035':GV2040_2035,'Generation_Vintage2040_in2040':GV2040_2040,\n",
    "          'Generation_Vintage2040_in2045':GV2040_2045,'Generation_Vintage2040_in2050':GV2040_2050,\n",
    "                  'ScenarioName':CapCal[\"Scenario\"][1],\n",
    "          #'Capacity Factor': GV2025\n",
    "          'unit':CapCal[\"Unit\"][1]}\n",
    "#print(GVin2040)#目前是dictionary\n",
    "\n",
    "\n",
    "GVin2040Em=pd.DataFrame(GVin2040)#转化成dataframe作为以后的计算\n",
    "GVin2040Em.to_csv(\"Generation of vintage 2040.csv\")#这个是存储为csv"
   ]
  },
  {
   "cell_type": "code",
   "execution_count": 9,
   "id": "0a8d88d2",
   "metadata": {},
   "outputs": [],
   "source": [
    "GV2045_2025=[]\n",
    "GV2045_2030=[]\n",
    "GV2045_2035=[]\n",
    "GV2045_2040=[]\n",
    "GV2045_2045=[]\n",
    "GV2045_2050=[]\n",
    "for i in range(len(V2045)):#V2025是2025年的所有技术列表\n",
    "    GV2045_2025.append(CapCal[tech==V2045[i]][\"G2025\"].sum())#GV2025_2025：2025年的vintage在2025年的generation\n",
    "    GV2045_2030.append(CapCal[tech==V2045[i]][\"G2030\"].sum())#2025年的vintage在2030年的generation\n",
    "    GV2045_2035.append(CapCal[tech==V2045[i]][\"G2035\"].sum())\n",
    "    GV2045_2040.append(CapCal[tech==V2045[i]][\"G2040\"].sum())\n",
    "    GV2045_2045.append(CapCal[tech==V2045[i]][\"G2045\"].sum())\n",
    "    GV2045_2050.append(CapCal[tech==V2045[i]][\"G2050\"].sum())\n",
    "    \n",
    "    \n",
    "GVin2045={'Technology':V2045,  'Generation_Vintage2045_in2025':GV2045_2025, 'Generation_Vintage2045_in2030':GV2045_2030,\n",
    "          'Generation_Vintage2045_in2035':GV2045_2035,'Generation_Vintage2045_in2040':GV2045_2040,\n",
    "          'Generation_Vintage2045_in2045':GV2045_2045,'Generation_Vintage2045_in2050':GV2045_2050}\n",
    "#             #      'ScenarioName':CapCal[\"Scenario\"][1],\n",
    "#           #'Capacity Factor': GV2025\n",
    "#           #'unit':CapCal[\"unit\"][1]}\n",
    "# print(GVin2045)#目前是dictionary\n",
    "#print(len(V2045))\n",
    "#print(len(GV2045_2025))\n",
    "#print(len(GV2045_2030))\n",
    "#print(len(GV2045_2035))\n",
    "#print(len(GV2045_2040))\n",
    "# print(len(GV2045_2045))\n",
    "#print(len(GV2045_2050))\n",
    "\n",
    "GVin2045Em=pd.DataFrame(GVin2045)#转化成dataframe作为以后的计算\n",
    "GVin2045Em.to_csv(\"Generation of vintage 2045.csv\")#这个是存储为csv"
   ]
  },
  {
   "cell_type": "code",
   "execution_count": 10,
   "id": "ead81e77",
   "metadata": {},
   "outputs": [],
   "source": [
    "GV2050_2025=[]\n",
    "GV2050_2030=[]\n",
    "GV2050_2035=[]\n",
    "GV2050_2040=[]\n",
    "GV2050_2045=[]\n",
    "GV2050_2050=[]\n",
    "for i in range(len(V2050)):#V2025是2025年的所有技术列表\n",
    "    GV2050_2025.append(CapCal[tech==V2050[i]][\"G2025\"].sum())#GV2025_2025：2025年的vintage在2025年的generation\n",
    "    GV2050_2030.append(CapCal[tech==V2050[i]][\"G2030\"].sum())#2025年的vintage在2030年的generation\n",
    "    GV2050_2035.append(CapCal[tech==V2050[i]][\"G2035\"].sum())\n",
    "    GV2050_2040.append(CapCal[tech==V2050[i]][\"G2040\"].sum())\n",
    "    GV2050_2045.append(CapCal[tech==V2050[i]][\"G2045\"].sum())\n",
    "    GV2050_2050.append(CapCal[tech==V2050[i]][\"G2050\"].sum())\n",
    "    \n",
    "    \n",
    "GVin2050={'Technology':V2050,  'Generation_Vintage2050_in2025':GV2050_2025, 'Generation_Vintage2050_in2030':GV2050_2030,\n",
    "          'Generation_Vintage2050_in2035':GV2050_2035,'Generation_Vintage2050_in2040':GV2050_2040,\n",
    "          'Generation_Vintage2050_in2045':GV2050_2045,'Generation_Vintage2050_in2050':GV2050_2050,\n",
    "                  'ScenarioName':CapCal[\"Scenario\"][1],\n",
    "          \n",
    "          'unit':CapCal[\"Unit\"][1]}\n",
    "#print(GVin2025)#目前是dictionary\n",
    "\n",
    "\n",
    "GVin2050Em=pd.DataFrame(GVin2050)#转化成dataframe作为以后的计算\n",
    "#print(GVin2050Em(0:10))\n",
    "GVin2050Em.to_csv(\"Generation of vintage 2050.csv\")#这个是存储为csv"
   ]
  },
  {
   "cell_type": "code",
   "execution_count": 11,
   "id": "1d8f044b",
   "metadata": {},
   "outputs": [],
   "source": [
    "#generate a generation list consisting all "
   ]
  },
  {
   "cell_type": "code",
   "execution_count": 12,
   "id": "e249106a",
   "metadata": {},
   "outputs": [
    {
     "data": {
      "text/plain": [
       "18880"
      ]
     },
     "execution_count": 12,
     "metadata": {},
     "output_type": "execute_result"
    }
   ],
   "source": [
    "#为每一个generation添加capacity factor\n",
    "CapFacSheet=pd.read_excel('pyplot.xlsx', sheet_name=\"CapFac\")#处理这个的时候要把wind_base换成“wind_base,”不然会有重复\n",
    "CapFac=CapFacSheet[\"Capacity factor\"]\n",
    "TechCF=CapFacSheet[\"tech\"]\n",
    "CF=[]\n",
    "\n",
    "for technology in tech:\n",
    "    for i in range(len(TechCF)):\n",
    "#         CF.append(tech for cf in CapFac if TechCF[i] in technology)\n",
    "        if TechCF[i] in technology:\n",
    "            CF.append(CapFac[i])\n",
    "len(CF)"
   ]
  },
  {
   "cell_type": "code",
   "execution_count": 13,
   "id": "01727272",
   "metadata": {},
   "outputs": [
    {
     "ename": "ValueError",
     "evalue": "array length 18880 does not match index length 26207",
     "output_type": "error",
     "traceback": [
      "\u001b[1;31m---------------------------------------------------------------------------\u001b[0m",
      "\u001b[1;31mValueError\u001b[0m                                Traceback (most recent call last)",
      "Input \u001b[1;32mIn [13]\u001b[0m, in \u001b[0;36m<cell line: 5>\u001b[1;34m()\u001b[0m\n\u001b[0;32m      1\u001b[0m TCF\u001b[38;5;241m=\u001b[39m{\n\u001b[0;32m      2\u001b[0m     \u001b[38;5;124m\"\u001b[39m\u001b[38;5;124mTechnology\u001b[39m\u001b[38;5;124m\"\u001b[39m: tech,\n\u001b[0;32m      3\u001b[0m     \u001b[38;5;124m\"\u001b[39m\u001b[38;5;124mCapacity factor\u001b[39m\u001b[38;5;124m\"\u001b[39m: CF\n\u001b[0;32m      4\u001b[0m }\n\u001b[1;32m----> 5\u001b[0m TCF2\u001b[38;5;241m=\u001b[39m\u001b[43mpd\u001b[49m\u001b[38;5;241;43m.\u001b[39;49m\u001b[43mDataFrame\u001b[49m\u001b[43m(\u001b[49m\u001b[43mTCF\u001b[49m\u001b[43m)\u001b[49m\n\u001b[0;32m      6\u001b[0m TCF2\u001b[38;5;241m.\u001b[39mto_csv(\u001b[38;5;124m\"\u001b[39m\u001b[38;5;124mcapacityFactor.csv\u001b[39m\u001b[38;5;124m\"\u001b[39m)\n",
      "File \u001b[1;32mE:\\Anacoda\\lib\\site-packages\\pandas\\core\\frame.py:529\u001b[0m, in \u001b[0;36mDataFrame.__init__\u001b[1;34m(self, data, index, columns, dtype, copy)\u001b[0m\n\u001b[0;32m    524\u001b[0m     mgr \u001b[38;5;241m=\u001b[39m \u001b[38;5;28mself\u001b[39m\u001b[38;5;241m.\u001b[39m_init_mgr(\n\u001b[0;32m    525\u001b[0m         data, axes\u001b[38;5;241m=\u001b[39m{\u001b[38;5;124m\"\u001b[39m\u001b[38;5;124mindex\u001b[39m\u001b[38;5;124m\"\u001b[39m: index, \u001b[38;5;124m\"\u001b[39m\u001b[38;5;124mcolumns\u001b[39m\u001b[38;5;124m\"\u001b[39m: columns}, dtype\u001b[38;5;241m=\u001b[39mdtype, copy\u001b[38;5;241m=\u001b[39mcopy\n\u001b[0;32m    526\u001b[0m     )\n\u001b[0;32m    528\u001b[0m \u001b[38;5;28;01melif\u001b[39;00m \u001b[38;5;28misinstance\u001b[39m(data, \u001b[38;5;28mdict\u001b[39m):\n\u001b[1;32m--> 529\u001b[0m     mgr \u001b[38;5;241m=\u001b[39m \u001b[43minit_dict\u001b[49m\u001b[43m(\u001b[49m\u001b[43mdata\u001b[49m\u001b[43m,\u001b[49m\u001b[43m \u001b[49m\u001b[43mindex\u001b[49m\u001b[43m,\u001b[49m\u001b[43m \u001b[49m\u001b[43mcolumns\u001b[49m\u001b[43m,\u001b[49m\u001b[43m \u001b[49m\u001b[43mdtype\u001b[49m\u001b[38;5;241;43m=\u001b[39;49m\u001b[43mdtype\u001b[49m\u001b[43m)\u001b[49m\n\u001b[0;32m    530\u001b[0m \u001b[38;5;28;01melif\u001b[39;00m \u001b[38;5;28misinstance\u001b[39m(data, ma\u001b[38;5;241m.\u001b[39mMaskedArray):\n\u001b[0;32m    531\u001b[0m     \u001b[38;5;28;01mimport\u001b[39;00m \u001b[38;5;21;01mnumpy\u001b[39;00m\u001b[38;5;21;01m.\u001b[39;00m\u001b[38;5;21;01mma\u001b[39;00m\u001b[38;5;21;01m.\u001b[39;00m\u001b[38;5;21;01mmrecords\u001b[39;00m \u001b[38;5;28;01mas\u001b[39;00m \u001b[38;5;21;01mmrecords\u001b[39;00m\n",
      "File \u001b[1;32mE:\\Anacoda\\lib\\site-packages\\pandas\\core\\internals\\construction.py:287\u001b[0m, in \u001b[0;36minit_dict\u001b[1;34m(data, index, columns, dtype)\u001b[0m\n\u001b[0;32m    281\u001b[0m     arrays \u001b[38;5;241m=\u001b[39m [\n\u001b[0;32m    282\u001b[0m         arr \u001b[38;5;28;01mif\u001b[39;00m \u001b[38;5;129;01mnot\u001b[39;00m \u001b[38;5;28misinstance\u001b[39m(arr, ABCIndexClass) \u001b[38;5;28;01melse\u001b[39;00m arr\u001b[38;5;241m.\u001b[39m_data \u001b[38;5;28;01mfor\u001b[39;00m arr \u001b[38;5;129;01min\u001b[39;00m arrays\n\u001b[0;32m    283\u001b[0m     ]\n\u001b[0;32m    284\u001b[0m     arrays \u001b[38;5;241m=\u001b[39m [\n\u001b[0;32m    285\u001b[0m         arr \u001b[38;5;28;01mif\u001b[39;00m \u001b[38;5;129;01mnot\u001b[39;00m is_datetime64tz_dtype(arr) \u001b[38;5;28;01melse\u001b[39;00m arr\u001b[38;5;241m.\u001b[39mcopy() \u001b[38;5;28;01mfor\u001b[39;00m arr \u001b[38;5;129;01min\u001b[39;00m arrays\n\u001b[0;32m    286\u001b[0m     ]\n\u001b[1;32m--> 287\u001b[0m \u001b[38;5;28;01mreturn\u001b[39;00m \u001b[43marrays_to_mgr\u001b[49m\u001b[43m(\u001b[49m\u001b[43marrays\u001b[49m\u001b[43m,\u001b[49m\u001b[43m \u001b[49m\u001b[43mdata_names\u001b[49m\u001b[43m,\u001b[49m\u001b[43m \u001b[49m\u001b[43mindex\u001b[49m\u001b[43m,\u001b[49m\u001b[43m \u001b[49m\u001b[43mcolumns\u001b[49m\u001b[43m,\u001b[49m\u001b[43m \u001b[49m\u001b[43mdtype\u001b[49m\u001b[38;5;241;43m=\u001b[39;49m\u001b[43mdtype\u001b[49m\u001b[43m)\u001b[49m\n",
      "File \u001b[1;32mE:\\Anacoda\\lib\\site-packages\\pandas\\core\\internals\\construction.py:80\u001b[0m, in \u001b[0;36marrays_to_mgr\u001b[1;34m(arrays, arr_names, index, columns, dtype, verify_integrity)\u001b[0m\n\u001b[0;32m     77\u001b[0m \u001b[38;5;28;01mif\u001b[39;00m verify_integrity:\n\u001b[0;32m     78\u001b[0m     \u001b[38;5;66;03m# figure out the index, if necessary\u001b[39;00m\n\u001b[0;32m     79\u001b[0m     \u001b[38;5;28;01mif\u001b[39;00m index \u001b[38;5;129;01mis\u001b[39;00m \u001b[38;5;28;01mNone\u001b[39;00m:\n\u001b[1;32m---> 80\u001b[0m         index \u001b[38;5;241m=\u001b[39m \u001b[43mextract_index\u001b[49m\u001b[43m(\u001b[49m\u001b[43marrays\u001b[49m\u001b[43m)\u001b[49m\n\u001b[0;32m     81\u001b[0m     \u001b[38;5;28;01melse\u001b[39;00m:\n\u001b[0;32m     82\u001b[0m         index \u001b[38;5;241m=\u001b[39m ensure_index(index)\n",
      "File \u001b[1;32mE:\\Anacoda\\lib\\site-packages\\pandas\\core\\internals\\construction.py:415\u001b[0m, in \u001b[0;36mextract_index\u001b[1;34m(data)\u001b[0m\n\u001b[0;32m    410\u001b[0m     \u001b[38;5;28;01mif\u001b[39;00m lengths[\u001b[38;5;241m0\u001b[39m] \u001b[38;5;241m!=\u001b[39m \u001b[38;5;28mlen\u001b[39m(index):\n\u001b[0;32m    411\u001b[0m         msg \u001b[38;5;241m=\u001b[39m (\n\u001b[0;32m    412\u001b[0m             \u001b[38;5;124mf\u001b[39m\u001b[38;5;124m\"\u001b[39m\u001b[38;5;124marray length \u001b[39m\u001b[38;5;132;01m{\u001b[39;00mlengths[\u001b[38;5;241m0\u001b[39m]\u001b[38;5;132;01m}\u001b[39;00m\u001b[38;5;124m does not match index \u001b[39m\u001b[38;5;124m\"\u001b[39m\n\u001b[0;32m    413\u001b[0m             \u001b[38;5;124mf\u001b[39m\u001b[38;5;124m\"\u001b[39m\u001b[38;5;124mlength \u001b[39m\u001b[38;5;132;01m{\u001b[39;00m\u001b[38;5;28mlen\u001b[39m(index)\u001b[38;5;132;01m}\u001b[39;00m\u001b[38;5;124m\"\u001b[39m\n\u001b[0;32m    414\u001b[0m         )\n\u001b[1;32m--> 415\u001b[0m         \u001b[38;5;28;01mraise\u001b[39;00m \u001b[38;5;167;01mValueError\u001b[39;00m(msg)\n\u001b[0;32m    416\u001b[0m \u001b[38;5;28;01melse\u001b[39;00m:\n\u001b[0;32m    417\u001b[0m     index \u001b[38;5;241m=\u001b[39m ibase\u001b[38;5;241m.\u001b[39mdefault_index(lengths[\u001b[38;5;241m0\u001b[39m])\n",
      "\u001b[1;31mValueError\u001b[0m: array length 18880 does not match index length 26207"
     ]
    }
   ],
   "source": [
    "TCF={\n",
    "    \"Technology\": tech,\n",
    "    \"Capacity factor\": CF\n",
    "}\n",
    "TCF2=pd.DataFrame(TCF)\n",
    "TCF2.to_csv(\"capacityFactor.csv\")"
   ]
  },
  {
   "cell_type": "code",
   "execution_count": 14,
   "id": "76a5a0c8",
   "metadata": {},
   "outputs": [
    {
     "data": {
      "text/plain": [
       "35"
      ]
     },
     "execution_count": 14,
     "metadata": {},
     "output_type": "execute_result"
    }
   ],
   "source": [
    "CF2=[]\n",
    "technology_plus_cf=GVin2025Em[\"Technology\"]\n",
    "for technology in technology_plus_cf:\n",
    "    for i in range(len(TechCF)):\n",
    "#         CF.append(tech for cf in CapFac if TechCF[i] in technology)\n",
    "        if TechCF[i] in technology:\n",
    "            CF2.append(CapFac[i])\n",
    "len(CF2)\n"
   ]
  },
  {
   "cell_type": "code",
   "execution_count": 15,
   "id": "e49f83d7",
   "metadata": {},
   "outputs": [],
   "source": [
    "#len(technology_plus_cf)\n",
    "# len(V2025)"
   ]
  },
  {
   "cell_type": "code",
   "execution_count": 16,
   "id": "3d173184",
   "metadata": {},
   "outputs": [
    {
     "ename": "ValueError",
     "evalue": "arrays must all be same length",
     "output_type": "error",
     "traceback": [
      "\u001b[1;31m---------------------------------------------------------------------------\u001b[0m",
      "\u001b[1;31mValueError\u001b[0m                                Traceback (most recent call last)",
      "Input \u001b[1;32mIn [16]\u001b[0m, in \u001b[0;36m<cell line: 9>\u001b[1;34m()\u001b[0m\n\u001b[0;32m      1\u001b[0m \u001b[38;5;66;03m#GVin2025Em.append(CF)\u001b[39;00m\n\u001b[0;32m      2\u001b[0m TCF4\u001b[38;5;241m=\u001b[39m{\u001b[38;5;124m'\u001b[39m\u001b[38;5;124mTechnology\u001b[39m\u001b[38;5;124m'\u001b[39m:V2025,  \u001b[38;5;124m'\u001b[39m\u001b[38;5;124mGeneration_Vintage2025_in2025\u001b[39m\u001b[38;5;124m'\u001b[39m:GV2025_2025, \u001b[38;5;124m'\u001b[39m\u001b[38;5;124mGeneration_Vintage2025_in2030\u001b[39m\u001b[38;5;124m'\u001b[39m:GV2025_2030,\n\u001b[0;32m      3\u001b[0m           \u001b[38;5;124m'\u001b[39m\u001b[38;5;124mGeneration_Vintage2025_in2035\u001b[39m\u001b[38;5;124m'\u001b[39m:GV2025_2035,\u001b[38;5;124m'\u001b[39m\u001b[38;5;124mGeneration_Vintage2025_in2040\u001b[39m\u001b[38;5;124m'\u001b[39m:GV2025_2040,\n\u001b[0;32m      4\u001b[0m           \u001b[38;5;124m'\u001b[39m\u001b[38;5;124mGeneration_Vintage2025_in2045\u001b[39m\u001b[38;5;124m'\u001b[39m:GV2025_2045,\u001b[38;5;124m'\u001b[39m\u001b[38;5;124mGeneration_Vintage2025_in2050\u001b[39m\u001b[38;5;124m'\u001b[39m:GV2025_2050,\n\u001b[1;32m   (...)\u001b[0m\n\u001b[0;32m      7\u001b[0m           \u001b[38;5;66;03m#'Capacity Factor': GV2025\u001b[39;00m\n\u001b[0;32m      8\u001b[0m           \u001b[38;5;124m'\u001b[39m\u001b[38;5;124munit\u001b[39m\u001b[38;5;124m'\u001b[39m:CapCal[\u001b[38;5;124m\"\u001b[39m\u001b[38;5;124mUnit\u001b[39m\u001b[38;5;124m\"\u001b[39m][\u001b[38;5;241m1\u001b[39m]}\n\u001b[1;32m----> 9\u001b[0m TCF3\u001b[38;5;241m=\u001b[39m\u001b[43mpd\u001b[49m\u001b[38;5;241;43m.\u001b[39;49m\u001b[43mDataFrame\u001b[49m\u001b[43m(\u001b[49m\u001b[43mTCF4\u001b[49m\u001b[43m)\u001b[49m\n",
      "File \u001b[1;32mE:\\Anacoda\\lib\\site-packages\\pandas\\core\\frame.py:529\u001b[0m, in \u001b[0;36mDataFrame.__init__\u001b[1;34m(self, data, index, columns, dtype, copy)\u001b[0m\n\u001b[0;32m    524\u001b[0m     mgr \u001b[38;5;241m=\u001b[39m \u001b[38;5;28mself\u001b[39m\u001b[38;5;241m.\u001b[39m_init_mgr(\n\u001b[0;32m    525\u001b[0m         data, axes\u001b[38;5;241m=\u001b[39m{\u001b[38;5;124m\"\u001b[39m\u001b[38;5;124mindex\u001b[39m\u001b[38;5;124m\"\u001b[39m: index, \u001b[38;5;124m\"\u001b[39m\u001b[38;5;124mcolumns\u001b[39m\u001b[38;5;124m\"\u001b[39m: columns}, dtype\u001b[38;5;241m=\u001b[39mdtype, copy\u001b[38;5;241m=\u001b[39mcopy\n\u001b[0;32m    526\u001b[0m     )\n\u001b[0;32m    528\u001b[0m \u001b[38;5;28;01melif\u001b[39;00m \u001b[38;5;28misinstance\u001b[39m(data, \u001b[38;5;28mdict\u001b[39m):\n\u001b[1;32m--> 529\u001b[0m     mgr \u001b[38;5;241m=\u001b[39m \u001b[43minit_dict\u001b[49m\u001b[43m(\u001b[49m\u001b[43mdata\u001b[49m\u001b[43m,\u001b[49m\u001b[43m \u001b[49m\u001b[43mindex\u001b[49m\u001b[43m,\u001b[49m\u001b[43m \u001b[49m\u001b[43mcolumns\u001b[49m\u001b[43m,\u001b[49m\u001b[43m \u001b[49m\u001b[43mdtype\u001b[49m\u001b[38;5;241;43m=\u001b[39;49m\u001b[43mdtype\u001b[49m\u001b[43m)\u001b[49m\n\u001b[0;32m    530\u001b[0m \u001b[38;5;28;01melif\u001b[39;00m \u001b[38;5;28misinstance\u001b[39m(data, ma\u001b[38;5;241m.\u001b[39mMaskedArray):\n\u001b[0;32m    531\u001b[0m     \u001b[38;5;28;01mimport\u001b[39;00m \u001b[38;5;21;01mnumpy\u001b[39;00m\u001b[38;5;21;01m.\u001b[39;00m\u001b[38;5;21;01mma\u001b[39;00m\u001b[38;5;21;01m.\u001b[39;00m\u001b[38;5;21;01mmrecords\u001b[39;00m \u001b[38;5;28;01mas\u001b[39;00m \u001b[38;5;21;01mmrecords\u001b[39;00m\n",
      "File \u001b[1;32mE:\\Anacoda\\lib\\site-packages\\pandas\\core\\internals\\construction.py:287\u001b[0m, in \u001b[0;36minit_dict\u001b[1;34m(data, index, columns, dtype)\u001b[0m\n\u001b[0;32m    281\u001b[0m     arrays \u001b[38;5;241m=\u001b[39m [\n\u001b[0;32m    282\u001b[0m         arr \u001b[38;5;28;01mif\u001b[39;00m \u001b[38;5;129;01mnot\u001b[39;00m \u001b[38;5;28misinstance\u001b[39m(arr, ABCIndexClass) \u001b[38;5;28;01melse\u001b[39;00m arr\u001b[38;5;241m.\u001b[39m_data \u001b[38;5;28;01mfor\u001b[39;00m arr \u001b[38;5;129;01min\u001b[39;00m arrays\n\u001b[0;32m    283\u001b[0m     ]\n\u001b[0;32m    284\u001b[0m     arrays \u001b[38;5;241m=\u001b[39m [\n\u001b[0;32m    285\u001b[0m         arr \u001b[38;5;28;01mif\u001b[39;00m \u001b[38;5;129;01mnot\u001b[39;00m is_datetime64tz_dtype(arr) \u001b[38;5;28;01melse\u001b[39;00m arr\u001b[38;5;241m.\u001b[39mcopy() \u001b[38;5;28;01mfor\u001b[39;00m arr \u001b[38;5;129;01min\u001b[39;00m arrays\n\u001b[0;32m    286\u001b[0m     ]\n\u001b[1;32m--> 287\u001b[0m \u001b[38;5;28;01mreturn\u001b[39;00m \u001b[43marrays_to_mgr\u001b[49m\u001b[43m(\u001b[49m\u001b[43marrays\u001b[49m\u001b[43m,\u001b[49m\u001b[43m \u001b[49m\u001b[43mdata_names\u001b[49m\u001b[43m,\u001b[49m\u001b[43m \u001b[49m\u001b[43mindex\u001b[49m\u001b[43m,\u001b[49m\u001b[43m \u001b[49m\u001b[43mcolumns\u001b[49m\u001b[43m,\u001b[49m\u001b[43m \u001b[49m\u001b[43mdtype\u001b[49m\u001b[38;5;241;43m=\u001b[39;49m\u001b[43mdtype\u001b[49m\u001b[43m)\u001b[49m\n",
      "File \u001b[1;32mE:\\Anacoda\\lib\\site-packages\\pandas\\core\\internals\\construction.py:80\u001b[0m, in \u001b[0;36marrays_to_mgr\u001b[1;34m(arrays, arr_names, index, columns, dtype, verify_integrity)\u001b[0m\n\u001b[0;32m     77\u001b[0m \u001b[38;5;28;01mif\u001b[39;00m verify_integrity:\n\u001b[0;32m     78\u001b[0m     \u001b[38;5;66;03m# figure out the index, if necessary\u001b[39;00m\n\u001b[0;32m     79\u001b[0m     \u001b[38;5;28;01mif\u001b[39;00m index \u001b[38;5;129;01mis\u001b[39;00m \u001b[38;5;28;01mNone\u001b[39;00m:\n\u001b[1;32m---> 80\u001b[0m         index \u001b[38;5;241m=\u001b[39m \u001b[43mextract_index\u001b[49m\u001b[43m(\u001b[49m\u001b[43marrays\u001b[49m\u001b[43m)\u001b[49m\n\u001b[0;32m     81\u001b[0m     \u001b[38;5;28;01melse\u001b[39;00m:\n\u001b[0;32m     82\u001b[0m         index \u001b[38;5;241m=\u001b[39m ensure_index(index)\n",
      "File \u001b[1;32mE:\\Anacoda\\lib\\site-packages\\pandas\\core\\internals\\construction.py:401\u001b[0m, in \u001b[0;36mextract_index\u001b[1;34m(data)\u001b[0m\n\u001b[0;32m    399\u001b[0m lengths \u001b[38;5;241m=\u001b[39m \u001b[38;5;28mlist\u001b[39m(\u001b[38;5;28mset\u001b[39m(raw_lengths))\n\u001b[0;32m    400\u001b[0m \u001b[38;5;28;01mif\u001b[39;00m \u001b[38;5;28mlen\u001b[39m(lengths) \u001b[38;5;241m>\u001b[39m \u001b[38;5;241m1\u001b[39m:\n\u001b[1;32m--> 401\u001b[0m     \u001b[38;5;28;01mraise\u001b[39;00m \u001b[38;5;167;01mValueError\u001b[39;00m(\u001b[38;5;124m\"\u001b[39m\u001b[38;5;124marrays must all be same length\u001b[39m\u001b[38;5;124m\"\u001b[39m)\n\u001b[0;32m    403\u001b[0m \u001b[38;5;28;01mif\u001b[39;00m have_dicts:\n\u001b[0;32m    404\u001b[0m     \u001b[38;5;28;01mraise\u001b[39;00m \u001b[38;5;167;01mValueError\u001b[39;00m(\n\u001b[0;32m    405\u001b[0m         \u001b[38;5;124m\"\u001b[39m\u001b[38;5;124mMixing dicts with non-Series may lead to ambiguous ordering.\u001b[39m\u001b[38;5;124m\"\u001b[39m\n\u001b[0;32m    406\u001b[0m     )\n",
      "\u001b[1;31mValueError\u001b[0m: arrays must all be same length"
     ]
    }
   ],
   "source": [
    "#GVin2025Em.append(CF)\n",
    "TCF4={'Technology':V2025,  'Generation_Vintage2025_in2025':GV2025_2025, 'Generation_Vintage2025_in2030':GV2025_2030,\n",
    "          'Generation_Vintage2025_in2035':GV2025_2035,'Generation_Vintage2025_in2040':GV2025_2040,\n",
    "          'Generation_Vintage2025_in2045':GV2025_2045,'Generation_Vintage2025_in2050':GV2025_2050,\n",
    "      'Capacity factor': CF2,\n",
    "                  'ScenarioName':CapCal[\"Scenario\"][1],\n",
    "          #'Capacity Factor': GV2025\n",
    "          'unit':CapCal[\"Unit\"][1]}\n",
    "TCF3=pd.DataFrame(TCF4)\n",
    "#TCF3.to_csv(\"capacityFactorAndEmission.csv\")\n"
   ]
  },
  {
   "cell_type": "code",
   "execution_count": null,
   "id": "47da7f51",
   "metadata": {},
   "outputs": [],
   "source": [
    "#print(TCF3.head(5))"
   ]
  },
  {
   "cell_type": "code",
   "execution_count": null,
   "id": "34b0098b",
   "metadata": {},
   "outputs": [],
   "source": [
    "CapAdded=[]\n",
    "tech=TCF3[\"Technology\"]\n",
    "Gn2025_2025=TCF3[\"Generation_Vintage2025_in2025\"]\n",
    "nCF=TCF3[\"Capacity factor\"]\n",
    "#print(len(tech))\n",
    "\n",
    "for i in range(len(tech)):\n",
    "    CapAdded.append(Gn2025_2025[i]/(3.6*10**6)*10**18/365/24/nCF[i])#Capacity unit:kW\n",
    "    \n",
    "    #print(GV2025[i],CapAdded[i])\n",
    "    \n",
    "print(len(CapAdded))"
   ]
  },
  {
   "cell_type": "code",
   "execution_count": null,
   "id": "acd8b876",
   "metadata": {},
   "outputs": [],
   "source": [
    "CapacityAdded={\n",
    "    \"Technology\":tech,\n",
    "    \"Capacity added,kW\":CapAdded\n",
    "}\n",
    "CA2025=pd.DataFrame(CapacityAdded)\n",
    "CA2025.to_csv(\"New Capacity2025-pork.csv\")"
   ]
  },
  {
   "cell_type": "code",
   "execution_count": null,
   "id": "592e4741",
   "metadata": {},
   "outputs": [],
   "source": [
    "CF2030=[]\n",
    "technology_plus_cf=GVin2030Em[\"Technology\"]\n",
    "for technology in technology_plus_cf:\n",
    "    for i in range(len(TechCF)):\n",
    "#         CF.append(tech for cf in CapFac if TechCF[i] in technology)\n",
    "        if TechCF[i] in technology:\n",
    "            CF2030.append(CapFac[i])\n",
    "len(CF2030)\n",
    "\n",
    "GVin2030Em['Capacity factor']=CF2030\n",
    "\n",
    "# GVin2030Em.to_csv(\"2030Emission and capacity factors.csv\")\n",
    "\n",
    "CapAdded=[]\n",
    "tech=GVin2030Em[\"Technology\"]\n",
    "Gn2030_2030=GVin2030Em[\"Generation_Vintage2030_in2030\"]\n",
    "nCF=GVin2030Em[\"Capacity factor\"]\n",
    "#print(len(tech))\n",
    "\n",
    "for i in range(len(tech)):\n",
    "    CapAdded.append(Gn2030_2030[i]/(3.6*10**6)*10**18/365/24/nCF[i])#Capacity unit:kW\n",
    "    \n",
    "    #print(GV2025[i],CapAdded[i])\n",
    "    \n",
    "print(len(CapAdded))\n",
    "CapacityAdded={\n",
    "    \"Technology\":tech,\n",
    "    \"Capacity added,kW\":CapAdded\n",
    "}\n",
    "CA2030=pd.DataFrame(CapacityAdded)\n",
    "CA2030.to_csv(\"New Capacity2030-pork.csv\")"
   ]
  },
  {
   "cell_type": "code",
   "execution_count": null,
   "id": "612a7cb5",
   "metadata": {},
   "outputs": [],
   "source": [
    "CF2035=[]\n",
    "technology_plus_cf=GVin2035Em[\"Technology\"]\n",
    "for technology in technology_plus_cf:\n",
    "    for i in range(len(TechCF)):\n",
    "#         CF.append(tech for cf in CapFac if TechCF[i] in technology)\n",
    "        if TechCF[i] in technology:\n",
    "            CF2035.append(CapFac[i])\n",
    "len(CF2035)\n",
    "\n",
    "GVin2035Em['Capacity factor']=CF2035\n",
    "\n",
    "# GVin2035Em.to_csv(\"2035Emission and capacity factors.csv\")\n",
    "\n",
    "CapAdded=[]\n",
    "tech=GVin2035Em[\"Technology\"]\n",
    "Gn2035_2035=GVin2035Em[\"Generation_Vintage2035_in2035\"]\n",
    "nCF=GVin2035Em[\"Capacity factor\"]\n",
    "#print(len(tech))\n",
    "\n",
    "for i in range(len(tech)):\n",
    "    CapAdded.append(Gn2035_2035[i]/(3.6*10**6)*10**18/365/24/nCF[i])#Capacity unit:kW\n",
    "\n",
    "    \n",
    "print(len(CapAdded))\n",
    "CapacityAdded={\n",
    "    \"Technology\":tech,\n",
    "    \"Capacity added,kW\":CapAdded\n",
    "}\n",
    "CA2035=pd.DataFrame(CapacityAdded)\n",
    "CA2035.to_csv(\"New Capacity2035-pork.csv\")"
   ]
  },
  {
   "cell_type": "code",
   "execution_count": null,
   "id": "9746dc32",
   "metadata": {},
   "outputs": [],
   "source": [
    "CF2040=[]\n",
    "technology_plus_cf=GVin2040Em[\"Technology\"]\n",
    "for technology in technology_plus_cf:\n",
    "    for i in range(len(TechCF)):\n",
    "#         CF.append(tech for cf in CapFac if TechCF[i] in technology)\n",
    "        if TechCF[i] in technology:\n",
    "            CF2040.append(CapFac[i])\n",
    "len(CF2040)\n",
    "\n",
    "GVin2040Em['Capacity factor']=CF2040\n",
    "\n",
    "# GVin2040Em.to_csv(\"2040Emission and capacity factors.csv\")\n",
    "\n",
    "CapAdded=[]\n",
    "tech=GVin2040Em[\"Technology\"]\n",
    "Gn2040_2040=GVin2040Em[\"Generation_Vintage2040_in2040\"]\n",
    "nCF=GVin2040Em[\"Capacity factor\"]\n",
    "#print(len(tech))\n",
    "\n",
    "for i in range(len(tech)):\n",
    "    CapAdded.append(Gn2040_2040[i]/(3.6*10**6)*10**18/365/24/nCF[i])#Capacity unit:kW\n",
    "    \n",
    "\n",
    "    \n",
    "print(len(CapAdded))\n",
    "CapacityAdded={\n",
    "    \"Technology\":tech,\n",
    "    \"Capacity added,kW\":CapAdded\n",
    "}\n",
    "CA2040=pd.DataFrame(CapacityAdded)\n",
    "CA2040.to_csv(\"New Capacity2040-pork.csv\")"
   ]
  },
  {
   "cell_type": "code",
   "execution_count": null,
   "id": "56228e6f",
   "metadata": {},
   "outputs": [],
   "source": [
    "CF2045=[]\n",
    "technology_plus_cf=GVin2045Em[\"Technology\"]\n",
    "for technology in technology_plus_cf:\n",
    "    for i in range(len(TechCF)):\n",
    "#         CF.append(tech for cf in CapFac if TechCF[i] in technology)\n",
    "        if TechCF[i] in technology:\n",
    "            CF2045.append(CapFac[i])\n",
    "len(CF2045)\n",
    "\n",
    "GVin2045Em['Capacity factor']=CF2045\n",
    "\n",
    "# GVin2045Em.to_csv(\"2045Emission and capacity factors.csv\")\n",
    "\n",
    "CapAdded=[]\n",
    "tech=GVin2045Em[\"Technology\"]\n",
    "Gn2045_2045=GVin2045Em[\"Generation_Vintage2045_in2045\"]\n",
    "nCF=GVin2045Em[\"Capacity factor\"]\n",
    "#print(len(tech))\n",
    "\n",
    "for i in range(len(tech)):\n",
    "    CapAdded.append(Gn2045_2045[i]/(3.6*10**6)*10**18/365/24/nCF[i])#Capacity unit:kW\n",
    "\n",
    "    \n",
    "print(len(CapAdded))\n",
    "CapacityAdded={\n",
    "    \"Technology\":tech,\n",
    "    \"Capacity added,kW\":CapAdded\n",
    "}\n",
    "CA2045=pd.DataFrame(CapacityAdded)\n",
    "CA2045.to_csv(\"New Capacity2045-pork.csv\")"
   ]
  },
  {
   "cell_type": "code",
   "execution_count": null,
   "id": "0bfb4ec9",
   "metadata": {},
   "outputs": [],
   "source": [
    "CF2050=[]\n",
    "technology_plus_cf=GVin2050Em[\"Technology\"]\n",
    "for technology in technology_plus_cf:\n",
    "    for i in range(len(TechCF)):\n",
    "#         CF.append(tech for cf in CapFac if TechCF[i] in technology)\n",
    "        if TechCF[i] in technology:\n",
    "            CF2050.append(CapFac[i])\n",
    "len(CF2050)\n",
    "\n",
    "GVin2050Em['Capacity factor']=CF2050\n",
    "\n",
    "# GVin2050Em.to_csv(\"2050Emission and capacity factors.csv\")\n",
    "\n",
    "CapAdded=[]\n",
    "tech=GVin2050Em[\"Technology\"]\n",
    "Gn2050_2050=GVin2050Em[\"Generation_Vintage2050_in2050\"]\n",
    "nCF=GVin2050Em[\"Capacity factor\"]\n",
    "#print(len(tech))\n",
    "\n",
    "for i in range(len(tech)):\n",
    "    CapAdded.append(Gn2050_2050[i]/(3.6*10**6)*10**18/365/24/nCF[i])#Capacity unit:kW\n",
    "    \n",
    "\n",
    "    \n",
    "print(len(CapAdded))\n",
    "CapacityAdded={\n",
    "    \"Technology\":tech,\n",
    "    \"Capacity added,kW\":CapAdded\n",
    "}\n",
    "CA2050=pd.DataFrame(CapacityAdded)\n",
    "CA2050.to_csv(\"New Capacity2050-pork.csv\")"
   ]
  },
  {
   "cell_type": "code",
   "execution_count": null,
   "id": "d4e71967",
   "metadata": {},
   "outputs": [],
   "source": [
    "CA=[CA2025,CA2030,CA2035,CA2040,CA2045,CA2050]"
   ]
  },
  {
   "cell_type": "code",
   "execution_count": null,
   "id": "748f4b40",
   "metadata": {},
   "outputs": [],
   "source": [
    "CA=pd.DataFrame(CA)\n",
    "CA.to_csv(\"New Capacity,stick-only.csv\")"
   ]
  },
  {
   "cell_type": "code",
   "execution_count": null,
   "id": "b2ab6841",
   "metadata": {},
   "outputs": [],
   "source": []
  }
 ],
 "metadata": {
  "kernelspec": {
   "display_name": "Python 3 (ipykernel)",
   "language": "python",
   "name": "python3"
  },
  "language_info": {
   "codemirror_mode": {
    "name": "ipython",
    "version": 3
   },
   "file_extension": ".py",
   "mimetype": "text/x-python",
   "name": "python",
   "nbconvert_exporter": "python",
   "pygments_lexer": "ipython3",
   "version": "3.9.12"
  }
 },
 "nbformat": 4,
 "nbformat_minor": 5
}
