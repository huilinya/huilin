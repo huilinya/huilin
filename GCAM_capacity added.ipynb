{
 "cells": [
  {
   "cell_type": "code",
   "execution_count": 1,
   "id": "e8db9777",
   "metadata": {},
   "outputs": [],
   "source": [
    "import pandas as pd\n",
    "import numpy as np\n",
    "import matplotlib.pyplot as plt\n",
    "import scienceplots"
   ]
  },
  {
   "cell_type": "code",
   "execution_count": 2,
   "id": "3e003906",
   "metadata": {},
   "outputs": [
    {
     "name": "stdout",
     "output_type": "stream",
     "text": [
      "EJ\n"
     ]
    }
   ],
   "source": [
    "CapCal=pd.read_excel('pyplot.xlsx', sheet_name=\"Capa\")#计算新增capacity需要的sheet\n",
    "unit=CapCal[\"unit\"][1]#unit of generation\n",
    "print(unit)\n",
    "tech=CapCal[\"Tech\"]\n"
   ]
  },
  {
   "cell_type": "code",
   "execution_count": 3,
   "id": "34b7e8c9",
   "metadata": {},
   "outputs": [
    {
     "name": "stdout",
     "output_type": "stream",
     "text": [
      "<class 'list'>\n"
     ]
    }
   ],
   "source": [
    "Vintage2025=[tech for tech in tech if 'year=2025' in tech]#寻找vintage=2025的各种技术的generation\n",
    "Vintage2030=[tech for tech in tech if 'year=2030' in tech]\n",
    "Vintage2035=[tech for tech in tech if 'year=2035' in tech]\n",
    "Vintage2040=[tech for tech in tech if 'year=2040' in tech]\n",
    "Vintage2045=[tech for tech in tech if 'year=2045' in tech]\n",
    "Vintage2050=[tech for tech in tech if 'year=2050' in tech]\n",
    "#V2025=pd.Dataframe(Vintage2025).drop_duplicates().tolist()\n",
    "#print(V2025)\n",
    "V2025=list(set(Vintage2025))#这个是去除重复项的方法2，换了一个方法是因为需要去掉“去除重复项之后留下的每一项的index”\n",
    "V2030=list(set(Vintage2030))\n",
    "V2035=list(set(Vintage2035))\n",
    "V2040=list(set(Vintage2040))\n",
    "V2045=list(set(Vintage2045))\n",
    "V2050=list(set(Vintage2050))\n",
    "print(type(V2025))"
   ]
  },
  {
   "cell_type": "code",
   "execution_count": 4,
   "id": "417d3244",
   "metadata": {},
   "outputs": [],
   "source": [
    "SectorCap=CapCal['Sector']\n",
    "G1990=CapCal[\"G1990\"]#G1990是1990年所有技术的排放\n",
    "G2005=CapCal[\"G2005\"]\n",
    "G2010=CapCal[\"G2010\"]\n",
    "G2015=CapCal[\"G2015\"]\n",
    "G2020=CapCal[\"G2020\"]\n",
    "G2025=CapCal[\"G2025\"]\n",
    "G2030=CapCal[\"G2030\"]\n",
    "G2035=CapCal[\"G2035\"]\n",
    "G2040=CapCal[\"G2040\"]\n",
    "G2045=CapCal[\"G2045\"]\n",
    "G2050=CapCal[\"G2050\"]\n",
    "\n",
    "\n",
    "#Generation-Vintage\n",
    "# GV2025_1990=[]\n",
    "# GV2025_2005=[]\n",
    "# GV2025_2010=[]\n",
    "# GV2025_2015=[]\n",
    "# GV2025_2020=[]\n",
    "GV2025_2025=[]\n",
    "GV2025_2030=[]\n",
    "GV2025_2035=[]\n",
    "GV2025_2040=[]\n",
    "GV2025_2045=[]\n",
    "GV2025_2050=[]"
   ]
  },
  {
   "cell_type": "code",
   "execution_count": 5,
   "id": "33ebd87a",
   "metadata": {},
   "outputs": [
    {
     "name": "stdout",
     "output_type": "stream",
     "text": [
      "{'Technology': ['gas (CC) (cooling pond),year=2025', 'biomass (conv) (seawater),year=2025', 'refined liquids (CC) (dry cooling),year=2025', 'biomass (conv) (cooling pond),year=2025', 'gas (CC) (dry cooling),year=2025', 'CSP_subpeak (recirculating),year=2025', 'rooftop_pv,year=2025', 'hydro_base,year=2025', 'CSP_int (recirculating),year=2025', 'geothermal (recirculating),year=2025', 'gas (steam/CT) (cooling pond),year=2025', 'wind_base,year=2025', 'PV_subpeak,year=2025', 'CSP_peak (dry_hybrid),year=2025', 'gas (steam/CT) (recirculating),year=2025', 'CSP_peak (recirculating),year=2025', 'CSP_base_storage,year=2025', 'gas (steam/CT) (dry cooling),year=2025', 'biomass (IGCC) (seawater),year=2025', 'gas (CC) (seawater),year=2025', 'wind_base_offshore,year=2025', 'CSP_subpeak (dry_hybrid),year=2025', 'refined liquids (CC) (recirculating),year=2025', 'biomass (conv) (recirculating),year=2025', 'biomass (IGCC) (dry cooling),year=2025', 'biomass (conv) (dry cooling),year=2025', 'PV_peak,year=2025', 'gas (steam/CT) (seawater),year=2025', 'PV_int,year=2025', 'refined liquids (CC) (seawater),year=2025', 'PV_base_storage,year=2025', 'CSP_int (dry_hybrid),year=2025', 'wind_base_storage,year=2025', 'biomass (IGCC) (recirculating),year=2025', 'gas (CC) (recirculating),year=2025'], 'Generation_Vintage2025_in2025': [0.063794850945187, 4.1974224200000004e-05, 4.0363923e-05, 8.114519099999999e-05, 0.08409924530551999, 0.00168773373, 0.05651791608000001, 1.052439261, 0.00999041067, 0.067397184, 0.00052854476752, 0.4230193282, 0.06426907992999999, 0.000332975413, 0.00126296143407, 0.000332975413, 0.00456308595, 4.8778405413e-05, 0.0013576197959999999, 0.0363648164, 0.022389868820000002, 0.00168773373, 5.2376340000000005e-05, 0.009820421433999998, 0.002472087535, 0.0010847148920000002, 0.0111647268557, 0.00036183452620000003, 0.29185907299999997, 5.3002898e-05, 0.0016666399721, 0.00999041067, 0.010530431882, 0.002762203512, 0.726129592015], 'Generation_Vintage2025_in2030': [0.06131465116562499, 3.26621848e-05, 2.6542085e-05, 4.6201597999999996e-05, 0.07952230220282, 0.00168756686, 0.0, 0.0, 0.009988572870000002, 0.0, 0.0004677621602100001, 0.4230193282, 0.06426853035999999, 0.000332975413, 0.0011317798786400002, 0.000332975413, 0.00456308595, 4.1390629553e-05, 0.001132561955, 0.034892229907, 0.022389868820000002, 0.00168756686, 3.7563142e-05, 0.0065261627720000015, 0.0018889043, 0.0007114443060000001, 0.0111647268557, 0.00028121236230000004, 0.29185301999999996, 3.8012283e-05, 0.0016666399721, 0.009988572870000002, 0.010530431882, 0.0022273678230000002, 0.6992816516466], 'Generation_Vintage2025_in2035': [0.061148839178157, 3.17638235e-05, 2.6525838e-05, 4.3412531e-05, 0.07933794896596, 0.00168758258, 0.0, 0.0, 0.00998996197, 0.0, 0.00046792642844, 0.4230193282, 0.06426858213999999, 0.000332975413, 0.0011382891441, 0.000332975413, 0.00456308595, 4.1999783870000006e-05, 0.0011064076300000003, 0.034871747338, 0.022389868820000002, 0.00168758258, 3.7738618e-05, 0.006270233952999999, 0.0018313272780000004, 0.000682289503, 0.0111647268557, 0.0002886856127, 0.291857595, 3.8189665e-05, 0.0016666399721, 0.00998996197, 0.010530431882, 0.00216980502, 0.6982175844902], 'Generation_Vintage2025_in2040': [0.06087998623299301, 2.9986544e-05, 2.6046957e-05, 3.8632137999999996e-05, 0.07895436470327001, 0.00168773373, 0.0, 0.0, 0.00999041067, 0.0, 0.00047294255923999997, 0.4230193282, 0.06426907992999999, 0.000332975413, 0.0011535234148, 0.000332975413, 0.00456308595, 4.3391253319000005e-05, 0.001059208822, 0.034790343691, 0.022389868820000002, 0.00168773373, 3.7249623e-05, 0.005788294794, 0.001718695073, 0.000624624098, 0.0111647268557, 0.0003004312776, 0.29185907299999997, 3.7695112000000004e-05, 0.0016666399721, 0.00999041067, 0.010530431882, 0.002055999979, 0.6959434946637], 'Generation_Vintage2025_in2045': [0.060350809356069, 2.8611816199999996e-05, 2.5735356e-05, 3.3751439000000004e-05, 0.07807828120388, 0.00168773373, 0.0, 0.0, 0.00999041067, 0.0, 0.00048038804288000006, 0.4230193282, 0.06426907992999999, 0.000332975413, 0.00116737415368, 0.000332975413, 0.00456308595, 4.4362807394e-05, 0.001001356994, 0.03451228032, 0.022389868820000002, 0.00168773373, 3.6884833999999996e-05, 0.005253877025000002, 0.0015805132770000002, 0.0005571806657999999, 0.0111647268557, 0.00030267874229999997, 0.29185907299999997, 3.7325817e-05, 0.0016666399721, 0.00999041067, 0.010530431882, 0.0019107125799999998, 0.6903411846718], 'Generation_Vintage2025_in2050': [0.059642535061119994, 2.73398996e-05, 2.6161738e-05, 3.1009743999999996e-05, 0.07698949565721999, 0.00168773373, 0.0, 0.0, 0.00999041067, 0.0, 0.00045971742575000004, 0.4230193282, 0.06426907992999999, 0.000332975413, 0.00112609493886, 0.000332975413, 0.00456308595, 4.3711362563e-05, 0.0009731092780000001, 0.034195964776999994, 0.0, 0.00168773373, 3.7380854e-05, 0.004936881538, 0.0014941728720000002, 0.0005269348773, 0.0111647268557, 0.0002956853312, 0.29185907299999997, 3.7827798e-05, 0.0016666399721, 0.00999041067, 0.010530431882, 0.0018194828949999998, 0.6821501755832], 'ScenarioName': 'GCAM-USA_baseline_1207,date=2022-8-12T11:07:00-05:00', 'unit': 'EJ'}\n"
     ]
    }
   ],
   "source": [
    "for i in range(len(V2025)):#V2025是2025年的所有技术列表\n",
    "    GV2025_2025.append(CapCal[tech==V2025[i]][\"G2025\"].sum())#GV2025_2025：2025年的vintage在2025年的generation\n",
    "    GV2025_2030.append(CapCal[tech==V2025[i]][\"G2030\"].sum())#2025年的vintage在2030年的generation\n",
    "    GV2025_2035.append(CapCal[tech==V2025[i]][\"G2035\"].sum())\n",
    "    GV2025_2040.append(CapCal[tech==V2025[i]][\"G2040\"].sum())\n",
    "    GV2025_2045.append(CapCal[tech==V2025[i]][\"G2045\"].sum())\n",
    "    GV2025_2050.append(CapCal[tech==V2025[i]][\"G2050\"].sum())\n",
    "    \n",
    "    \n",
    "GVin2025={'Technology':V2025,  'Generation_Vintage2025_in2025':GV2025_2025, 'Generation_Vintage2025_in2030':GV2025_2030,\n",
    "          'Generation_Vintage2025_in2035':GV2025_2035,'Generation_Vintage2025_in2040':GV2025_2040,\n",
    "          'Generation_Vintage2025_in2045':GV2025_2045,'Generation_Vintage2025_in2050':GV2025_2050,\n",
    "                  'ScenarioName':CapCal[\"Scenario\"][1],\n",
    "          #'Capacity Factor': GV2025\n",
    "          'unit':CapCal[\"unit\"][1]}\n",
    "print(GVin2025)#目前是dictionary\n",
    "\n",
    "\n",
    "GVin2025Em=pd.DataFrame(GVin2025)#转化成dataframe作为以后的计算\n",
    "GVin2025Em.to_csv(\"Generation of vintage 2025.csv\")#这个是存储为csv"
   ]
  },
  {
   "cell_type": "code",
   "execution_count": 6,
   "id": "6c754362",
   "metadata": {},
   "outputs": [
    {
     "name": "stdout",
     "output_type": "stream",
     "text": [
      "{'Technology': ['CSP_int (recirculating),year=2030', 'PV_int,year=2030', 'PV_subpeak,year=2030', 'biomass (IGCC) (seawater),year=2030', 'wind_base_offshore,year=2030', 'biomass (IGCC) (recirculating),year=2030', 'CSP_base_storage,year=2030', 'Gen_III (recirculating),year=2030', 'wind_base,year=2030', 'biomass (IGCC) (dry cooling),year=2030', 'gas (CC) (recirculating),year=2030', 'rooftop_pv,year=2030', 'gas (steam/CT) (seawater),year=2030', 'CSP_peak (dry_hybrid),year=2030', 'geothermal (recirculating),year=2030', 'CSP_subpeak (recirculating),year=2030', 'gas (CC) (seawater),year=2030', 'gas (CC) (cooling pond),year=2030', 'gas (steam/CT) (recirculating),year=2030', 'hydro_base,year=2030', 'biomass (conv) (dry cooling),year=2030', 'biomass (conv) (recirculating),year=2030', 'CSP_peak (recirculating),year=2030', 'Gen_III (seawater),year=2030', 'PV_peak,year=2030', 'CSP_int (dry_hybrid),year=2030', 'Gen_III (cooling pond),year=2030', 'biomass (conv) (cooling pond),year=2030', 'wind_base_storage,year=2030', 'gas (steam/CT) (cooling pond),year=2030', 'biomass (conv) (seawater),year=2030', 'CSP_subpeak (dry_hybrid),year=2030', 'PV_base_storage,year=2030', 'gas (steam/CT) (dry cooling),year=2030', 'gas (CC) (dry cooling),year=2030'], 'Generation_Vintage2030_in2025': [0.0, 0.0, 0.0, 0.0, 0.0, 0.0, 0.0, 0.0, 0.0, 0.0, 0.0, 0.0, 0.0, 0.0, 0.0, 0.0, 0.0, 0.0, 0.0, 0.0, 0.0, 0.0, 0.0, 0.0, 0.0, 0.0, 0.0, 0.0, 0.0, 0.0, 0.0, 0.0, 0.0, 0.0, 0.0], 'Generation_Vintage2030_in2030': [0.0183284108, 0.5420583141, 0.1018658278, 0.00167766969948, 0.06769704730000001, 0.0035841564094400004, 0.00511151364, 0.081902585, 0.530232044, 0.00320157593149, 1.06519874255906, 0.10407773799, 0.0002783493681, 0.0005037205860000001, 0.067357981, 0.00281799282, 0.05028088077059999, 0.10671509484724401, 0.0011607942387, 1.052423933, 0.0010968873891000002, 0.0127151113632, 0.0005037205860000001, 0.022285274, 0.0173217196459, 0.0183284108, 0.030159548999999997, 0.00012137511580000001, 0.01248446338, 0.00046600962210999994, 8.115385850000001e-05, 0.00281799282, 0.0024124716909999996, 4.267399019599999e-05, 0.12160509479322001], 'Generation_Vintage2030_in2035': [0.0183284108, 0.5420583141, 0.1018658278, 0.00138683515954, 0.06769704730000001, 0.0029003149687099996, 0.00511151364, 0.08190156700000001, 0.530232044, 0.00245636769285, 1.02869428171132, 0.0, 0.00022677755370000002, 0.0005037205860000001, 0.0, 0.00281799282, 0.0486198166087, 0.102695686172557, 0.00105584317025, 0.0, 0.0007044562227699999, 0.008382968204500001, 0.0005037205860000001, 0.02228509, 0.0173217196459, 0.0183284108, 0.03015869, 6.73843888e-05, 0.01248446338, 0.00041796964799, 6.180028250000001e-05, 0.00281799282, 0.0024124716909999996, 3.7303912533e-05, 0.11490663034711], 'Generation_Vintage2030_in2040': [0.0183284108, 0.5420583141, 0.1018658278, 0.0013297253762600003, 0.06769704730000001, 0.0027612440734399997, 0.00511151364, 0.08190135500000001, 0.530232044, 0.0023165117523, 1.02552049665468, 0.0, 0.0002347765937, 0.0005037205860000001, 0.0, 0.00281799282, 0.0485243481576, 0.10227750354450199, 0.0010687065366100001, 0.0, 0.00064921049319, 0.0077540111590999996, 0.0005037205860000001, 0.022285049, 0.0173217196459, 0.0183284108, 0.030158428000000004, 5.9973797499999995e-05, 0.01248446338, 0.00042222319538000005, 5.81997149e-05, 0.00281799282, 0.0024124716909999996, 3.8410257289e-05, 0.11436359666885003], 'Generation_Vintage2030_in2045': [0.0183284108, 0.5420583141, 0.1018658278, 0.00126645137882, 0.06769704730000001, 0.0025862739780399997, 0.00511151364, 0.08190095200000001, 0.530232044, 0.00214790877669, 1.01811278682017, 0.0, 0.000235845364, 0.0005037205860000001, 0.0, 0.00281799282, 0.048230100512199996, 0.101326115290174, 0.0010809945377199997, 0.0, 0.0005897638263599998, 0.0070860842989999995, 0.0005037205860000001, 0.022285008000000002, 0.0173217196459, 0.0183284108, 0.030157905, 5.16390493e-05, 0.01248446338, 0.00042841597665999997, 5.546299630000001e-05, 0.00281799282, 0.0024124716909999996, 3.9181438460999994e-05, 0.11301645619143999], 'Generation_Vintage2030_in2050': [0.0183284108, 0.5420583141, 0.1018658278, 0.00123651941734, 0.06769704730000001, 0.0024817773035900005, 0.00511151364, 0.08190062699999999, 0.530232044, 0.00204710504439, 1.00730885037286, 0.0, 0.00023061395009999999, 0.0005037205860000001, 0.0, 0.00281799282, 0.0478615182794, 0.10028168791994999, 0.00104605609367, 0.0, 0.0005644286150099999, 0.006699954912000001, 0.0005037205860000001, 0.022284976999999997, 0.0173217196459, 0.0183284108, 0.03015757, 4.78431732e-05, 0.01248446338, 0.00041178575798000007, 5.302820759999999e-05, 0.00281799282, 0.0024124716909999996, 3.8586552997e-05, 0.11149496241828], 'ScenarioName': 'GCAM-USA_baseline_1207,date=2022-8-12T11:07:00-05:00', 'unit': 'EJ'}\n"
     ]
    }
   ],
   "source": [
    "GV2030_2025=[]\n",
    "GV2030_2030=[]\n",
    "GV2030_2035=[]\n",
    "GV2030_2040=[]\n",
    "GV2030_2045=[]\n",
    "GV2030_2050=[]\n",
    "for i in range(len(V2030)):#V2025是2025年的所有技术列表\n",
    "    GV2030_2025.append(CapCal[tech==V2030[i]][\"G2025\"].sum())#GV2025_2025：2025年的vintage在2025年的generation\n",
    "    GV2030_2030.append(CapCal[tech==V2030[i]][\"G2030\"].sum())#2025年的vintage在2030年的generation\n",
    "    GV2030_2035.append(CapCal[tech==V2030[i]][\"G2035\"].sum())\n",
    "    GV2030_2040.append(CapCal[tech==V2030[i]][\"G2040\"].sum())\n",
    "    GV2030_2045.append(CapCal[tech==V2030[i]][\"G2045\"].sum())\n",
    "    GV2030_2050.append(CapCal[tech==V2030[i]][\"G2050\"].sum())\n",
    "    \n",
    "    \n",
    "GVin2030={'Technology':V2030,  'Generation_Vintage2030_in2025':GV2030_2025, 'Generation_Vintage2030_in2030':GV2030_2030,\n",
    "          'Generation_Vintage2030_in2035':GV2030_2035,'Generation_Vintage2030_in2040':GV2030_2040,\n",
    "          'Generation_Vintage2030_in2045':GV2030_2045,'Generation_Vintage2030_in2050':GV2030_2050,\n",
    "                  'ScenarioName':CapCal[\"Scenario\"][1],\n",
    "          #'Capacity Factor': GV2025\n",
    "          'unit':CapCal[\"unit\"][1]}\n",
    "print(GVin2030)#目前是dictionary\n",
    "\n",
    "\n",
    "GVin2030Em=pd.DataFrame(GVin2030)#转化成dataframe作为以后的计算\n",
    "GVin2030Em.to_csv(\"Generation of vintage 2030.csv\")#这个是存储为csv"
   ]
  },
  {
   "cell_type": "code",
   "execution_count": 7,
   "id": "0903049b",
   "metadata": {},
   "outputs": [
    {
     "name": "stdout",
     "output_type": "stream",
     "text": [
      "{'Technology': ['biomass (IGCC) (seawater),year=2035', 'Gen_III (recirculating),year=2035', 'biomass (conv) (seawater),year=2035', 'gas (CC) (recirculating),year=2035', 'biomass (conv) (cooling pond),year=2035', 'PV_peak,year=2035', 'wind_base,year=2035', 'CSP_int (dry_hybrid),year=2035', 'PV_subpeak,year=2035', 'CSP_subpeak (dry_hybrid),year=2035', 'PV_base_storage,year=2035', 'rooftop_pv,year=2035', 'CSP_subpeak (recirculating),year=2035', 'gas (steam/CT) (dry cooling),year=2035', 'geothermal (recirculating),year=2035', 'CSP_peak (recirculating),year=2035', 'gas (CC) (cooling pond),year=2035', 'hydro_base,year=2035', 'CSP_base_storage,year=2035', 'gas (CC) (dry cooling),year=2035', 'biomass (IGCC) (recirculating),year=2035', 'CSP_int (recirculating),year=2035', 'PV_int,year=2035', 'biomass (conv) (dry cooling),year=2035', 'gas (steam/CT) (seawater),year=2035', 'gas (steam/CT) (recirculating),year=2035', 'biomass (IGCC) (dry cooling),year=2035', 'Gen_III (seawater),year=2035', 'CSP_peak (dry_hybrid),year=2035', 'gas (CC) (seawater),year=2035', 'Gen_III (cooling pond),year=2035', 'gas (steam/CT) (cooling pond),year=2035', 'wind_base_offshore,year=2035', 'wind_base_storage,year=2035', 'biomass (conv) (recirculating),year=2035'], 'Generation_Vintage2035_in2025': [0.0, 0.0, 0.0, 0.0, 0.0, 0.0, 0.0, 0.0, 0.0, 0.0, 0.0, 0.0, 0.0, 0.0, 0.0, 0.0, 0.0, 0.0, 0.0, 0.0, 0.0, 0.0, 0.0, 0.0, 0.0, 0.0, 0.0, 0.0, 0.0, 0.0, 0.0, 0.0, 0.0, 0.0, 0.0], 'Generation_Vintage2035_in2030': [0.0, 0.0, 0.0, 0.0, 0.0, 0.0, 0.0, 0.0, 0.0, 0.0, 0.0, 0.0, 0.0, 0.0, 0.0, 0.0, 0.0, 0.0, 0.0, 0.0, 0.0, 0.0, 0.0, 0.0, 0.0, 0.0, 0.0, 0.0, 0.0, 0.0, 0.0, 0.0, 0.0, 0.0, 0.0], 'Generation_Vintage2035_in2035': [0.002504647, 0.10644572, 0.00015123314299999996, 1.3212932285158798, 0.000168784734, 0.0147557900559, 0.6186565556000001, 0.019624758500000002, 0.09267127929999999, 0.00288457704, 0.0029593177950000002, 0.1174942671, 0.00288457704, 3.9701648950000004e-05, 0.067331693, 0.000519929736, 0.13124330338516899, 1.0525726560000002, 0.0053128524, 0.13647442246352, 0.005443092736999999, 0.019624758500000002, 0.520168386, 0.001464380975, 0.0002641854469, 0.0011334799241400002, 0.004851233527000001, 0.032474863, 0.000519929736, 0.0711004246829, 0.036635350000000004, 0.00044293127773000005, 0.1111551372, 0.014589992860000001, 0.018367389472999998], 'Generation_Vintage2035_in2040': [0.0020369587100000004, 0.10644411, 0.000111892498, 1.2747094933022, 9.0747388e-05, 0.0147557900559, 0.6186565556000001, 0.019624758500000002, 0.09267127929999999, 0.00288457704, 0.0029593177950000002, 0.0, 0.00288457704, 3.604207804e-05, 0.0, 0.000519929736, 0.126594716492862, 0.0, 0.0053128524, 0.12886714354448, 0.004345363998, 0.019624758500000002, 0.520168386, 0.00090532491, 0.00022671433490000002, 0.00105304594021, 0.003659645038, 0.032474495, 0.000519929736, 0.06878438813530001, 0.036634, 0.00040556176487999997, 0.1111551372, 0.014589992860000001, 0.011612088130999999], 'Generation_Vintage2035_in2045': [0.00194680374, 0.10644363999999999, 0.000107009616, 1.2653714521806299, 7.7148311e-05, 0.0147557900559, 0.6186565556000001, 0.019624758500000002, 0.09267127929999999, 0.00288457704, 0.0029593177950000002, 0.0, 0.00288457704, 3.671413851e-05, 0.0, 0.000519929736, 0.125635517929028, 0.0, 0.0053128524, 0.12748632910847998, 0.004084968242, 0.019624758500000002, 0.520168386, 0.0008241049319999999, 0.00022729287239999998, 0.0010649510094900003, 0.003404059044, 0.032474464, 0.000519929736, 0.0683971222754, 0.036633439999999996, 0.0004112183138599999, 0.1111551372, 0.014589992860000001, 0.010572274268], 'Generation_Vintage2035_in2050': [0.00190467849, 0.10644316999999999, 0.000102750214, 1.25243859074377, 7.203510999999999e-05, 0.0147557900559, 0.6186565556000001, 0.019624758500000002, 0.09267127929999999, 0.00288457704, 0.0029593177950000002, 0.0, 0.00288457704, 3.6244399492e-05, 0.0, 0.000519929736, 0.124525535252853, 0.0, 0.0053128524, 0.12589316449979998, 0.00393308283, 0.019624758500000002, 0.520168386, 0.000791103326, 0.00022292085209999998, 0.00103367235069, 0.003254908767, 0.032474442, 0.000519929736, 0.067912352604, 0.03663306, 0.00039685089041999996, 0.1111551372, 0.014589992860000001, 0.009992267858], 'ScenarioName': 'GCAM-USA_baseline_1207,date=2022-8-12T11:07:00-05:00', 'unit': 'EJ'}\n"
     ]
    }
   ],
   "source": [
    "GV2035_2025=[]\n",
    "GV2035_2030=[]\n",
    "GV2035_2035=[]\n",
    "GV2035_2040=[]\n",
    "GV2035_2045=[]\n",
    "GV2035_2050=[]\n",
    "for i in range(len(V2025)):#V2025是2025年的所有技术列表\n",
    "    GV2035_2025.append(CapCal[tech==V2035[i]][\"G2025\"].sum())#GV2025_2025：2025年的vintage在2025年的generation\n",
    "    GV2035_2030.append(CapCal[tech==V2035[i]][\"G2030\"].sum())#2025年的vintage在2030年的generation\n",
    "    GV2035_2035.append(CapCal[tech==V2035[i]][\"G2035\"].sum())\n",
    "    GV2035_2040.append(CapCal[tech==V2035[i]][\"G2040\"].sum())\n",
    "    GV2035_2045.append(CapCal[tech==V2035[i]][\"G2045\"].sum())\n",
    "    GV2035_2050.append(CapCal[tech==V2035[i]][\"G2050\"].sum())\n",
    "    \n",
    "    \n",
    "GVin2035={'Technology':V2035,  'Generation_Vintage2035_in2025':GV2035_2025, 'Generation_Vintage2035_in2030':GV2035_2030,\n",
    "          'Generation_Vintage2035_in2035':GV2035_2035,'Generation_Vintage2035_in2040':GV2035_2040,\n",
    "          'Generation_Vintage2035_in2045':GV2035_2045,'Generation_Vintage2035_in2050':GV2035_2050,\n",
    "                  'ScenarioName':CapCal[\"Scenario\"][1],\n",
    "          #'Capacity Factor': GV2025\n",
    "          'unit':CapCal[\"unit\"][1]}\n",
    "print(GVin2035)#目前是dictionary\n",
    "\n",
    "\n",
    "GVin2035Em=pd.DataFrame(GVin2035)#转化成dataframe作为以后的计算\n",
    "GVin2035Em.to_csv(\"Generation of vintage 2035.csv\")#这个是存储为csv"
   ]
  },
  {
   "cell_type": "code",
   "execution_count": 8,
   "id": "97beef1a",
   "metadata": {},
   "outputs": [
    {
     "name": "stdout",
     "output_type": "stream",
     "text": [
      "{'Technology': ['rooftop_pv,year=2040', 'gas (steam/CT) (seawater),year=2040', 'CSP_subpeak (recirculating),year=2040', 'refined liquids (CC) (seawater),year=2040', 'gas (steam/CT) (dry cooling),year=2040', 'refined liquids (CC) (dry cooling),year=2040', 'biomass (conv) (cooling pond),year=2040', 'CSP_int (recirculating),year=2040', 'Gen_III (seawater),year=2040', 'Gen_III (cooling pond),year=2040', 'CSP_int (dry_hybrid),year=2040', 'geothermal (recirculating),year=2040', 'biomass (conv) (seawater),year=2040', 'biomass (IGCC) (dry cooling),year=2040', 'PV_peak,year=2040', 'gas (CC) (recirculating),year=2040', 'biomass (conv) (dry cooling),year=2040', 'gas (CC) (cooling pond),year=2040', 'biomass (IGCC) (recirculating),year=2040', 'CSP_subpeak (dry_hybrid),year=2040', 'PV_base_storage,year=2040', 'CSP_peak (dry_hybrid),year=2040', 'CSP_peak (recirculating),year=2040', 'wind_base_offshore,year=2040', 'PV_int,year=2040', 'gas (steam/CT) (cooling pond),year=2040', 'Gen_III (recirculating),year=2040', 'gas (steam/CT) (recirculating),year=2040', 'refined liquids (CC) (recirculating),year=2040', 'gas (CC) (dry cooling),year=2040', 'wind_base,year=2040', 'CSP_base_storage,year=2040', 'gas (CC) (seawater),year=2040', 'wind_base_storage,year=2040', 'biomass (IGCC) (seawater),year=2040', 'hydro_base,year=2040', 'PV_subpeak,year=2040', 'biomass (conv) (recirculating),year=2040'], 'Generation_Vintage2040_in2025': [0.0, 0.0, 0.0, 0.0, 0.0, 0.0, 0.0, 0.0, 0.0, 0.0, 0.0, 0.0, 0.0, 0.0, 0.0, 0.0, 0.0, 0.0, 0.0, 0.0, 0.0, 0.0, 0.0, 0.0, 0.0, 0.0, 0.0, 0.0, 0.0, 0.0, 0.0, 0.0, 0.0, 0.0, 0.0, 0.0, 0.0, 0.0], 'Generation_Vintage2040_in2030': [0.0, 0.0, 0.0, 0.0, 0.0, 0.0, 0.0, 0.0, 0.0, 0.0, 0.0, 0.0, 0.0, 0.0, 0.0, 0.0, 0.0, 0.0, 0.0, 0.0, 0.0, 0.0, 0.0, 0.0, 0.0, 0.0, 0.0, 0.0, 0.0, 0.0, 0.0, 0.0, 0.0, 0.0, 0.0, 0.0, 0.0, 0.0], 'Generation_Vintage2040_in2035': [0.0, 0.0, 0.0, 0.0, 0.0, 0.0, 0.0, 0.0, 0.0, 0.0, 0.0, 0.0, 0.0, 0.0, 0.0, 0.0, 0.0, 0.0, 0.0, 0.0, 0.0, 0.0, 0.0, 0.0, 0.0, 0.0, 0.0, 0.0, 0.0, 0.0, 0.0, 0.0, 0.0, 0.0, 0.0, 0.0, 0.0, 0.0], 'Generation_Vintage2040_in2040': [0.1286449072, 0.0003250711352, 0.0034068860600000002, 9.60734862e-05, 4.655172148e-05, 7.25308839e-05, 0.00019377623999999999, 0.023168666700000003, 0.03497362, 0.03990071, 0.023168666700000003, 0.067359671, 0.000213762072, 0.006032373759, 0.014924251656800001, 1.458291445467709, 0.001601675344, 0.14498953136080403, 0.006783036548, 0.0034068860600000002, 0.003190377496, 0.000616525465, 0.000616525465, 0.14762213849999997, 0.503600077, 0.0005129397585299999, 0.11624701999999998, 0.00133030253593, 9.488346799999999e-05, 0.14798607616029003, 0.6312871346999999, 0.005379545020000001, 0.076626092079, 0.01468576556, 0.00305301618, 1.0502221299999999, 0.0940062656, 0.021872230201], 'Generation_Vintage2040_in2045': [0.0, 0.00028317959569999996, 0.0034068860600000002, 7.34006208e-05, 4.3302882487e-05, 5.11527402e-05, 0.000100568819, 0.023168666700000003, 0.03497322, 0.039898869999999996, 0.023168666700000003, 0.0, 0.00015598868199999998, 0.004441770575, 0.014924251656800001, 1.404312712649368, 0.0009470973510000002, 0.13929480932427393, 0.005302399023999998, 0.0034068860600000002, 0.003190377496, 0.000616525465, 0.000616525465, 0.14762213849999997, 0.503600077, 0.00047979625932000004, 0.11624491, 0.00125726602914, 7.2491846e-05, 0.13936296683663, 0.6312871346999999, 0.005379545020000001, 0.07414709588, 0.01468576556, 0.00242495619, 0.0, 0.0940062656, 0.013313456030999997], 'Generation_Vintage2040_in2050': [0.0, 0.0002784689196, 0.0034068860600000002, 7.4184197e-05, 4.2797122003e-05, 5.18383892e-05, 9.484640900000001e-05, 0.023168666700000003, 0.03497308, 0.03989847, 0.023168666700000003, 0.0, 0.00015015707199999998, 0.0042665756469999995, 0.014924251656800001, 1.391824296735777, 0.000910656247, 0.13815246905107598, 0.005127488826, 0.0034068860600000002, 0.003190377496, 0.000616525465, 0.000616525465, 0.14762213849999997, 0.503600077, 0.0004645164955999999, 0.11624439000000002, 0.001223177623, 7.32657878e-05, 0.13783421871373003, 0.6312871346999999, 0.005379545020000001, 0.073714918576, 0.01468576556, 0.00237653319, 0.0, 0.0940062656, 0.012624516406], 'ScenarioName': 'GCAM-USA_baseline_1207,date=2022-8-12T11:07:00-05:00', 'unit': 'EJ'}\n"
     ]
    }
   ],
   "source": [
    "GV2040_2025=[]\n",
    "GV2040_2030=[]\n",
    "GV2040_2035=[]\n",
    "GV2040_2040=[]\n",
    "GV2040_2045=[]\n",
    "GV2040_2050=[]\n",
    "for i in range(len(V2040)):#V2025是2025年的所有技术列表\n",
    "    GV2040_2025.append(CapCal[tech==V2040[i]][\"G2025\"].sum())#GV2025_2025：2025年的vintage在2025年的generation\n",
    "    GV2040_2030.append(CapCal[tech==V2040[i]][\"G2030\"].sum())#2025年的vintage在2030年的generation\n",
    "    GV2040_2035.append(CapCal[tech==V2040[i]][\"G2035\"].sum())\n",
    "    GV2040_2040.append(CapCal[tech==V2040[i]][\"G2040\"].sum())\n",
    "    GV2040_2045.append(CapCal[tech==V2040[i]][\"G2045\"].sum())\n",
    "    GV2040_2050.append(CapCal[tech==V2040[i]][\"G2050\"].sum())\n",
    "    \n",
    "    \n",
    "GVin2040={'Technology':V2040,  'Generation_Vintage2040_in2025':GV2040_2025, 'Generation_Vintage2040_in2030':GV2040_2030,\n",
    "          'Generation_Vintage2040_in2035':GV2040_2035,'Generation_Vintage2040_in2040':GV2040_2040,\n",
    "          'Generation_Vintage2040_in2045':GV2040_2045,'Generation_Vintage2040_in2050':GV2040_2050,\n",
    "                  'ScenarioName':CapCal[\"Scenario\"][1],\n",
    "          #'Capacity Factor': GV2025\n",
    "          'unit':CapCal[\"unit\"][1]}\n",
    "print(GVin2040)#目前是dictionary\n",
    "\n",
    "\n",
    "GVin2040Em=pd.DataFrame(GVin2040)#转化成dataframe作为以后的计算\n",
    "GVin2040Em.to_csv(\"Generation of vintage 2040.csv\")#这个是存储为csv"
   ]
  },
  {
   "cell_type": "code",
   "execution_count": 9,
   "id": "0a8d88d2",
   "metadata": {},
   "outputs": [
    {
     "name": "stdout",
     "output_type": "stream",
     "text": [
      "38\n",
      "38\n",
      "38\n",
      "38\n",
      "38\n",
      "38\n",
      "38\n"
     ]
    }
   ],
   "source": [
    "GV2045_2025=[]\n",
    "GV2045_2030=[]\n",
    "GV2045_2035=[]\n",
    "GV2045_2040=[]\n",
    "GV2045_2045=[]\n",
    "GV2045_2050=[]\n",
    "for i in range(len(V2045)):#V2025是2025年的所有技术列表\n",
    "    GV2045_2025.append(CapCal[tech==V2045[i]][\"G2025\"].sum())#GV2025_2025：2025年的vintage在2025年的generation\n",
    "    GV2045_2030.append(CapCal[tech==V2045[i]][\"G2030\"].sum())#2025年的vintage在2030年的generation\n",
    "    GV2045_2035.append(CapCal[tech==V2045[i]][\"G2035\"].sum())\n",
    "    GV2045_2040.append(CapCal[tech==V2045[i]][\"G2040\"].sum())\n",
    "    GV2045_2045.append(CapCal[tech==V2045[i]][\"G2045\"].sum())\n",
    "    GV2045_2050.append(CapCal[tech==V2045[i]][\"G2050\"].sum())\n",
    "    \n",
    "    \n",
    "GVin2045={'Technology':V2045,  'Generation_Vintage2045_in2025':GV2045_2025, 'Generation_Vintage2045_in2030':GV2045_2030,\n",
    "          'Generation_Vintage2045_in2035':GV2045_2035,'Generation_Vintage2045_in2040':GV2045_2040,\n",
    "          'Generation_Vintage2045_in2045':GV2045_2045,'Generation_Vintage2045_in2050':GV2045_2050}\n",
    "#             #      'ScenarioName':CapCal[\"Scenario\"][1],\n",
    "#           #'Capacity Factor': GV2025\n",
    "#           #'unit':CapCal[\"unit\"][1]}\n",
    "# print(GVin2045)#目前是dictionary\n",
    "print(len(V2045))\n",
    "print(len(GV2045_2025))\n",
    "print(len(GV2045_2030))\n",
    "print(len(GV2045_2035))\n",
    "print(len(GV2045_2040))\n",
    "print(len(GV2045_2045))\n",
    "print(len(GV2045_2050))\n",
    "\n",
    "GVin2045Em=pd.DataFrame(GVin2045)#转化成dataframe作为以后的计算\n",
    "GVin2045Em.to_csv(\"Generation of vintage 2045.csv\")#这个是存储为csv"
   ]
  },
  {
   "cell_type": "code",
   "execution_count": 10,
   "id": "ead81e77",
   "metadata": {},
   "outputs": [],
   "source": [
    "GV2050_2025=[]\n",
    "GV2050_2030=[]\n",
    "GV2050_2035=[]\n",
    "GV2050_2040=[]\n",
    "GV2050_2045=[]\n",
    "GV2050_2050=[]\n",
    "for i in range(len(V2050)):#V2025是2025年的所有技术列表\n",
    "    GV2050_2025.append(CapCal[tech==V2050[i]][\"G2025\"].sum())#GV2025_2025：2025年的vintage在2025年的generation\n",
    "    GV2050_2030.append(CapCal[tech==V2050[i]][\"G2030\"].sum())#2025年的vintage在2030年的generation\n",
    "    GV2050_2035.append(CapCal[tech==V2050[i]][\"G2035\"].sum())\n",
    "    GV2050_2040.append(CapCal[tech==V2050[i]][\"G2040\"].sum())\n",
    "    GV2050_2045.append(CapCal[tech==V2050[i]][\"G2045\"].sum())\n",
    "    GV2050_2050.append(CapCal[tech==V2050[i]][\"G2050\"].sum())\n",
    "    \n",
    "    \n",
    "GVin2050={'Technology':V2050,  'Generation_Vintage2050_in2025':GV2050_2025, 'Generation_Vintage2050_in2030':GV2050_2030,\n",
    "          'Generation_Vintage2050_in2035':GV2050_2035,'Generation_Vintage2050_in2040':GV2050_2040,\n",
    "          'Generation_Vintage2050_in2045':GV2050_2045,'Generation_Vintage2050_in2050':GV2050_2050,\n",
    "                  'ScenarioName':CapCal[\"Scenario\"][1],\n",
    "          \n",
    "          'unit':CapCal[\"unit\"][1]}\n",
    "#print(GVin2025)#目前是dictionary\n",
    "\n",
    "\n",
    "GVin2050Em=pd.DataFrame(GVin2050)#转化成dataframe作为以后的计算\n",
    "#print(GVin2050Em(0:10))\n",
    "GVin2050Em.to_csv(\"Generation of vintage 2050.csv\")#这个是存储为csv"
   ]
  },
  {
   "cell_type": "code",
   "execution_count": 11,
   "id": "1d8f044b",
   "metadata": {},
   "outputs": [],
   "source": [
    "#generate a generation list consisting all "
   ]
  },
  {
   "cell_type": "code",
   "execution_count": 12,
   "id": "e249106a",
   "metadata": {},
   "outputs": [
    {
     "data": {
      "text/plain": [
       "18781"
      ]
     },
     "execution_count": 12,
     "metadata": {},
     "output_type": "execute_result"
    }
   ],
   "source": [
    "#为每一个generation添加capacity factor\n",
    "CapFacSheet=pd.read_excel('pyplot.xlsx', sheet_name=\"CapFac\")#处理这个的时候要把wind_base换成“wind_base,”不然会有重复\n",
    "CapFac=CapFacSheet[\"Capacity factor\"]\n",
    "TechCF=CapFacSheet[\"tech\"]\n",
    "CF=[]\n",
    "\n",
    "for technology in tech:\n",
    "    for i in range(len(TechCF)):\n",
    "#         CF.append(tech for cf in CapFac if TechCF[i] in technology)\n",
    "        if TechCF[i] in technology:\n",
    "            CF.append(CapFac[i])\n",
    "len(CF)"
   ]
  },
  {
   "cell_type": "code",
   "execution_count": 13,
   "id": "01727272",
   "metadata": {},
   "outputs": [],
   "source": [
    "TCF={\n",
    "    \"Technology\": tech,\n",
    "    \"Capacity factor\": CF\n",
    "}\n",
    "TCF2=pd.DataFrame(TCF)\n",
    "#TCF2.to_csv(\"capacityFactor.csv\")"
   ]
  },
  {
   "cell_type": "code",
   "execution_count": 14,
   "id": "76a5a0c8",
   "metadata": {},
   "outputs": [
    {
     "data": {
      "text/plain": [
       "35"
      ]
     },
     "execution_count": 14,
     "metadata": {},
     "output_type": "execute_result"
    }
   ],
   "source": [
    "CF2=[]\n",
    "technology_plus_cf=GVin2025Em[\"Technology\"]\n",
    "for technology in technology_plus_cf:\n",
    "    for i in range(len(TechCF)):\n",
    "#         CF.append(tech for cf in CapFac if TechCF[i] in technology)\n",
    "        if TechCF[i] in technology:\n",
    "            CF2.append(CapFac[i])\n",
    "len(CF2)\n"
   ]
  },
  {
   "cell_type": "code",
   "execution_count": null,
   "id": "c543de77",
   "metadata": {},
   "outputs": [],
   "source": []
  },
  {
   "cell_type": "code",
   "execution_count": 15,
   "id": "e49f83d7",
   "metadata": {},
   "outputs": [
    {
     "data": {
      "text/plain": [
       "35"
      ]
     },
     "execution_count": 15,
     "metadata": {},
     "output_type": "execute_result"
    }
   ],
   "source": [
    "#len(technology_plus_cf)\n",
    "len(V2025)"
   ]
  },
  {
   "cell_type": "code",
   "execution_count": 16,
   "id": "3d173184",
   "metadata": {},
   "outputs": [],
   "source": [
    "#GVin2025Em.append(CF)\n",
    "TCF4={'Technology':V2025,  'Generation_Vintage2025_in2025':GV2025_2025, 'Generation_Vintage2025_in2030':GV2025_2030,\n",
    "          'Generation_Vintage2025_in2035':GV2025_2035,'Generation_Vintage2025_in2040':GV2025_2040,\n",
    "          'Generation_Vintage2025_in2045':GV2025_2045,'Generation_Vintage2025_in2050':GV2025_2050,\n",
    "      'Capacity factor': CF2,\n",
    "                  'ScenarioName':CapCal[\"Scenario\"][1],\n",
    "          #'Capacity Factor': GV2025\n",
    "          'unit':CapCal[\"unit\"][1]}\n",
    "TCF3=pd.DataFrame(TCF4)\n",
    "#TCF3.to_csv(\"capacityFactorAndEmission.csv\")\n"
   ]
  },
  {
   "cell_type": "code",
   "execution_count": 17,
   "id": "47da7f51",
   "metadata": {},
   "outputs": [],
   "source": [
    "#print(TCF3.head(5))"
   ]
  },
  {
   "cell_type": "code",
   "execution_count": 18,
   "id": "34b0098b",
   "metadata": {},
   "outputs": [
    {
     "name": "stdout",
     "output_type": "stream",
     "text": [
      "35\n"
     ]
    }
   ],
   "source": [
    "CapAdded=[]\n",
    "tech=TCF3[\"Technology\"]\n",
    "Gn2025_2025=TCF3[\"Generation_Vintage2025_in2025\"]\n",
    "nCF=TCF3[\"Capacity factor\"]\n",
    "#print(len(tech))\n",
    "\n",
    "for i in range(len(tech)):\n",
    "    CapAdded.append(Gn2025_2025[i]/(3.6*10**6)*10**18/365/24/nCF[i])#Capacity unit:kW\n",
    "    \n",
    "    #print(GV2025[i],CapAdded[i])\n",
    "    \n",
    "print(len(CapAdded))"
   ]
  },
  {
   "cell_type": "code",
   "execution_count": 19,
   "id": "acd8b876",
   "metadata": {},
   "outputs": [],
   "source": [
    "CapacityAdded={\n",
    "    \"Technology\":tech,\n",
    "    \"Capacity added,kW\":CapAdded\n",
    "}\n",
    "CA=pd.DataFrame(CapacityAdded)\n",
    "CA.to_csv(\"New Capacity2025.csv\")"
   ]
  },
  {
   "cell_type": "code",
   "execution_count": 25,
   "id": "592e4741",
   "metadata": {},
   "outputs": [
    {
     "name": "stdout",
     "output_type": "stream",
     "text": [
      "35\n"
     ]
    }
   ],
   "source": [
    "CF2030=[]\n",
    "technology_plus_cf=GVin2030Em[\"Technology\"]\n",
    "for technology in technology_plus_cf:\n",
    "    for i in range(len(TechCF)):\n",
    "#         CF.append(tech for cf in CapFac if TechCF[i] in technology)\n",
    "        if TechCF[i] in technology:\n",
    "            CF2030.append(CapFac[i])\n",
    "len(CF2030)\n",
    "\n",
    "GVin2030Em['Capacity factor']=CF2030\n",
    "\n",
    "GVin2030Em.to_csv(\"2030Emission and capacity factors.csv\")\n",
    "\n",
    "CapAdded=[]\n",
    "tech=GVin2030Em[\"Technology\"]\n",
    "Gn2030_2030=GVin2030Em[\"Generation_Vintage2030_in2030\"]\n",
    "nCF=GVin2030Em[\"Capacity factor\"]\n",
    "#print(len(tech))\n",
    "\n",
    "for i in range(len(tech)):\n",
    "    CapAdded.append(Gn2030_2030[i]/(3.6*10**6)*10**18/365/24/nCF[i])#Capacity unit:kW\n",
    "    \n",
    "    #print(GV2025[i],CapAdded[i])\n",
    "    \n",
    "print(len(CapAdded))\n",
    "CapacityAdded={\n",
    "    \"Technology\":tech,\n",
    "    \"Capacity added,kW\":CapAdded\n",
    "}\n",
    "CA=pd.DataFrame(CapacityAdded)\n",
    "CA.to_csv(\"New Capacity2030.csv\")"
   ]
  },
  {
   "cell_type": "code",
   "execution_count": 22,
   "id": "612a7cb5",
   "metadata": {},
   "outputs": [
    {
     "name": "stdout",
     "output_type": "stream",
     "text": [
      "35\n"
     ]
    }
   ],
   "source": [
    "CF2035=[]\n",
    "technology_plus_cf=GVin2035Em[\"Technology\"]\n",
    "for technology in technology_plus_cf:\n",
    "    for i in range(len(TechCF)):\n",
    "#         CF.append(tech for cf in CapFac if TechCF[i] in technology)\n",
    "        if TechCF[i] in technology:\n",
    "            CF2035.append(CapFac[i])\n",
    "len(CF2035)\n",
    "\n",
    "GVin2035Em['Capacity factor']=CF2035\n",
    "\n",
    "GVin2035Em.to_csv(\"2035Emission and capacity factors.csv\")\n",
    "\n",
    "CapAdded=[]\n",
    "tech=GVin2035Em[\"Technology\"]\n",
    "Gn2035_2035=GVin2035Em[\"Generation_Vintage2035_in2035\"]\n",
    "nCF=GVin2035Em[\"Capacity factor\"]\n",
    "#print(len(tech))\n",
    "\n",
    "for i in range(len(tech)):\n",
    "    CapAdded.append(Gn2035_2035[i]/(3.6*10**6)*10**18/365/24/nCF[i])#Capacity unit:kW\n",
    "\n",
    "    \n",
    "print(len(CapAdded))\n",
    "CapacityAdded={\n",
    "    \"Technology\":tech,\n",
    "    \"Capacity added,kW\":CapAdded\n",
    "}\n",
    "CA=pd.DataFrame(CapacityAdded)\n",
    "CA.to_csv(\"New Capacity2035.csv\")"
   ]
  },
  {
   "cell_type": "code",
   "execution_count": 24,
   "id": "9746dc32",
   "metadata": {},
   "outputs": [
    {
     "name": "stdout",
     "output_type": "stream",
     "text": [
      "38\n"
     ]
    }
   ],
   "source": [
    "CF2040=[]\n",
    "technology_plus_cf=GVin2040Em[\"Technology\"]\n",
    "for technology in technology_plus_cf:\n",
    "    for i in range(len(TechCF)):\n",
    "#         CF.append(tech for cf in CapFac if TechCF[i] in technology)\n",
    "        if TechCF[i] in technology:\n",
    "            CF2040.append(CapFac[i])\n",
    "len(CF2040)\n",
    "\n",
    "GVin2040Em['Capacity factor']=CF2040\n",
    "\n",
    "GVin2040Em.to_csv(\"2040Emission and capacity factors.csv\")\n",
    "\n",
    "CapAdded=[]\n",
    "tech=GVin2040Em[\"Technology\"]\n",
    "Gn2040_2040=GVin2040Em[\"Generation_Vintage2040_in2040\"]\n",
    "nCF=GVin2040Em[\"Capacity factor\"]\n",
    "#print(len(tech))\n",
    "\n",
    "for i in range(len(tech)):\n",
    "    CapAdded.append(Gn2040_2040[i]/(3.6*10**6)*10**18/365/24/nCF[i])#Capacity unit:kW\n",
    "    \n",
    "\n",
    "    \n",
    "print(len(CapAdded))\n",
    "CapacityAdded={\n",
    "    \"Technology\":tech,\n",
    "    \"Capacity added,kW\":CapAdded\n",
    "}\n",
    "CA=pd.DataFrame(CapacityAdded)\n",
    "CA.to_csv(\"New Capacity2040.csv\")"
   ]
  },
  {
   "cell_type": "code",
   "execution_count": 26,
   "id": "56228e6f",
   "metadata": {},
   "outputs": [
    {
     "name": "stdout",
     "output_type": "stream",
     "text": [
      "38\n"
     ]
    }
   ],
   "source": [
    "CF2045=[]\n",
    "technology_plus_cf=GVin2045Em[\"Technology\"]\n",
    "for technology in technology_plus_cf:\n",
    "    for i in range(len(TechCF)):\n",
    "#         CF.append(tech for cf in CapFac if TechCF[i] in technology)\n",
    "        if TechCF[i] in technology:\n",
    "            CF2045.append(CapFac[i])\n",
    "len(CF2045)\n",
    "\n",
    "GVin2045Em['Capacity factor']=CF2045\n",
    "\n",
    "GVin2045Em.to_csv(\"2045Emission and capacity factors.csv\")\n",
    "\n",
    "CapAdded=[]\n",
    "tech=GVin2045Em[\"Technology\"]\n",
    "Gn2045_2045=GVin2045Em[\"Generation_Vintage2045_in2045\"]\n",
    "nCF=GVin2045Em[\"Capacity factor\"]\n",
    "#print(len(tech))\n",
    "\n",
    "for i in range(len(tech)):\n",
    "    CapAdded.append(Gn2045_2045[i]/(3.6*10**6)*10**18/365/24/nCF[i])#Capacity unit:kW\n",
    "\n",
    "    \n",
    "print(len(CapAdded))\n",
    "CapacityAdded={\n",
    "    \"Technology\":tech,\n",
    "    \"Capacity added,kW\":CapAdded\n",
    "}\n",
    "CA=pd.DataFrame(CapacityAdded)\n",
    "CA.to_csv(\"New Capacity2045.csv\")"
   ]
  },
  {
   "cell_type": "code",
   "execution_count": 27,
   "id": "0bfb4ec9",
   "metadata": {},
   "outputs": [
    {
     "name": "stdout",
     "output_type": "stream",
     "text": [
      "38\n"
     ]
    }
   ],
   "source": [
    "CF2050=[]\n",
    "technology_plus_cf=GVin2050Em[\"Technology\"]\n",
    "for technology in technology_plus_cf:\n",
    "    for i in range(len(TechCF)):\n",
    "#         CF.append(tech for cf in CapFac if TechCF[i] in technology)\n",
    "        if TechCF[i] in technology:\n",
    "            CF2050.append(CapFac[i])\n",
    "len(CF2050)\n",
    "\n",
    "GVin2050Em['Capacity factor']=CF2050\n",
    "\n",
    "GVin2050Em.to_csv(\"2050Emission and capacity factors.csv\")\n",
    "\n",
    "CapAdded=[]\n",
    "tech=GVin2050Em[\"Technology\"]\n",
    "Gn2050_2050=GVin2050Em[\"Generation_Vintage2050_in2050\"]\n",
    "nCF=GVin2050Em[\"Capacity factor\"]\n",
    "#print(len(tech))\n",
    "\n",
    "for i in range(len(tech)):\n",
    "    CapAdded.append(Gn2050_2050[i]/(3.6*10**6)*10**18/365/24/nCF[i])#Capacity unit:kW\n",
    "    \n",
    "\n",
    "    \n",
    "print(len(CapAdded))\n",
    "CapacityAdded={\n",
    "    \"Technology\":tech,\n",
    "    \"Capacity added,kW\":CapAdded\n",
    "}\n",
    "CA=pd.DataFrame(CapacityAdded)\n",
    "CA.to_csv(\"New Capacity2050.csv\")"
   ]
  },
  {
   "cell_type": "code",
   "execution_count": null,
   "id": "d4e71967",
   "metadata": {},
   "outputs": [],
   "source": []
  }
 ],
 "metadata": {
  "kernelspec": {
   "display_name": "Python 3 (ipykernel)",
   "language": "python",
   "name": "python3"
  },
  "language_info": {
   "codemirror_mode": {
    "name": "ipython",
    "version": 3
   },
   "file_extension": ".py",
   "mimetype": "text/x-python",
   "name": "python",
   "nbconvert_exporter": "python",
   "pygments_lexer": "ipython3",
   "version": "3.9.12"
  }
 },
 "nbformat": 4,
 "nbformat_minor": 5
}
