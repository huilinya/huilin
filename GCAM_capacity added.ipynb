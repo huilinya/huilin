{
 "cells": [
  {
   "cell_type": "code",
   "execution_count": 1,
   "id": "e8db9777",
   "metadata": {},
   "outputs": [],
   "source": [
    "import pandas as pd\n",
    "import numpy as np\n",
    "import matplotlib.pyplot as plt\n",
    "import scienceplots"
   ]
  },
  {
   "cell_type": "code",
   "execution_count": 6,
   "id": "3e003906",
   "metadata": {},
   "outputs": [
    {
     "name": "stdout",
     "output_type": "stream",
     "text": [
      "EJ\n"
     ]
    }
   ],
   "source": [
    "CapCal=pd.read_excel('vintage_generation.xlsx', sheet_name=\"VGen_pork\")#计算新增capacity需要的sheet\n",
    "unit=CapCal[\"Unit\"][1]#unit of generation\n",
    "print(unit)\n",
    "tech=CapCal[\"Tech\"]\n"
   ]
  },
  {
   "cell_type": "code",
   "execution_count": 42,
   "id": "34b7e8c9",
   "metadata": {},
   "outputs": [
    {
     "name": "stdout",
     "output_type": "stream",
     "text": [
      "38\n"
     ]
    }
   ],
   "source": [
    "Vintage2025=[tech for tech in tech if 'year=2025' in tech]#寻找vintage=2025的各种技术的generation\n",
    "Vintage2030=[tech for tech in tech if 'year=2030' in tech]\n",
    "Vintage2035=[tech for tech in tech if 'year=2035' in tech]\n",
    "Vintage2040=[tech for tech in tech if 'year=2040' in tech]\n",
    "Vintage2045=[tech for tech in tech if 'year=2045' in tech]\n",
    "Vintage2050=[tech for tech in tech if 'year=2050' in tech]\n",
    "#V2025=pd.Dataframe(Vintage2025).drop_duplicates().tolist()\n",
    "#print(V2025)\n",
    "V2025=list(set(Vintage2025))#这个是去除重复项的方法2，换了一个方法是因为需要去掉“去除重复项之后留下的每一项的index”\n",
    "V2030=list(set(Vintage2030))\n",
    "V2035=list(set(Vintage2035))\n",
    "V2040=list(set(Vintage2040))\n",
    "V2045=list(set(Vintage2045))\n",
    "V2050=list(set(Vintage2050))\n",
    "print(len(V2035))"
   ]
  },
  {
   "cell_type": "code",
   "execution_count": 38,
   "id": "417d3244",
   "metadata": {},
   "outputs": [],
   "source": [
    "SectorCap=CapCal['Sector']\n",
    "G1990=CapCal[\"G1990\"]#G1990是1990年所有技术的排放\n",
    "G2005=CapCal[\"G2005\"]\n",
    "G2010=CapCal[\"G2010\"]\n",
    "G2015=CapCal[\"G2015\"]\n",
    "G2020=CapCal[\"G2020\"]\n",
    "G2025=CapCal[\"G2025\"]\n",
    "G2030=CapCal[\"G2030\"]\n",
    "G2035=CapCal[\"G2035\"]\n",
    "G2040=CapCal[\"G2040\"]\n",
    "G2045=CapCal[\"G2045\"]\n",
    "G2050=CapCal[\"G2050\"]\n",
    "\n",
    "\n",
    "#Generation-Vintage\n",
    "# GV2025_1990=[]\n",
    "# GV2025_2005=[]\n",
    "# GV2025_2010=[]\n",
    "# GV2025_2015=[]\n",
    "# GV2025_2020=[]\n",
    "GV2025_2025=[]\n",
    "GV2025_2030=[]\n",
    "GV2025_2035=[]\n",
    "GV2025_2040=[]\n",
    "GV2025_2045=[]\n",
    "GV2025_2050=[]"
   ]
  },
  {
   "cell_type": "code",
   "execution_count": 39,
   "id": "33ebd87a",
   "metadata": {},
   "outputs": [
    {
     "name": "stdout",
     "output_type": "stream",
     "text": [
      "35\n",
      "35\n"
     ]
    }
   ],
   "source": [
    "GV2025_2025=[]\n",
    "GV2025_2030=[]\n",
    "GV2025_2035=[]\n",
    "GV2025_2040=[]\n",
    "GV2025_2045=[]\n",
    "GV2025_2050=[]\n",
    "for i in range(len(V2025)):#V2025是2025年的所有技术列表\n",
    "    GV2025_2025.append(CapCal[tech==V2025[i]][\"G2025\"].sum())#GV2025_2025：2025年的vintage在2025年的generation\n",
    "    GV2025_2030.append(CapCal[tech==V2025[i]][\"G2030\"].sum())#2025年的vintage在2030年的generation\n",
    "    GV2025_2035.append(CapCal[tech==V2025[i]][\"G2035\"].sum())\n",
    "    GV2025_2040.append(CapCal[tech==V2025[i]][\"G2040\"].sum())\n",
    "    GV2025_2045.append(CapCal[tech==V2025[i]][\"G2045\"].sum())\n",
    "    GV2025_2050.append(CapCal[tech==V2025[i]][\"G2050\"].sum())\n",
    "# print(len(V2025))\n",
    "# print(len(GV2025_2025))    \n",
    "    \n",
    "GVin2025={'Technology':V2025,  'Generation_Vintage2025_in2025':GV2025_2025, 'Generation_Vintage2025_in2030':GV2025_2030,\n",
    "          'Generation_Vintage2025_in2035':GV2025_2035,'Generation_Vintage2025_in2040':GV2025_2040,\n",
    "          'Generation_Vintage2025_in2045':GV2025_2045,'Generation_Vintage2025_in2050':GV2025_2050\n",
    "#                   'ScenarioName':CapCal[\"Scenario\"][1]\n",
    "          #'Capacity Factor': GV2025\n",
    "#            'unit':CapCal[\"Unit\"][1]\n",
    "         }\n",
    "# print(GVin2025)#目前是dictionary\n",
    "\n",
    "\n",
    "GVin2025Em=pd.DataFrame(GVin2025) \n",
    "          #转化成dataframe作为以后的计算\n",
    "GVin2025Em.to_csv(\"Generation of vintage 2025.csv\")#这个是存储为csv"
   ]
  },
  {
   "cell_type": "code",
   "execution_count": 40,
   "id": "6c754362",
   "metadata": {},
   "outputs": [],
   "source": [
    "GV2030_2025=[]\n",
    "GV2030_2030=[]\n",
    "GV2030_2035=[]\n",
    "GV2030_2040=[]\n",
    "GV2030_2045=[]\n",
    "GV2030_2050=[]\n",
    "for i in range(len(V2030)):#V2025是2025年的所有技术列表\n",
    "    GV2030_2025.append(CapCal[tech==V2030[i]][\"G2025\"].sum())#GV2025_2025：2025年的vintage在2025年的generation\n",
    "    GV2030_2030.append(CapCal[tech==V2030[i]][\"G2030\"].sum())#2025年的vintage在2030年的generation\n",
    "    GV2030_2035.append(CapCal[tech==V2030[i]][\"G2035\"].sum())\n",
    "    GV2030_2040.append(CapCal[tech==V2030[i]][\"G2040\"].sum())\n",
    "    GV2030_2045.append(CapCal[tech==V2030[i]][\"G2045\"].sum())\n",
    "    GV2030_2050.append(CapCal[tech==V2030[i]][\"G2050\"].sum())\n",
    "    \n",
    "    \n",
    "GVin2030={'Technology':V2030,  'Generation_Vintage2030_in2025':GV2030_2025, 'Generation_Vintage2030_in2030':GV2030_2030,\n",
    "          'Generation_Vintage2030_in2035':GV2030_2035,'Generation_Vintage2030_in2040':GV2030_2040,\n",
    "          'Generation_Vintage2030_in2045':GV2030_2045,'Generation_Vintage2030_in2050':GV2030_2050,\n",
    "                  'ScenarioName':CapCal[\"Scenario\"][1],\n",
    "          #'Capacity Factor': GV2025\n",
    "          'unit':CapCal[\"Unit\"][1]}\n",
    "#print(GVin2030)#目前是dictionary\n",
    "\n",
    "\n",
    "GVin2030Em=pd.DataFrame(GVin2030)#转化成dataframe作为以后的计算\n",
    "GVin2030Em.to_csv(\"Generation of vintage 2030.csv\")#这个是存储为csv"
   ]
  },
  {
   "cell_type": "code",
   "execution_count": 43,
   "id": "0903049b",
   "metadata": {},
   "outputs": [],
   "source": [
    "GV2035_2025=[]\n",
    "GV2035_2030=[]\n",
    "GV2035_2035=[]\n",
    "GV2035_2040=[]\n",
    "GV2035_2045=[]\n",
    "GV2035_2050=[]\n",
    "for i in range(len(V2035)):#V2025是2025年的所有技术列表\n",
    "    GV2035_2025.append(CapCal[tech==V2035[i]][\"G2025\"].sum())#GV2025_2025：2025年的vintage在2025年的generation\n",
    "    GV2035_2030.append(CapCal[tech==V2035[i]][\"G2030\"].sum())#2025年的vintage在2030年的generation\n",
    "    GV2035_2035.append(CapCal[tech==V2035[i]][\"G2035\"].sum())\n",
    "    GV2035_2040.append(CapCal[tech==V2035[i]][\"G2040\"].sum())\n",
    "    GV2035_2045.append(CapCal[tech==V2035[i]][\"G2045\"].sum())\n",
    "    GV2035_2050.append(CapCal[tech==V2035[i]][\"G2050\"].sum())\n",
    "    \n",
    "    \n",
    "GVin2035={'Technology':V2035,  'Generation_Vintage2035_in2025':GV2035_2025, 'Generation_Vintage2035_in2030':GV2035_2030,\n",
    "          'Generation_Vintage2035_in2035':GV2035_2035,'Generation_Vintage2035_in2040':GV2035_2040,\n",
    "          'Generation_Vintage2035_in2045':GV2035_2045,'Generation_Vintage2035_in2050':GV2035_2050,\n",
    "                  'ScenarioName':CapCal[\"Scenario\"][1],\n",
    "          #'Capacity Factor': GV2025\n",
    "          'unit':CapCal[\"Unit\"][1]}\n",
    "#print(GVin2035)#目前是dictionary\n",
    "\n",
    "\n",
    "GVin2035Em=pd.DataFrame(GVin2035)#转化成dataframe作为以后的计算\n",
    "GVin2035Em.to_csv(\"Generation of vintage 2035.csv\")#这个是存储为csv"
   ]
  },
  {
   "cell_type": "code",
   "execution_count": 45,
   "id": "97beef1a",
   "metadata": {},
   "outputs": [],
   "source": [
    "GV2040_2025=[]\n",
    "GV2040_2030=[]\n",
    "GV2040_2035=[]\n",
    "GV2040_2040=[]\n",
    "GV2040_2045=[]\n",
    "GV2040_2050=[]\n",
    "for i in range(len(V2040)):#V2025是2025年的所有技术列表\n",
    "    GV2040_2025.append(CapCal[tech==V2040[i]][\"G2025\"].sum())#GV2025_2025：2025年的vintage在2025年的generation\n",
    "    GV2040_2030.append(CapCal[tech==V2040[i]][\"G2030\"].sum())#2025年的vintage在2030年的generation\n",
    "    GV2040_2035.append(CapCal[tech==V2040[i]][\"G2035\"].sum())\n",
    "    GV2040_2040.append(CapCal[tech==V2040[i]][\"G2040\"].sum())\n",
    "    GV2040_2045.append(CapCal[tech==V2040[i]][\"G2045\"].sum())\n",
    "    GV2040_2050.append(CapCal[tech==V2040[i]][\"G2050\"].sum())\n",
    "    \n",
    "    \n",
    "GVin2040={'Technology':V2040,  'Generation_Vintage2040_in2025':GV2040_2025, 'Generation_Vintage2040_in2030':GV2040_2030,\n",
    "          'Generation_Vintage2040_in2035':GV2040_2035,'Generation_Vintage2040_in2040':GV2040_2040,\n",
    "          'Generation_Vintage2040_in2045':GV2040_2045,'Generation_Vintage2040_in2050':GV2040_2050,\n",
    "                  'ScenarioName':CapCal[\"Scenario\"][1],\n",
    "          #'Capacity Factor': GV2025\n",
    "          'unit':CapCal[\"Unit\"][1]}\n",
    "#print(GVin2040)#目前是dictionary\n",
    "\n",
    "\n",
    "GVin2040Em=pd.DataFrame(GVin2040)#转化成dataframe作为以后的计算\n",
    "GVin2040Em.to_csv(\"Generation of vintage 2040.csv\")#这个是存储为csv"
   ]
  },
  {
   "cell_type": "code",
   "execution_count": 46,
   "id": "0a8d88d2",
   "metadata": {},
   "outputs": [],
   "source": [
    "GV2045_2025=[]\n",
    "GV2045_2030=[]\n",
    "GV2045_2035=[]\n",
    "GV2045_2040=[]\n",
    "GV2045_2045=[]\n",
    "GV2045_2050=[]\n",
    "for i in range(len(V2045)):#V2025是2025年的所有技术列表\n",
    "    GV2045_2025.append(CapCal[tech==V2045[i]][\"G2025\"].sum())#GV2025_2025：2025年的vintage在2025年的generation\n",
    "    GV2045_2030.append(CapCal[tech==V2045[i]][\"G2030\"].sum())#2025年的vintage在2030年的generation\n",
    "    GV2045_2035.append(CapCal[tech==V2045[i]][\"G2035\"].sum())\n",
    "    GV2045_2040.append(CapCal[tech==V2045[i]][\"G2040\"].sum())\n",
    "    GV2045_2045.append(CapCal[tech==V2045[i]][\"G2045\"].sum())\n",
    "    GV2045_2050.append(CapCal[tech==V2045[i]][\"G2050\"].sum())\n",
    "    \n",
    "    \n",
    "GVin2045={'Technology':V2045,  'Generation_Vintage2045_in2025':GV2045_2025, 'Generation_Vintage2045_in2030':GV2045_2030,\n",
    "          'Generation_Vintage2045_in2035':GV2045_2035,'Generation_Vintage2045_in2040':GV2045_2040,\n",
    "          'Generation_Vintage2045_in2045':GV2045_2045,'Generation_Vintage2045_in2050':GV2045_2050}\n",
    "#             #      'ScenarioName':CapCal[\"Scenario\"][1],\n",
    "#           #'Capacity Factor': GV2025\n",
    "#           #'unit':CapCal[\"unit\"][1]}\n",
    "# print(GVin2045)#目前是dictionary\n",
    "#print(len(V2045))\n",
    "#print(len(GV2045_2025))\n",
    "#print(len(GV2045_2030))\n",
    "#print(len(GV2045_2035))\n",
    "#print(len(GV2045_2040))\n",
    "# print(len(GV2045_2045))\n",
    "#print(len(GV2045_2050))\n",
    "\n",
    "GVin2045Em=pd.DataFrame(GVin2045)#转化成dataframe作为以后的计算\n",
    "GVin2045Em.to_csv(\"Generation of vintage 2045.csv\")#这个是存储为csv"
   ]
  },
  {
   "cell_type": "code",
   "execution_count": 48,
   "id": "ead81e77",
   "metadata": {},
   "outputs": [],
   "source": [
    "GV2050_2025=[]\n",
    "GV2050_2030=[]\n",
    "GV2050_2035=[]\n",
    "GV2050_2040=[]\n",
    "GV2050_2045=[]\n",
    "GV2050_2050=[]\n",
    "for i in range(len(V2050)):#V2025是2025年的所有技术列表\n",
    "    GV2050_2025.append(CapCal[tech==V2050[i]][\"G2025\"].sum())#GV2025_2025：2025年的vintage在2025年的generation\n",
    "    GV2050_2030.append(CapCal[tech==V2050[i]][\"G2030\"].sum())#2025年的vintage在2030年的generation\n",
    "    GV2050_2035.append(CapCal[tech==V2050[i]][\"G2035\"].sum())\n",
    "    GV2050_2040.append(CapCal[tech==V2050[i]][\"G2040\"].sum())\n",
    "    GV2050_2045.append(CapCal[tech==V2050[i]][\"G2045\"].sum())\n",
    "    GV2050_2050.append(CapCal[tech==V2050[i]][\"G2050\"].sum())\n",
    "    \n",
    "    \n",
    "GVin2050={'Technology':V2050,  'Generation_Vintage2050_in2025':GV2050_2025, 'Generation_Vintage2050_in2030':GV2050_2030,\n",
    "          'Generation_Vintage2050_in2035':GV2050_2035,'Generation_Vintage2050_in2040':GV2050_2040,\n",
    "          'Generation_Vintage2050_in2045':GV2050_2045,'Generation_Vintage2050_in2050':GV2050_2050,\n",
    "                  'ScenarioName':CapCal[\"Scenario\"][1],\n",
    "          \n",
    "          'unit':CapCal[\"Unit\"][1]}\n",
    "#print(GVin2025)#目前是dictionary\n",
    "\n",
    "\n",
    "GVin2050Em=pd.DataFrame(GVin2050)#转化成dataframe作为以后的计算\n",
    "#print(GVin2050Em(0:10))\n",
    "GVin2050Em.to_csv(\"Generation of vintage 2050.csv\")#这个是存储为csv"
   ]
  },
  {
   "cell_type": "code",
   "execution_count": 11,
   "id": "1d8f044b",
   "metadata": {},
   "outputs": [],
   "source": [
    "#generate a generation list consisting all "
   ]
  },
  {
   "cell_type": "code",
   "execution_count": 49,
   "id": "e249106a",
   "metadata": {},
   "outputs": [
    {
     "data": {
      "text/plain": [
       "18882"
      ]
     },
     "execution_count": 49,
     "metadata": {},
     "output_type": "execute_result"
    }
   ],
   "source": [
    "#为每一个generation添加capacity factor\n",
    "CapFacSheet=pd.read_excel('pyplot.xlsx', sheet_name=\"CapFac\")#处理这个的时候要把wind_base换成“wind_base,”不然会有重复\n",
    "CapFac=CapFacSheet[\"Capacity factor\"]\n",
    "TechCF=CapFacSheet[\"tech\"]\n",
    "CF=[]\n",
    "\n",
    "for technology in tech:\n",
    "    for i in range(len(TechCF)):\n",
    "#         CF.append(tech for cf in CapFac if TechCF[i] in technology)\n",
    "        if TechCF[i] in technology:\n",
    "            CF.append(CapFac[i])\n",
    "len(CF)"
   ]
  },
  {
   "cell_type": "code",
   "execution_count": 50,
   "id": "01727272",
   "metadata": {},
   "outputs": [],
   "source": [
    "TCF={\n",
    "    \"Technology\": tech,\n",
    "    \"Capacity factor\": CF\n",
    "}\n",
    "TCF2=pd.DataFrame(TCF)\n",
    "TCF2.to_csv(\"capacityFactor.csv\")"
   ]
  },
  {
   "cell_type": "code",
   "execution_count": 51,
   "id": "76a5a0c8",
   "metadata": {},
   "outputs": [
    {
     "data": {
      "text/plain": [
       "35"
      ]
     },
     "execution_count": 51,
     "metadata": {},
     "output_type": "execute_result"
    }
   ],
   "source": [
    "CF2=[]\n",
    "technology_plus_cf=GVin2025Em[\"Technology\"]\n",
    "for technology in technology_plus_cf:\n",
    "    for i in range(len(TechCF)):\n",
    "#         CF.append(tech for cf in CapFac if TechCF[i] in technology)\n",
    "        if TechCF[i] in technology:\n",
    "            CF2.append(CapFac[i])\n",
    "len(CF2)\n"
   ]
  },
  {
   "cell_type": "code",
   "execution_count": 15,
   "id": "e49f83d7",
   "metadata": {},
   "outputs": [],
   "source": [
    "#len(technology_plus_cf)\n",
    "# len(V2025)"
   ]
  },
  {
   "cell_type": "code",
   "execution_count": 53,
   "id": "3d173184",
   "metadata": {},
   "outputs": [],
   "source": [
    "#GVin2025Em.append(CF)\n",
    "TCF4={'Technology':V2025,  'Generation_Vintage2025_in2025':GV2025_2025, 'Generation_Vintage2025_in2030':GV2025_2030,\n",
    "          'Generation_Vintage2025_in2035':GV2025_2035,'Generation_Vintage2025_in2040':GV2025_2040,\n",
    "          'Generation_Vintage2025_in2045':GV2025_2045,'Generation_Vintage2025_in2050':GV2025_2050,\n",
    "      'Capacity factor': CF2,\n",
    "                  'ScenarioName':CapCal[\"Scenario\"][1],\n",
    "          #'Capacity Factor': GV2025\n",
    "          'unit':CapCal[\"Unit\"][1]}\n",
    "TCF3=pd.DataFrame(TCF4)\n",
    "#TCF3.to_csv(\"capacityFactorAndEmission.csv\")\n"
   ]
  },
  {
   "cell_type": "code",
   "execution_count": 17,
   "id": "47da7f51",
   "metadata": {},
   "outputs": [],
   "source": [
    "#print(TCF3.head(5))"
   ]
  },
  {
   "cell_type": "code",
   "execution_count": 54,
   "id": "34b0098b",
   "metadata": {},
   "outputs": [
    {
     "name": "stdout",
     "output_type": "stream",
     "text": [
      "35\n"
     ]
    }
   ],
   "source": [
    "CapAdded=[]\n",
    "tech=TCF3[\"Technology\"]\n",
    "Gn2025_2025=TCF3[\"Generation_Vintage2025_in2025\"]\n",
    "nCF=TCF3[\"Capacity factor\"]\n",
    "#print(len(tech))\n",
    "\n",
    "for i in range(len(tech)):\n",
    "    CapAdded.append(Gn2025_2025[i]/(3.6*10**6)*10**18/365/24/nCF[i])#Capacity unit:kW\n",
    "    \n",
    "    #print(GV2025[i],CapAdded[i])\n",
    "    \n",
    "print(len(CapAdded))"
   ]
  },
  {
   "cell_type": "code",
   "execution_count": 57,
   "id": "acd8b876",
   "metadata": {},
   "outputs": [],
   "source": [
    "CapacityAdded={\n",
    "    \"Technology\":tech,\n",
    "    \"Capacity added,kW\":CapAdded\n",
    "}\n",
    "CA2025=pd.DataFrame(CapacityAdded)\n",
    "CA2025.to_csv(\"New Capacity2025.csv\")"
   ]
  },
  {
   "cell_type": "code",
   "execution_count": 58,
   "id": "592e4741",
   "metadata": {},
   "outputs": [
    {
     "name": "stdout",
     "output_type": "stream",
     "text": [
      "38\n"
     ]
    }
   ],
   "source": [
    "CF2030=[]\n",
    "technology_plus_cf=GVin2030Em[\"Technology\"]\n",
    "for technology in technology_plus_cf:\n",
    "    for i in range(len(TechCF)):\n",
    "#         CF.append(tech for cf in CapFac if TechCF[i] in technology)\n",
    "        if TechCF[i] in technology:\n",
    "            CF2030.append(CapFac[i])\n",
    "len(CF2030)\n",
    "\n",
    "GVin2030Em['Capacity factor']=CF2030\n",
    "\n",
    "GVin2030Em.to_csv(\"2030Emission and capacity factors.csv\")\n",
    "\n",
    "CapAdded=[]\n",
    "tech=GVin2030Em[\"Technology\"]\n",
    "Gn2030_2030=GVin2030Em[\"Generation_Vintage2030_in2030\"]\n",
    "nCF=GVin2030Em[\"Capacity factor\"]\n",
    "#print(len(tech))\n",
    "\n",
    "for i in range(len(tech)):\n",
    "    CapAdded.append(Gn2030_2030[i]/(3.6*10**6)*10**18/365/24/nCF[i])#Capacity unit:kW\n",
    "    \n",
    "    #print(GV2025[i],CapAdded[i])\n",
    "    \n",
    "print(len(CapAdded))\n",
    "CapacityAdded={\n",
    "    \"Technology\":tech,\n",
    "    \"Capacity added,kW\":CapAdded\n",
    "}\n",
    "CA2030=pd.DataFrame(CapacityAdded)\n",
    "CA2030.to_csv(\"New Capacity2030.csv\")"
   ]
  },
  {
   "cell_type": "code",
   "execution_count": 59,
   "id": "612a7cb5",
   "metadata": {},
   "outputs": [
    {
     "name": "stdout",
     "output_type": "stream",
     "text": [
      "38\n"
     ]
    }
   ],
   "source": [
    "CF2035=[]\n",
    "technology_plus_cf=GVin2035Em[\"Technology\"]\n",
    "for technology in technology_plus_cf:\n",
    "    for i in range(len(TechCF)):\n",
    "#         CF.append(tech for cf in CapFac if TechCF[i] in technology)\n",
    "        if TechCF[i] in technology:\n",
    "            CF2035.append(CapFac[i])\n",
    "len(CF2035)\n",
    "\n",
    "GVin2035Em['Capacity factor']=CF2035\n",
    "\n",
    "GVin2035Em.to_csv(\"2035Emission and capacity factors.csv\")\n",
    "\n",
    "CapAdded=[]\n",
    "tech=GVin2035Em[\"Technology\"]\n",
    "Gn2035_2035=GVin2035Em[\"Generation_Vintage2035_in2035\"]\n",
    "nCF=GVin2035Em[\"Capacity factor\"]\n",
    "#print(len(tech))\n",
    "\n",
    "for i in range(len(tech)):\n",
    "    CapAdded.append(Gn2035_2035[i]/(3.6*10**6)*10**18/365/24/nCF[i])#Capacity unit:kW\n",
    "\n",
    "    \n",
    "print(len(CapAdded))\n",
    "CapacityAdded={\n",
    "    \"Technology\":tech,\n",
    "    \"Capacity added,kW\":CapAdded\n",
    "}\n",
    "CA2035=pd.DataFrame(CapacityAdded)\n",
    "CA2035.to_csv(\"New Capacity2035.csv\")"
   ]
  },
  {
   "cell_type": "code",
   "execution_count": 60,
   "id": "9746dc32",
   "metadata": {},
   "outputs": [
    {
     "name": "stdout",
     "output_type": "stream",
     "text": [
      "38\n"
     ]
    }
   ],
   "source": [
    "CF2040=[]\n",
    "technology_plus_cf=GVin2040Em[\"Technology\"]\n",
    "for technology in technology_plus_cf:\n",
    "    for i in range(len(TechCF)):\n",
    "#         CF.append(tech for cf in CapFac if TechCF[i] in technology)\n",
    "        if TechCF[i] in technology:\n",
    "            CF2040.append(CapFac[i])\n",
    "len(CF2040)\n",
    "\n",
    "GVin2040Em['Capacity factor']=CF2040\n",
    "\n",
    "GVin2040Em.to_csv(\"2040Emission and capacity factors.csv\")\n",
    "\n",
    "CapAdded=[]\n",
    "tech=GVin2040Em[\"Technology\"]\n",
    "Gn2040_2040=GVin2040Em[\"Generation_Vintage2040_in2040\"]\n",
    "nCF=GVin2040Em[\"Capacity factor\"]\n",
    "#print(len(tech))\n",
    "\n",
    "for i in range(len(tech)):\n",
    "    CapAdded.append(Gn2040_2040[i]/(3.6*10**6)*10**18/365/24/nCF[i])#Capacity unit:kW\n",
    "    \n",
    "\n",
    "    \n",
    "print(len(CapAdded))\n",
    "CapacityAdded={\n",
    "    \"Technology\":tech,\n",
    "    \"Capacity added,kW\":CapAdded\n",
    "}\n",
    "CA2040=pd.DataFrame(CapacityAdded)\n",
    "CA2040.to_csv(\"New Capacity2040.csv\")"
   ]
  },
  {
   "cell_type": "code",
   "execution_count": 61,
   "id": "56228e6f",
   "metadata": {},
   "outputs": [
    {
     "name": "stdout",
     "output_type": "stream",
     "text": [
      "38\n"
     ]
    }
   ],
   "source": [
    "CF2045=[]\n",
    "technology_plus_cf=GVin2045Em[\"Technology\"]\n",
    "for technology in technology_plus_cf:\n",
    "    for i in range(len(TechCF)):\n",
    "#         CF.append(tech for cf in CapFac if TechCF[i] in technology)\n",
    "        if TechCF[i] in technology:\n",
    "            CF2045.append(CapFac[i])\n",
    "len(CF2045)\n",
    "\n",
    "GVin2045Em['Capacity factor']=CF2045\n",
    "\n",
    "GVin2045Em.to_csv(\"2045Emission and capacity factors.csv\")\n",
    "\n",
    "CapAdded=[]\n",
    "tech=GVin2045Em[\"Technology\"]\n",
    "Gn2045_2045=GVin2045Em[\"Generation_Vintage2045_in2045\"]\n",
    "nCF=GVin2045Em[\"Capacity factor\"]\n",
    "#print(len(tech))\n",
    "\n",
    "for i in range(len(tech)):\n",
    "    CapAdded.append(Gn2045_2045[i]/(3.6*10**6)*10**18/365/24/nCF[i])#Capacity unit:kW\n",
    "\n",
    "    \n",
    "print(len(CapAdded))\n",
    "CapacityAdded={\n",
    "    \"Technology\":tech,\n",
    "    \"Capacity added,kW\":CapAdded\n",
    "}\n",
    "CA2045=pd.DataFrame(CapacityAdded)\n",
    "CA2045.to_csv(\"New Capacity2045.csv\")"
   ]
  },
  {
   "cell_type": "code",
   "execution_count": 62,
   "id": "0bfb4ec9",
   "metadata": {},
   "outputs": [
    {
     "name": "stdout",
     "output_type": "stream",
     "text": [
      "38\n"
     ]
    }
   ],
   "source": [
    "CF2050=[]\n",
    "technology_plus_cf=GVin2050Em[\"Technology\"]\n",
    "for technology in technology_plus_cf:\n",
    "    for i in range(len(TechCF)):\n",
    "#         CF.append(tech for cf in CapFac if TechCF[i] in technology)\n",
    "        if TechCF[i] in technology:\n",
    "            CF2050.append(CapFac[i])\n",
    "len(CF2050)\n",
    "\n",
    "GVin2050Em['Capacity factor']=CF2050\n",
    "\n",
    "GVin2050Em.to_csv(\"2050Emission and capacity factors.csv\")\n",
    "\n",
    "CapAdded=[]\n",
    "tech=GVin2050Em[\"Technology\"]\n",
    "Gn2050_2050=GVin2050Em[\"Generation_Vintage2050_in2050\"]\n",
    "nCF=GVin2050Em[\"Capacity factor\"]\n",
    "#print(len(tech))\n",
    "\n",
    "for i in range(len(tech)):\n",
    "    CapAdded.append(Gn2050_2050[i]/(3.6*10**6)*10**18/365/24/nCF[i])#Capacity unit:kW\n",
    "    \n",
    "\n",
    "    \n",
    "print(len(CapAdded))\n",
    "CapacityAdded={\n",
    "    \"Technology\":tech,\n",
    "    \"Capacity added,kW\":CapAdded\n",
    "}\n",
    "CA2050=pd.DataFrame(CapacityAdded)\n",
    "CA2050.to_csv(\"New Capacity2050.csv\")"
   ]
  },
  {
   "cell_type": "code",
   "execution_count": 63,
   "id": "d4e71967",
   "metadata": {},
   "outputs": [],
   "source": [
    "CA=[CA2025,CA2030,CA2035,CA2040,CA2045,CA2050]"
   ]
  },
  {
   "cell_type": "code",
   "execution_count": 66,
   "id": "748f4b40",
   "metadata": {},
   "outputs": [],
   "source": [
    "CA=pd.DataFrame(CA)\n",
    "CA.to_csv(\"New Capacity,pork-only\")"
   ]
  },
  {
   "cell_type": "code",
   "execution_count": null,
   "id": "4b6ebd80",
   "metadata": {},
   "outputs": [],
   "source": []
  }
 ],
 "metadata": {
  "kernelspec": {
   "display_name": "Python 3 (ipykernel)",
   "language": "python",
   "name": "python3"
  },
  "language_info": {
   "codemirror_mode": {
    "name": "ipython",
    "version": 3
   },
   "file_extension": ".py",
   "mimetype": "text/x-python",
   "name": "python",
   "nbconvert_exporter": "python",
   "pygments_lexer": "ipython3",
   "version": "3.9.12"
  }
 },
 "nbformat": 4,
 "nbformat_minor": 5
}
